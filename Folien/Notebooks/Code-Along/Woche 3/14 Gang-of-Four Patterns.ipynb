{
 "cells": [
  {
   "cell_type": "markdown",
   "id": "42d25a1a46e04061",
   "metadata": {
    "lang": "de",
    "slideshow": {
     "slide_type": "slide"
    },
    "tags": [
     "slide"
    ]
   },
   "source": [
    "\n",
    "<img src=\"data:image/svg+xml;base64,PHN2ZyB4bWxucz0iaHR0cDovL3d3dy53My5vcmcvMjAwMC9zdmciIHhtbG5zOnhsaW5rPSJodHRw\n",
    "Oi8vd3d3LnczLm9yZy8xOTk5L3hsaW5rIiB3aWR0aD0iMTExLjE2MSIgaGVpZ2h0PSIxMzQuNjY4\n",
    "IiB2ZXJzaW9uPSIxLjAiPjxkZWZzPjxsaW5lYXJHcmFkaWVudCBpZD0iYyI+PHN0b3Agb2Zmc2V0\n",
    "PSIwIiBzdHlsZT0ic3RvcC1jb2xvcjojYjhiOGI4O3N0b3Atb3BhY2l0eTouNDk4MDM5MjIiLz48\n",
    "c3RvcCBvZmZzZXQ9IjEiIHN0eWxlPSJzdG9wLWNvbG9yOiM3ZjdmN2Y7c3RvcC1vcGFjaXR5OjAi\n",
    "Lz48L2xpbmVhckdyYWRpZW50PjxsaW5lYXJHcmFkaWVudCBpZD0iYSI+PHN0b3Agb2Zmc2V0PSIw\n",
    "IiBzdHlsZT0ic3RvcC1jb2xvcjojZmZkNDNiO3N0b3Atb3BhY2l0eToxIi8+PHN0b3Agb2Zmc2V0\n",
    "PSIxIiBzdHlsZT0ic3RvcC1jb2xvcjojZmZlODczO3N0b3Atb3BhY2l0eToxIi8+PC9saW5lYXJH\n",
    "cmFkaWVudD48bGluZWFyR3JhZGllbnQgaWQ9ImIiPjxzdG9wIG9mZnNldD0iMCIgc3R5bGU9InN0\n",
    "b3AtY29sb3I6IzVhOWZkNDtzdG9wLW9wYWNpdHk6MSIvPjxzdG9wIG9mZnNldD0iMSIgc3R5bGU9\n",
    "InN0b3AtY29sb3I6IzMwNjk5ODtzdG9wLW9wYWNpdHk6MSIvPjwvbGluZWFyR3JhZGllbnQ+PGxp\n",
    "bmVhckdyYWRpZW50IHhsaW5rOmhyZWY9IiNhIiBpZD0iZSIgeDE9IjE1MC45NjEiIHgyPSIxMTIu\n",
    "MDMxIiB5MT0iMTkyLjM1MiIgeTI9IjEzNy4yNzMiIGdyYWRpZW50VHJhbnNmb3JtPSJtYXRyaXgo\n",
    "LjU2MjU0IDAgMCAuNTY3OTcgLTE0Ljk5MSAtMTEuNzAyKSIgZ3JhZGllbnRVbml0cz0idXNlclNw\n",
    "YWNlT25Vc2UiLz48bGluZWFyR3JhZGllbnQgeGxpbms6aHJlZj0iI2IiIGlkPSJkIiB4MT0iMjYu\n",
    "NjQ5IiB4Mj0iMTM1LjY2NSIgeTE9IjIwLjYwNCIgeTI9IjExNC4zOTgiIGdyYWRpZW50VHJhbnNm\n",
    "b3JtPSJtYXRyaXgoLjU2MjU0IDAgMCAuNTY3OTcgLTE0Ljk5MSAtMTEuNzAyKSIgZ3JhZGllbnRV\n",
    "bml0cz0idXNlclNwYWNlT25Vc2UiLz48cmFkaWFsR3JhZGllbnQgeGxpbms6aHJlZj0iI2MiIGlk\n",
    "PSJmIiBjeD0iNjEuNTE5IiBjeT0iMTMyLjI4NiIgcj0iMjkuMDM3IiBmeD0iNjEuNTE5IiBmeT0i\n",
    "MTMyLjI4NiIgZ3JhZGllbnRUcmFuc2Zvcm09Im1hdHJpeCgwIC0uMjM5OTUgMS4wNTQ2NyAwIC04\n",
    "My43IDE0Mi40NjIpIiBncmFkaWVudFVuaXRzPSJ1c2VyU3BhY2VPblVzZSIvPjwvZGVmcz48cGF0\n",
    "aCBkPSJNNTQuOTE5IDBjLTQuNTg0LjAyMi04Ljk2MS40MTMtMTIuODEzIDEuMDk1QzMwLjc2IDMu\n",
    "MDk5IDI4LjcgNy4yOTUgMjguNyAxNS4wMzJ2MTAuMjE5aDI2LjgxM3YzLjQwNkgxOC42MzhjLTcu\n",
    "NzkzIDAtMTQuNjE2IDQuNjg0LTE2Ljc1IDEzLjU5NC0yLjQ2MiAxMC4yMTMtMi41NzEgMTYuNTg2\n",
    "IDAgMjcuMjUgMS45MDUgNy45MzggNi40NTcgMTMuNTk0IDE0LjI1IDEzLjU5NGg5LjIxOHYtMTIu\n",
    "MjVjMC04Ljg1IDcuNjU3LTE2LjY1NyAxNi43NS0xNi42NTdoMjYuNzgyYzcuNDU0IDAgMTMuNDA2\n",
    "LTYuMTM4IDEzLjQwNi0xMy42MjV2LTI1LjUzYzAtNy4yNjctNi4xMy0xMi43MjYtMTMuNDA2LTEz\n",
    "LjkzOEM2NC4yODIuMzI4IDU5LjUwMi0uMDIgNTQuOTE4IDBtLTE0LjUgOC4yMmMyLjc3IDAgNS4w\n",
    "MzEgMi4yOTggNS4wMzEgNS4xMjUgMCAyLjgxNi0yLjI2MiA1LjA5My01LjAzMSA1LjA5My0yLjc4\n",
    "IDAtNS4wMzEtMi4yNzctNS4wMzEtNS4wOTMgMC0yLjgyNyAyLjI1MS01LjEyNSA1LjAzLTUuMTI1\n",
    "IiBzdHlsZT0iZmlsbDp1cmwoI2QpO2ZpbGwtb3BhY2l0eToxIi8+PHBhdGggZD0iTTg1LjYzOCAy\n",
    "OC42NTd2MTEuOTA2YzAgOS4yMzEtNy44MjYgMTctMTYuNzUgMTdINDIuMTA2Yy03LjMzNiAwLTEz\n",
    "LjQwNiA2LjI3OS0xMy40MDYgMTMuNjI1Vjk2LjcyYzAgNy4yNjYgNi4zMTkgMTEuNTQgMTMuNDA2\n",
    "IDEzLjYyNSA4LjQ4OCAyLjQ5NSAxNi42MjcgMi45NDYgMjYuNzgyIDAgNi43NS0xLjk1NSAxMy40\n",
    "MDYtNS44ODggMTMuNDA2LTEzLjYyNVY4Ni41SDU1LjUxM3YtMy40MDVIOTUuN2M3Ljc5MyAwIDEw\n",
    "LjY5Ni01LjQzNiAxMy40MDYtMTMuNTk0IDIuOC04LjM5OSAyLjY4LTE2LjQ3NiAwLTI3LjI1LTEu\n",
    "OTI1LTcuNzU4LTUuNjA0LTEzLjU5NC0xMy40MDYtMTMuNTk0ek03MC41NzUgOTMuMzEzYzIuNzgg\n",
    "MCA1LjAzMSAyLjI3OCA1LjAzMSA1LjA5NCAwIDIuODI3LTIuMjUxIDUuMTI1LTUuMDMxIDUuMTI1\n",
    "LTIuNzcgMC01LjAzMS0yLjI5OC01LjAzMS01LjEyNSAwLTIuODE2IDIuMjYxLTUuMDk0IDUuMDMx\n",
    "LTUuMDk0IiBzdHlsZT0iZmlsbDp1cmwoI2UpO2ZpbGwtb3BhY2l0eToxIi8+PGVsbGlwc2UgY3g9\n",
    "IjU1LjgxNyIgY3k9IjEyNy43MDEiIHJ4PSIzNS45MzEiIHJ5PSI2Ljk2NyIgc3R5bGU9Im9wYWNp\n",
    "dHk6LjQ0MzgyO2ZpbGw6dXJsKCNmKTtmaWxsLW9wYWNpdHk6MTtmaWxsLXJ1bGU6bm9uemVybztz\n",
    "dHJva2U6bm9uZTtzdHJva2Utd2lkdGg6MTUuNDE3NDtzdHJva2UtbWl0ZXJsaW1pdDo0O3N0cm9r\n",
    "ZS1kYXNoYXJyYXk6bm9uZTtzdHJva2Utb3BhY2l0eToxIi8+PC9zdmc+\n",
    "\"\n",
    "     style=\"display:block;margin:auto;width:10%\" alt=\"Python Logo\"/>\n",
    "<br>\n",
    "\n",
    "<div style=\"text-align:center; font-size:200%;\">\n",
    " <b>Gang-of-Four Patterns</b>\n",
    "</div>\n",
    "<br/>\n",
    "<div style=\"text-align:center;\">Dr. Matthias Hölzl</div>\n",
    "<br/>"
   ]
  },
  {
   "cell_type": "markdown",
   "id": "076905dfcb0d06b9",
   "metadata": {
    "lang": "de",
    "slideshow": {
     "slide_type": "slide"
    },
    "tags": [
     "slide"
    ]
   },
   "source": [
    "### Design-Pattern im GoF-Katalog\n",
    "\n",
    "-   **Pattern Name and Classification**\n",
    "    The pattern's name conveys the essence of the pattern succinctly. A\n",
    "    good name is vital, because it will become part of your design\n",
    "    vocabulary.\n",
    "\n",
    "-   **Intent**\n",
    "    A short statement that answers the following question: What does the\n",
    "    design pattern do? What is its rational and intent? What particular\n",
    "    design issue or problem does it address?\n",
    "\n",
    "-   **Also Known As**\n",
    "    Other well-known names for the pattern, if any."
   ]
  },
  {
   "cell_type": "markdown",
   "id": "6727083ae2c9c949",
   "metadata": {
    "lang": "de",
    "lines_to_next_cell": 2,
    "slideshow": {
     "slide_type": "slide"
    },
    "tags": [
     "slide"
    ]
   },
   "source": [
    "### Design-Pattern im GoF-Katalog\n",
    "\n",
    "-   **Motivation**\n",
    "    A scenario that illustrates a design problem and how the class and\n",
    "    object structures in the pattern solve the problem. The scenario will\n",
    "    help you understand the more abstract descriptions of the pattern\n",
    "    that follows.\n",
    "\n",
    "-   **Applicability**\n",
    "    What are the situations in which the design pattern can be applied?\n",
    "    What are examples of poor designs that the pattern can address? How\n",
    "    can you recognize these situations?\n",
    "\n",
    "-   **Structure**\n",
    "    A graphical representation of the classes in the pattern using a\n",
    "    notation based on the Object Modelling Technique (OMT). We also use\n",
    "    interaction diagrams to illustrate sequences of requests and\n",
    "    collaborations between objects."
   ]
  },
  {
   "cell_type": "markdown",
   "id": "64807670ca3e296d",
   "metadata": {
    "lang": "de",
    "lines_to_next_cell": 2,
    "slideshow": {
     "slide_type": "slide"
    },
    "tags": [
     "slide"
    ]
   },
   "source": [
    "\n",
    "### Design-Pattern im GoF-Katalog\n",
    "\n",
    "-   **Participants**\n",
    "    The classes and/or objects participating in the design pattern and\n",
    "    their responsibilities.\n",
    "\n",
    "-   **Collaborations**\n",
    "    How the participants collaborate to carry out their\n",
    "    responsibilities.\n",
    "\n",
    "-   **Consequences**\n",
    "    How does the pattern support its objectives? What are the trade-offs\n",
    "    and results of using the pattern? What aspects of system structure\n",
    "    does it let you vary independently?\n",
    "\n",
    "-   **Implementation**\n",
    "    What pitfalls, hints, or techniques should you be aware of when\n",
    "    implementing the pattern? Are there language-specific issues?"
   ]
  },
  {
   "cell_type": "markdown",
   "id": "a0752ac41944df0a",
   "metadata": {
    "lang": "de",
    "slideshow": {
     "slide_type": "slide"
    },
    "tags": [
     "slide"
    ]
   },
   "source": [
    "### Design-Pattern im GoF-Katalog\n",
    "\n",
    "-   **Sample Code**\n",
    "    Code fragments that illustrate how you might implement the pattern\n",
    "    in C++ or Smalltalk.\n",
    "\n",
    "-   **Known Uses**\n",
    "    Examples of the pattern found in real systems. We include at least\n",
    "    two examples from different domains.\n",
    "\n",
    "-   **Related Patterns**\n",
    "    What design patterns are closely related to this one? What are the\n",
    "    important differences? With which other patterns should this one be\n",
    "    used?"
   ]
  },
  {
   "cell_type": "markdown",
   "id": "55788a94d4c98e6c",
   "metadata": {
    "lang": "de",
    "lines_to_next_cell": 2,
    "slideshow": {
     "slide_type": "slide"
    },
    "tags": [
     "slide"
    ]
   },
   "source": [
    "\n",
    "### Klassifikation der GoF Design Pattern\n",
    "\n",
    "-   **Creational Patterns** (befassen sich mit der Erzeugung von\n",
    "    Objekten)\n",
    "\n",
    "-   **Structural Patterns** (befassen sich mit der strukturellen\n",
    "    Komposition von Klassen oder Objekten)\n",
    "\n",
    "-   **Behavioral Patterns** (befassen sich mit der Interaktion von\n",
    "    Objekten und der Verteilung von Verantwortlichkeiten)"
   ]
  },
  {
   "cell_type": "markdown",
   "id": "af4f87e33ad8ae89",
   "metadata": {
    "lang": "de",
    "lines_to_next_cell": 2,
    "slideshow": {
     "slide_type": "slide"
    },
    "tags": [
     "slide"
    ]
   },
   "source": [
    "### Creational Patterns\n",
    "\n",
    "-   **Abstract Factory** Provide an interface for creating families of\n",
    "    related or dependent objects without specifying their concrete\n",
    "    classes.\n",
    "\n",
    "-   **Builder** Separate the construction of a complex object from its\n",
    "    representation so that the same construction process can create\n",
    "    different representations.\n",
    "\n",
    "-   **Factory Method** Define an interface for creating an object, but\n",
    "    let subclasses decide which class to instantiate. Factory Method\n",
    "    lets a class defer instantiation to subclasses.\n",
    "\n",
    "-   **Prototype** Specify the kinds of objects to create using a\n",
    "    prototypical instance, and create new objects by copying this\n",
    "    prototype.\n",
    "\n",
    "-   **Singleton** Ensure a class only has one instance, and provide a\n",
    "    global point of access to it."
   ]
  },
  {
   "cell_type": "markdown",
   "id": "a6489a608747925d",
   "metadata": {
    "lang": "de",
    "lines_to_next_cell": 2,
    "slideshow": {
     "slide_type": "slide"
    },
    "tags": [
     "slide"
    ]
   },
   "source": [
    "### Structural Patterns\n",
    "\n",
    "-   **Adapter** Convert the interface of a class into another interface\n",
    "    clients expect. Adapter lets classes work together that couldn't\n",
    "    otherwise because of incompatible interfaces.\n",
    "\n",
    "-   **Bridge** Decouple an abstraction from its implementation so that\n",
    "    the two can vary independently.\n",
    "\n",
    "-   **Composite** Compose objects into tree structures to represent\n",
    "    part-whole hierarchies. Composite lets clients treat individual\n",
    "    objects and compositions of objects uniformly."
   ]
  },
  {
   "cell_type": "markdown",
   "id": "ab1aac2863904a49",
   "metadata": {
    "lang": "de",
    "slideshow": {
     "slide_type": "slide"
    },
    "tags": [
     "slide"
    ]
   },
   "source": [
    "### Structural Patterns\n",
    "\n",
    "-   **Decorator** Attach additional responsibilities to an object\n",
    "    dynamically. Decorators provide a flexible alternative to\n",
    "    subclassing for extending functionality.\n",
    "\n",
    "-   **Facade** Provide a unified interface to a set of interfaces in a\n",
    "    subsystem. Facade defines a higher-level interface that makes the\n",
    "    subsystem easier to use.\n",
    "\n",
    "-   **Flyweight** Use sharing to support large numbers of fine-grained\n",
    "    objects efficiently.\n",
    "\n",
    "-   **Proxy** Provide a surrogate or placeholder for another object to\n",
    "    control access to it."
   ]
  },
  {
   "cell_type": "markdown",
   "id": "92bbc73f0d19fc29",
   "metadata": {
    "lang": "de",
    "lines_to_next_cell": 2,
    "slideshow": {
     "slide_type": "slide"
    },
    "tags": [
     "slide"
    ]
   },
   "source": [
    "### Behavioral Patterns\n",
    "\n",
    "-   **Chain of Responsibility** Avoid coupling the sender of a request\n",
    "    to its receiver by giving more than one object a chance to handle\n",
    "    the request. Chain the receiving objects and pass the request along\n",
    "    the chain until an object handles it.\n",
    "\n",
    "-   **Command** Encapsulate a request as an object, thereby letting you\n",
    "    parameterize clients with different requests, queue or log requests,\n",
    "    and support undoable operations.\n",
    "\n",
    "-   **Interpreter** Given a language, define a representation for its\n",
    "    grammar along with an interpreter that uses the representation to\n",
    "    interpret sentences in the language.\n",
    "\n",
    "-   **Iterator** Provide a way to access the elements of an aggregate\n",
    "    object sequentially without exposing its underlying representation."
   ]
  },
  {
   "cell_type": "markdown",
   "id": "94f2095259e91928",
   "metadata": {
    "lang": "de",
    "lines_to_next_cell": 2,
    "slideshow": {
     "slide_type": "slide"
    },
    "tags": [
     "slide"
    ]
   },
   "source": [
    "### Behavioral Patterns\n",
    "\n",
    "-   **Strategy** Define a family of algorithms, encapsulate each one,\n",
    "    and make them interchangeable. Strategy lets the algorithm vary\n",
    "    independently from clients that use it.\n",
    "\n",
    "-   **Template Method** Define the skeleton of an algorithm in an\n",
    "    operation, deferring some steps to subclasses. Template Method lets\n",
    "    subclasses redefine certain steps of an algorithm without changing\n",
    "    the algorithm's structure.\n",
    "\n",
    "-   **Visitor** Represent an operation to be performed on the elements\n",
    "    of an object structure. Visitor lets you define a new operation\n",
    "    without changing the classes of the element on which it operates."
   ]
  }
 ],
 "metadata": {
  "jupytext": {
   "cell_metadata_filter": "tags,lang,-all",
   "main_language": "python",
   "notebook_metadata_filter": "-all"
  },
  "kernelspec": {
   "display_name": "Python 3 (ipykernel)",
   "language": "python",
   "name": "python3"
  },
  "language_info": {
   "codemirror_mode": {
    "name": "ipython",
    "version": 3
   },
   "file_extension": ".py",
   "mimetype": "text/x-python",
   "name": "python",
   "nbconvert_exporter": "python",
   "pygments_lexer": "ipython3"
  }
 },
 "nbformat": 4,
 "nbformat_minor": 5
}
