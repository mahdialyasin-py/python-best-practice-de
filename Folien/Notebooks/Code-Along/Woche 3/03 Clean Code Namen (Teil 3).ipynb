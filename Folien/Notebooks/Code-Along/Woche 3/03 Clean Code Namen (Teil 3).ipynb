{
 "cells": [
  {
   "cell_type": "markdown",
   "id": "e1a92dce47113f59",
   "metadata": {
    "lang": "de",
    "slideshow": {
     "slide_type": "slide"
    },
    "tags": [
     "slide"
    ]
   },
   "source": [
    "\n",
    "<img src=\"data:image/svg+xml;base64,PHN2ZyB4bWxucz0iaHR0cDovL3d3dy53My5vcmcvMjAwMC9zdmciIHhtbG5zOnhsaW5rPSJodHRw\n",
    "Oi8vd3d3LnczLm9yZy8xOTk5L3hsaW5rIiB3aWR0aD0iMTExLjE2MSIgaGVpZ2h0PSIxMzQuNjY4\n",
    "IiB2ZXJzaW9uPSIxLjAiPjxkZWZzPjxsaW5lYXJHcmFkaWVudCBpZD0iYyI+PHN0b3Agb2Zmc2V0\n",
    "PSIwIiBzdHlsZT0ic3RvcC1jb2xvcjojYjhiOGI4O3N0b3Atb3BhY2l0eTouNDk4MDM5MjIiLz48\n",
    "c3RvcCBvZmZzZXQ9IjEiIHN0eWxlPSJzdG9wLWNvbG9yOiM3ZjdmN2Y7c3RvcC1vcGFjaXR5OjAi\n",
    "Lz48L2xpbmVhckdyYWRpZW50PjxsaW5lYXJHcmFkaWVudCBpZD0iYSI+PHN0b3Agb2Zmc2V0PSIw\n",
    "IiBzdHlsZT0ic3RvcC1jb2xvcjojZmZkNDNiO3N0b3Atb3BhY2l0eToxIi8+PHN0b3Agb2Zmc2V0\n",
    "PSIxIiBzdHlsZT0ic3RvcC1jb2xvcjojZmZlODczO3N0b3Atb3BhY2l0eToxIi8+PC9saW5lYXJH\n",
    "cmFkaWVudD48bGluZWFyR3JhZGllbnQgaWQ9ImIiPjxzdG9wIG9mZnNldD0iMCIgc3R5bGU9InN0\n",
    "b3AtY29sb3I6IzVhOWZkNDtzdG9wLW9wYWNpdHk6MSIvPjxzdG9wIG9mZnNldD0iMSIgc3R5bGU9\n",
    "InN0b3AtY29sb3I6IzMwNjk5ODtzdG9wLW9wYWNpdHk6MSIvPjwvbGluZWFyR3JhZGllbnQ+PGxp\n",
    "bmVhckdyYWRpZW50IHhsaW5rOmhyZWY9IiNhIiBpZD0iZSIgeDE9IjE1MC45NjEiIHgyPSIxMTIu\n",
    "MDMxIiB5MT0iMTkyLjM1MiIgeTI9IjEzNy4yNzMiIGdyYWRpZW50VHJhbnNmb3JtPSJtYXRyaXgo\n",
    "LjU2MjU0IDAgMCAuNTY3OTcgLTE0Ljk5MSAtMTEuNzAyKSIgZ3JhZGllbnRVbml0cz0idXNlclNw\n",
    "YWNlT25Vc2UiLz48bGluZWFyR3JhZGllbnQgeGxpbms6aHJlZj0iI2IiIGlkPSJkIiB4MT0iMjYu\n",
    "NjQ5IiB4Mj0iMTM1LjY2NSIgeTE9IjIwLjYwNCIgeTI9IjExNC4zOTgiIGdyYWRpZW50VHJhbnNm\n",
    "b3JtPSJtYXRyaXgoLjU2MjU0IDAgMCAuNTY3OTcgLTE0Ljk5MSAtMTEuNzAyKSIgZ3JhZGllbnRV\n",
    "bml0cz0idXNlclNwYWNlT25Vc2UiLz48cmFkaWFsR3JhZGllbnQgeGxpbms6aHJlZj0iI2MiIGlk\n",
    "PSJmIiBjeD0iNjEuNTE5IiBjeT0iMTMyLjI4NiIgcj0iMjkuMDM3IiBmeD0iNjEuNTE5IiBmeT0i\n",
    "MTMyLjI4NiIgZ3JhZGllbnRUcmFuc2Zvcm09Im1hdHJpeCgwIC0uMjM5OTUgMS4wNTQ2NyAwIC04\n",
    "My43IDE0Mi40NjIpIiBncmFkaWVudFVuaXRzPSJ1c2VyU3BhY2VPblVzZSIvPjwvZGVmcz48cGF0\n",
    "aCBkPSJNNTQuOTE5IDBjLTQuNTg0LjAyMi04Ljk2MS40MTMtMTIuODEzIDEuMDk1QzMwLjc2IDMu\n",
    "MDk5IDI4LjcgNy4yOTUgMjguNyAxNS4wMzJ2MTAuMjE5aDI2LjgxM3YzLjQwNkgxOC42MzhjLTcu\n",
    "NzkzIDAtMTQuNjE2IDQuNjg0LTE2Ljc1IDEzLjU5NC0yLjQ2MiAxMC4yMTMtMi41NzEgMTYuNTg2\n",
    "IDAgMjcuMjUgMS45MDUgNy45MzggNi40NTcgMTMuNTk0IDE0LjI1IDEzLjU5NGg5LjIxOHYtMTIu\n",
    "MjVjMC04Ljg1IDcuNjU3LTE2LjY1NyAxNi43NS0xNi42NTdoMjYuNzgyYzcuNDU0IDAgMTMuNDA2\n",
    "LTYuMTM4IDEzLjQwNi0xMy42MjV2LTI1LjUzYzAtNy4yNjctNi4xMy0xMi43MjYtMTMuNDA2LTEz\n",
    "LjkzOEM2NC4yODIuMzI4IDU5LjUwMi0uMDIgNTQuOTE4IDBtLTE0LjUgOC4yMmMyLjc3IDAgNS4w\n",
    "MzEgMi4yOTggNS4wMzEgNS4xMjUgMCAyLjgxNi0yLjI2MiA1LjA5My01LjAzMSA1LjA5My0yLjc4\n",
    "IDAtNS4wMzEtMi4yNzctNS4wMzEtNS4wOTMgMC0yLjgyNyAyLjI1MS01LjEyNSA1LjAzLTUuMTI1\n",
    "IiBzdHlsZT0iZmlsbDp1cmwoI2QpO2ZpbGwtb3BhY2l0eToxIi8+PHBhdGggZD0iTTg1LjYzOCAy\n",
    "OC42NTd2MTEuOTA2YzAgOS4yMzEtNy44MjYgMTctMTYuNzUgMTdINDIuMTA2Yy03LjMzNiAwLTEz\n",
    "LjQwNiA2LjI3OS0xMy40MDYgMTMuNjI1Vjk2LjcyYzAgNy4yNjYgNi4zMTkgMTEuNTQgMTMuNDA2\n",
    "IDEzLjYyNSA4LjQ4OCAyLjQ5NSAxNi42MjcgMi45NDYgMjYuNzgyIDAgNi43NS0xLjk1NSAxMy40\n",
    "MDYtNS44ODggMTMuNDA2LTEzLjYyNVY4Ni41SDU1LjUxM3YtMy40MDVIOTUuN2M3Ljc5MyAwIDEw\n",
    "LjY5Ni01LjQzNiAxMy40MDYtMTMuNTk0IDIuOC04LjM5OSAyLjY4LTE2LjQ3NiAwLTI3LjI1LTEu\n",
    "OTI1LTcuNzU4LTUuNjA0LTEzLjU5NC0xMy40MDYtMTMuNTk0ek03MC41NzUgOTMuMzEzYzIuNzgg\n",
    "MCA1LjAzMSAyLjI3OCA1LjAzMSA1LjA5NCAwIDIuODI3LTIuMjUxIDUuMTI1LTUuMDMxIDUuMTI1\n",
    "LTIuNzcgMC01LjAzMS0yLjI5OC01LjAzMS01LjEyNSAwLTIuODE2IDIuMjYxLTUuMDk0IDUuMDMx\n",
    "LTUuMDk0IiBzdHlsZT0iZmlsbDp1cmwoI2UpO2ZpbGwtb3BhY2l0eToxIi8+PGVsbGlwc2UgY3g9\n",
    "IjU1LjgxNyIgY3k9IjEyNy43MDEiIHJ4PSIzNS45MzEiIHJ5PSI2Ljk2NyIgc3R5bGU9Im9wYWNp\n",
    "dHk6LjQ0MzgyO2ZpbGw6dXJsKCNmKTtmaWxsLW9wYWNpdHk6MTtmaWxsLXJ1bGU6bm9uemVybztz\n",
    "dHJva2U6bm9uZTtzdHJva2Utd2lkdGg6MTUuNDE3NDtzdHJva2UtbWl0ZXJsaW1pdDo0O3N0cm9r\n",
    "ZS1kYXNoYXJyYXk6bm9uZTtzdHJva2Utb3BhY2l0eToxIi8+PC9zdmc+\n",
    "\"\n",
    "     style=\"display:block;margin:auto;width:10%\" alt=\"Python Logo\"/>\n",
    "<br>\n",
    "\n",
    "<div style=\"text-align:center; font-size:200%;\">\n",
    " <b>Clean Code: Namen (Teil 3)</b>\n",
    "</div>\n",
    "<br/>\n",
    "<div style=\"text-align:center;\">Dr. Matthias Hölzl</div>\n",
    "<br/>"
   ]
  },
  {
   "cell_type": "markdown",
   "id": "8bf9311dfe34339d",
   "metadata": {
    "lang": "de",
    "lines_to_next_cell": 2,
    "slideshow": {
     "slide_type": "slide"
    },
    "tags": [
     "slide"
    ]
   },
   "source": [
    "\n",
    "## Disinformation und sinnvolle Unterscheidungen\n",
    "\n",
    "- Namen bedeuten etwas\n",
    "- Disinformation:\n",
    "  - Die Bedeutung des Namens impliziert etwas anderes als der Programmcode:"
   ]
  },
  {
   "cell_type": "code",
   "execution_count": null,
   "id": "11dc0cb05ae0add4",
   "metadata": {
    "tags": [
     "keep"
    ]
   },
   "outputs": [],
   "source": [
    "verify_configuration = False"
   ]
  },
  {
   "cell_type": "code",
   "execution_count": null,
   "id": "2a43500bc3a4a3ed",
   "metadata": {
    "tags": [
     "keep"
    ]
   },
   "outputs": [],
   "source": [
    "if verify_configuration:\n",
    "    print(\"Deleting configuration files...\")"
   ]
  },
  {
   "cell_type": "code",
   "execution_count": null,
   "id": "723929ddcb3cf8ac",
   "metadata": {
    "slideshow": {
     "slide_type": "subslide"
    },
    "tags": [
     "subslide",
     "keep"
    ]
   },
   "outputs": [],
   "source": [
    "from typing import NamedTuple"
   ]
  },
  {
   "cell_type": "code",
   "execution_count": null,
   "id": "632c291b43e5ac7e",
   "metadata": {
    "tags": [
     "keep"
    ]
   },
   "outputs": [],
   "source": [
    "class Pair(NamedTuple): ### ->> class Triple(NamedTuple)\n",
    "    first: int\n",
    "    second: int\n",
    "    third: int"
   ]
  },
  {
   "cell_type": "markdown",
   "id": "37cfafc462fcca1e",
   "metadata": {
    "lang": "de",
    "slideshow": {
     "slide_type": "subslide"
    },
    "tags": [
     "subslide"
    ]
   },
   "source": [
    "\n",
    "## Regeln zur Vermeidung von Disinformation\n",
    "\n",
    "- Nimm keinen Typ in einen Variablennamen auf, wenn die Variable nicht von\n",
    "  diesem Typ ist\n",
    "  - Meistens: Gib überhaupt keinen Typ in einem Variablennamen an"
   ]
  },
  {
   "cell_type": "code",
   "execution_count": null,
   "id": "f825390d747eea5c",
   "metadata": {
    "tags": [
     "keep"
    ]
   },
   "outputs": [],
   "source": [
    "vector_of_cards: int = 0"
   ]
  },
  {
   "cell_type": "code",
   "execution_count": null,
   "id": "f8200c28cc4f9e9b",
   "metadata": {},
   "outputs": [],
   "source": [
    "num_card = 0"
   ]
  },
  {
   "cell_type": "code",
   "execution_count": null,
   "id": "33684b267b851ce3",
   "metadata": {},
   "outputs": [],
   "source": [
    "card_deck: list = [...]"
   ]
  },
  {
   "cell_type": "markdown",
   "id": "d65d5f16a9470385",
   "metadata": {
    "lang": "de",
    "slideshow": {
     "slide_type": "subslide"
    },
    "tags": [
     "subslide"
    ]
   },
   "source": [
    "\n",
    "## Regeln zur Vermeidung von Disinformation\n",
    "\n",
    "- Sei vorsichtig mit Namen, die sich nur geringfügig unterscheiden"
   ]
  },
  {
   "cell_type": "code",
   "execution_count": null,
   "id": "28563f3337de0eaf",
   "metadata": {
    "tags": [
     "keep"
    ]
   },
   "outputs": [],
   "source": [
    "is_melee_defence_available = True\n",
    "is_melee_defense_available = False"
   ]
  },
  {
   "cell_type": "code",
   "execution_count": null,
   "id": "387812f7213f9bb2",
   "metadata": {
    "tags": [
     "keep"
    ]
   },
   "outputs": [],
   "source": [
    "print(is_melee_defence_available == is_melee_defense_available)  # Oops..."
   ]
  },
  {
   "cell_type": "markdown",
   "id": "2b0ec54f8c1db7dd",
   "metadata": {
    "lang": "de",
    "slideshow": {
     "slide_type": "subslide"
    },
    "tags": [
     "subslide"
    ]
   },
   "source": [
    "\n",
    "## Regeln zur Vermeidung von Disinformation\n",
    "\n",
    "- Benutze Namen, die etwas bedeuten"
   ]
  },
  {
   "cell_type": "code",
   "execution_count": null,
   "id": "34a4f6a519e5e16e",
   "metadata": {
    "tags": [
     "keep"
    ]
   },
   "outputs": [],
   "source": [
    "foobar = 0\n",
    "bar = 1"
   ]
  },
  {
   "cell_type": "code",
   "execution_count": null,
   "id": "c5a77a51235bef1f",
   "metadata": {},
   "outputs": [],
   "source": [
    "number_of_visitors = 0\n",
    "day_till_release = 1"
   ]
  },
  {
   "cell_type": "markdown",
   "id": "da4869d9d088009d",
   "metadata": {
    "lang": "de",
    "slideshow": {
     "slide_type": "subslide"
    },
    "tags": [
     "subslide"
    ]
   },
   "source": [
    "\n",
    "## Regeln zur Vermeidung von Disinformation\n",
    "\n",
    "- Sei bei der Namensgebung konsistent"
   ]
  },
  {
   "cell_type": "code",
   "execution_count": null,
   "id": "4c17fb4eea8c5b6f",
   "metadata": {
    "tags": [
     "keep"
    ]
   },
   "outputs": [],
   "source": [
    "number_of_objects = 10\n",
    "num_buyers = 12\n",
    "n_transactions = 2"
   ]
  },
  {
   "cell_type": "code",
   "execution_count": null,
   "id": "751389c8564d25c7",
   "metadata": {},
   "outputs": [],
   "source": [
    "num_of_objects = 10\n",
    "num_buyers = 12\n",
    "num_transactions = 2"
   ]
  },
  {
   "cell_type": "code",
   "execution_count": null,
   "id": "dd790cd44be8c016",
   "metadata": {},
   "outputs": [],
   "source": [
    "n_of_objects = 10\n",
    "n_buyers = 12\n",
    "n_transactions = 2"
   ]
  },
  {
   "cell_type": "markdown",
   "id": "e73397120fa2b3df",
   "metadata": {
    "lang": "de",
    "lines_to_next_cell": 2,
    "slideshow": {
     "slide_type": "slide"
    },
    "tags": [
     "slide"
    ]
   },
   "source": [
    "\n",
    "## Sinnvolle Unterscheidungen\n",
    "\n",
    "- Verwende Namen, die die Bedeutung der Konzepte so klar wie möglich ausdrücken"
   ]
  },
  {
   "cell_type": "code",
   "execution_count": null,
   "id": "7fe98c61d90efa0a",
   "metadata": {
    "tags": [
     "keep"
    ]
   },
   "outputs": [],
   "source": [
    "a1 = \"Fluffy\"\n",
    "a2 = \"Garfield\""
   ]
  },
  {
   "cell_type": "code",
   "execution_count": null,
   "id": "276618bdfedb784d",
   "metadata": {},
   "outputs": [],
   "source": [
    "my_dog = \"Fluffy\"\n",
    "jons_cat = \"Garfield\""
   ]
  },
  {
   "cell_type": "code",
   "execution_count": null,
   "id": "de155fb4dedf8d41",
   "metadata": {
    "slideshow": {
     "slide_type": "subslide"
    },
    "tags": [
     "keep",
     "subslide"
    ]
   },
   "outputs": [],
   "source": [
    "INCLUDE_NONE = 0\n",
    "INCLUDE_FIRST = 1\n",
    "INCLUDE_SECOND = 2\n",
    "INCLUDE_BOTH = 3"
   ]
  },
  {
   "cell_type": "code",
   "execution_count": null,
   "id": "022e9b0746178a8b",
   "metadata": {
    "tags": [
     "keep"
    ]
   },
   "outputs": [],
   "source": [
    "INCLUDE_NO_DATE = 0\n",
    "INCLUDE_START_DATE = 1\n",
    "INCLUDE_END_DATE = 2\n",
    "INCLUDE_START_AND_END_DATE = 3"
   ]
  },
  {
   "cell_type": "code",
   "execution_count": 1,
   "id": "70f9987ea3d29da2",
   "metadata": {
    "tags": [
     "keep"
    ]
   },
   "outputs": [],
   "source": [
    "from enum import IntEnum"
   ]
  },
  {
   "cell_type": "code",
   "execution_count": null,
   "id": "fb308d228763982c",
   "metadata": {
    "lines_to_next_cell": 2
   },
   "outputs": [],
   "source": [
    "class DatesToInclude(IntEnum):\n",
    "    NONE = 0\n",
    "    START = 1\n",
    "    END = 2\n",
    "    START_AND_END = 3"
   ]
  },
  {
   "cell_type": "markdown",
   "id": "8baf9d2bb4ba1556",
   "metadata": {
    "lang": "de",
    "lines_to_next_cell": 2,
    "slideshow": {
     "slide_type": "subslide"
    },
    "tags": [
     "subslide"
    ]
   },
   "source": [
    "\n",
    "## Sinnvolle Unterscheidungen\n",
    "\n",
    "- Verwende denselben Namen für dasselbe Konzept"
   ]
  },
  {
   "cell_type": "code",
   "execution_count": null,
   "id": "9e75407fd2e80eea",
   "metadata": {
    "slideshow": {
     "slide_type": "subslide"
    },
    "tags": [
     "keep",
     "subslide"
    ]
   },
   "outputs": [],
   "source": [
    "from pathlib import Path"
   ]
  },
  {
   "cell_type": "code",
   "execution_count": null,
   "id": "1f25492aa9d2083f",
   "metadata": {
    "tags": [
     "keep"
    ]
   },
   "outputs": [],
   "source": [
    "my_path = Path.home()\n",
    "your_dir = Path.home()\n",
    "file_loc = Path.home()"
   ]
  },
  {
   "cell_type": "code",
   "execution_count": null,
   "id": "ef272ce360f99ac8",
   "metadata": {
    "tags": [
     "keep"
    ]
   },
   "outputs": [],
   "source": [
    "my_path = Path.home()\n",
    "your_path = Path.home()\n",
    "file_path = Path.home()"
   ]
  },
  {
   "cell_type": "code",
   "execution_count": null,
   "id": "56024aa9d3ac262f",
   "metadata": {
    "tags": [
     "keep"
    ]
   },
   "outputs": [],
   "source": [
    "my_dir = Path.home()\n",
    "your_dir = Path.home()\n",
    "file_dir = Path.home()"
   ]
  },
  {
   "cell_type": "markdown",
   "id": "44ac975557baee77",
   "metadata": {
    "lang": "de",
    "slideshow": {
     "slide_type": "subslide"
    },
    "tags": [
     "subslide"
    ]
   },
   "source": [
    "\n",
    "## Workshop: Namen in existierendem Code\n",
    "\n",
    "- Analysieren Sie ein Programm, an dem Sie arbeiten ob die Namen gut sind\n",
    "- Verbessern Sie die Namen, falls das möglich ist\n",
    "  - Achten Sie aber darauf, dass Sie nicht gegen die Coding-Standards\n",
    "    des Projekts verstoßen\n",
    "- Verbessert sich die Lesbarkeit des Codes?\n",
    "- Diskutieren Sie Ihre Ergebnisse mit Ihren Kollegen"
   ]
  }
 ],
 "metadata": {
  "jupytext": {
   "cell_metadata_filter": "tags,lang,-all",
   "main_language": "python",
   "notebook_metadata_filter": "-all"
  },
  "kernelspec": {
   "display_name": "venv",
   "language": "python",
   "name": "python3"
  },
  "language_info": {
   "codemirror_mode": {
    "name": "ipython",
    "version": 3
   },
   "file_extension": ".py",
   "mimetype": "text/x-python",
   "name": "python",
   "nbconvert_exporter": "python",
   "pygments_lexer": "ipython3",
   "version": "3.13.2"
  }
 },
 "nbformat": 4,
 "nbformat_minor": 5
}
