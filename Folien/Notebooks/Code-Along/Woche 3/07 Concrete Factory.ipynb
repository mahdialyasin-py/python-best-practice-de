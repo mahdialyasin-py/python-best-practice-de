{
 "cells": [
  {
   "cell_type": "markdown",
   "id": "ed7e0ed987285d45",
   "metadata": {
    "lang": "de",
    "slideshow": {
     "slide_type": "slide"
    },
    "tags": [
     "slide"
    ]
   },
   "source": [
    "\n",
    "<img src=\"data:image/svg+xml;base64,PHN2ZyB4bWxucz0iaHR0cDovL3d3dy53My5vcmcvMjAwMC9zdmciIHhtbG5zOnhsaW5rPSJodHRw\n",
    "Oi8vd3d3LnczLm9yZy8xOTk5L3hsaW5rIiB3aWR0aD0iMTExLjE2MSIgaGVpZ2h0PSIxMzQuNjY4\n",
    "IiB2ZXJzaW9uPSIxLjAiPjxkZWZzPjxsaW5lYXJHcmFkaWVudCBpZD0iYyI+PHN0b3Agb2Zmc2V0\n",
    "PSIwIiBzdHlsZT0ic3RvcC1jb2xvcjojYjhiOGI4O3N0b3Atb3BhY2l0eTouNDk4MDM5MjIiLz48\n",
    "c3RvcCBvZmZzZXQ9IjEiIHN0eWxlPSJzdG9wLWNvbG9yOiM3ZjdmN2Y7c3RvcC1vcGFjaXR5OjAi\n",
    "Lz48L2xpbmVhckdyYWRpZW50PjxsaW5lYXJHcmFkaWVudCBpZD0iYSI+PHN0b3Agb2Zmc2V0PSIw\n",
    "IiBzdHlsZT0ic3RvcC1jb2xvcjojZmZkNDNiO3N0b3Atb3BhY2l0eToxIi8+PHN0b3Agb2Zmc2V0\n",
    "PSIxIiBzdHlsZT0ic3RvcC1jb2xvcjojZmZlODczO3N0b3Atb3BhY2l0eToxIi8+PC9saW5lYXJH\n",
    "cmFkaWVudD48bGluZWFyR3JhZGllbnQgaWQ9ImIiPjxzdG9wIG9mZnNldD0iMCIgc3R5bGU9InN0\n",
    "b3AtY29sb3I6IzVhOWZkNDtzdG9wLW9wYWNpdHk6MSIvPjxzdG9wIG9mZnNldD0iMSIgc3R5bGU9\n",
    "InN0b3AtY29sb3I6IzMwNjk5ODtzdG9wLW9wYWNpdHk6MSIvPjwvbGluZWFyR3JhZGllbnQ+PGxp\n",
    "bmVhckdyYWRpZW50IHhsaW5rOmhyZWY9IiNhIiBpZD0iZSIgeDE9IjE1MC45NjEiIHgyPSIxMTIu\n",
    "MDMxIiB5MT0iMTkyLjM1MiIgeTI9IjEzNy4yNzMiIGdyYWRpZW50VHJhbnNmb3JtPSJtYXRyaXgo\n",
    "LjU2MjU0IDAgMCAuNTY3OTcgLTE0Ljk5MSAtMTEuNzAyKSIgZ3JhZGllbnRVbml0cz0idXNlclNw\n",
    "YWNlT25Vc2UiLz48bGluZWFyR3JhZGllbnQgeGxpbms6aHJlZj0iI2IiIGlkPSJkIiB4MT0iMjYu\n",
    "NjQ5IiB4Mj0iMTM1LjY2NSIgeTE9IjIwLjYwNCIgeTI9IjExNC4zOTgiIGdyYWRpZW50VHJhbnNm\n",
    "b3JtPSJtYXRyaXgoLjU2MjU0IDAgMCAuNTY3OTcgLTE0Ljk5MSAtMTEuNzAyKSIgZ3JhZGllbnRV\n",
    "bml0cz0idXNlclNwYWNlT25Vc2UiLz48cmFkaWFsR3JhZGllbnQgeGxpbms6aHJlZj0iI2MiIGlk\n",
    "PSJmIiBjeD0iNjEuNTE5IiBjeT0iMTMyLjI4NiIgcj0iMjkuMDM3IiBmeD0iNjEuNTE5IiBmeT0i\n",
    "MTMyLjI4NiIgZ3JhZGllbnRUcmFuc2Zvcm09Im1hdHJpeCgwIC0uMjM5OTUgMS4wNTQ2NyAwIC04\n",
    "My43IDE0Mi40NjIpIiBncmFkaWVudFVuaXRzPSJ1c2VyU3BhY2VPblVzZSIvPjwvZGVmcz48cGF0\n",
    "aCBkPSJNNTQuOTE5IDBjLTQuNTg0LjAyMi04Ljk2MS40MTMtMTIuODEzIDEuMDk1QzMwLjc2IDMu\n",
    "MDk5IDI4LjcgNy4yOTUgMjguNyAxNS4wMzJ2MTAuMjE5aDI2LjgxM3YzLjQwNkgxOC42MzhjLTcu\n",
    "NzkzIDAtMTQuNjE2IDQuNjg0LTE2Ljc1IDEzLjU5NC0yLjQ2MiAxMC4yMTMtMi41NzEgMTYuNTg2\n",
    "IDAgMjcuMjUgMS45MDUgNy45MzggNi40NTcgMTMuNTk0IDE0LjI1IDEzLjU5NGg5LjIxOHYtMTIu\n",
    "MjVjMC04Ljg1IDcuNjU3LTE2LjY1NyAxNi43NS0xNi42NTdoMjYuNzgyYzcuNDU0IDAgMTMuNDA2\n",
    "LTYuMTM4IDEzLjQwNi0xMy42MjV2LTI1LjUzYzAtNy4yNjctNi4xMy0xMi43MjYtMTMuNDA2LTEz\n",
    "LjkzOEM2NC4yODIuMzI4IDU5LjUwMi0uMDIgNTQuOTE4IDBtLTE0LjUgOC4yMmMyLjc3IDAgNS4w\n",
    "MzEgMi4yOTggNS4wMzEgNS4xMjUgMCAyLjgxNi0yLjI2MiA1LjA5My01LjAzMSA1LjA5My0yLjc4\n",
    "IDAtNS4wMzEtMi4yNzctNS4wMzEtNS4wOTMgMC0yLjgyNyAyLjI1MS01LjEyNSA1LjAzLTUuMTI1\n",
    "IiBzdHlsZT0iZmlsbDp1cmwoI2QpO2ZpbGwtb3BhY2l0eToxIi8+PHBhdGggZD0iTTg1LjYzOCAy\n",
    "OC42NTd2MTEuOTA2YzAgOS4yMzEtNy44MjYgMTctMTYuNzUgMTdINDIuMTA2Yy03LjMzNiAwLTEz\n",
    "LjQwNiA2LjI3OS0xMy40MDYgMTMuNjI1Vjk2LjcyYzAgNy4yNjYgNi4zMTkgMTEuNTQgMTMuNDA2\n",
    "IDEzLjYyNSA4LjQ4OCAyLjQ5NSAxNi42MjcgMi45NDYgMjYuNzgyIDAgNi43NS0xLjk1NSAxMy40\n",
    "MDYtNS44ODggMTMuNDA2LTEzLjYyNVY4Ni41SDU1LjUxM3YtMy40MDVIOTUuN2M3Ljc5MyAwIDEw\n",
    "LjY5Ni01LjQzNiAxMy40MDYtMTMuNTk0IDIuOC04LjM5OSAyLjY4LTE2LjQ3NiAwLTI3LjI1LTEu\n",
    "OTI1LTcuNzU4LTUuNjA0LTEzLjU5NC0xMy40MDYtMTMuNTk0ek03MC41NzUgOTMuMzEzYzIuNzgg\n",
    "MCA1LjAzMSAyLjI3OCA1LjAzMSA1LjA5NCAwIDIuODI3LTIuMjUxIDUuMTI1LTUuMDMxIDUuMTI1\n",
    "LTIuNzcgMC01LjAzMS0yLjI5OC01LjAzMS01LjEyNSAwLTIuODE2IDIuMjYxLTUuMDk0IDUuMDMx\n",
    "LTUuMDk0IiBzdHlsZT0iZmlsbDp1cmwoI2UpO2ZpbGwtb3BhY2l0eToxIi8+PGVsbGlwc2UgY3g9\n",
    "IjU1LjgxNyIgY3k9IjEyNy43MDEiIHJ4PSIzNS45MzEiIHJ5PSI2Ljk2NyIgc3R5bGU9Im9wYWNp\n",
    "dHk6LjQ0MzgyO2ZpbGw6dXJsKCNmKTtmaWxsLW9wYWNpdHk6MTtmaWxsLXJ1bGU6bm9uemVybztz\n",
    "dHJva2U6bm9uZTtzdHJva2Utd2lkdGg6MTUuNDE3NDtzdHJva2UtbWl0ZXJsaW1pdDo0O3N0cm9r\n",
    "ZS1kYXNoYXJyYXk6bm9uZTtzdHJva2Utb3BhY2l0eToxIi8+PC9zdmc+\n",
    "\"\n",
    "     style=\"display:block;margin:auto;width:10%\" alt=\"Python Logo\"/>\n",
    "<br>\n",
    "\n",
    "<div style=\"text-align:center; font-size:200%;\">\n",
    " <b>Concrete Factory</b>\n",
    "</div>\n",
    "<br/>\n",
    "<div style=\"text-align:center;\">Dr. Matthias Hölzl</div>\n",
    "<br/>"
   ]
  },
  {
   "cell_type": "markdown",
   "id": "88def758733966eb",
   "metadata": {
    "lang": "de",
    "slideshow": {
     "slide_type": "slide"
    },
    "tags": [
     "slide"
    ]
   },
   "source": [
    "\n",
    "### Adventure Game Version 2b\n",
    "\n",
    "- Zuweisung von Funktionalität zu `World` und `Location` ist sinnvoll\n",
    "- `World` ist in Gefahr ist, zu viele \"Änderungsgründe\" zu haben\n",
    "  - Änderungen an der Implementierung der Spiele-Welt\n",
    "  - Änderungen an den Initialisierungsdaten (z.B. XML statt JSON)\n",
    "- Können wir das vermeiden?"
   ]
  },
  {
   "cell_type": "markdown",
   "id": "4e96ffc4ac96c5c4",
   "metadata": {
    "lang": "de",
    "slideshow": {
     "slide_type": "subslide"
    },
    "tags": [
     "subslide"
    ]
   },
   "source": [
    "\n",
    "# Concrete Factory (Simple Factory)\n",
    "\n",
    "- Einfachere Version des Abstract Factory Patterns aus dem GoF Buch\n",
    "\n",
    "### Frage\n",
    "\n",
    "- Wer soll ein Objekt erzeugen, wenn es Umstände gibt, die gegen Creator\n",
    "  sprechen?\n",
    "  - Komplexe Logik zur Erzeugung\n",
    "  - SRP/Kohäsion\n",
    "  - Viele Parameter zur Erzeugung notwendig\n",
    "\n",
    "### Antwort\n",
    "\n",
    "- Eine Klasse, die nur für die Erzeugung von Objekten zuständig ist\n",
    "- Diese Klassen werden oft als *Factory* bezeichnet"
   ]
  },
  {
   "cell_type": "code",
   "execution_count": 1,
   "id": "4b65ee763d30732c",
   "metadata": {
    "slideshow": {
     "slide_type": "subslide"
    },
    "tags": [
     "keep",
     "subslide"
    ]
   },
   "outputs": [],
   "source": [
    "import json\n",
    "from dataclasses import dataclass, field\n",
    "from pathlib import Path\n",
    "from pprint import pprint\n",
    "from typing import Any, Mapping, Sequence"
   ]
  },
  {
   "cell_type": "code",
   "execution_count": 2,
   "id": "076997a98c4e9424",
   "metadata": {
    "tags": [
     "keep"
    ]
   },
   "outputs": [],
   "source": [
    "json_file = list(Path().glob(\"**/simple-locations.json\"))[0]\n",
    "with open(json_file) as file:\n",
    "    simple_locations = json.load(file)"
   ]
  },
  {
   "cell_type": "code",
   "execution_count": 3,
   "id": "e0a6f266bee1ba21",
   "metadata": {
    "slideshow": {
     "slide_type": "subslide"
    },
    "tags": [
     "keep",
     "subslide"
    ]
   },
   "outputs": [],
   "source": [
    "LocationDescription = Mapping[str, Any]\n",
    "LocationDescriptions = Sequence[LocationDescription]"
   ]
  },
  {
   "cell_type": "code",
   "execution_count": 6,
   "id": "2f7821fdc1fb9ed9",
   "metadata": {
    "lines_to_next_cell": 2,
    "tags": [
     "keep"
    ]
   },
   "outputs": [],
   "source": [
    "@dataclass\n",
    "class Location:\n",
    "    name: str\n",
    "    description: str = \"\"\n",
    "    connections: dict[str, \"Location\"] = field(default_factory=dict)\n",
    "\n",
    "    @classmethod\n",
    "    def from_description(cls, data: LocationDescription) -> \"Location\":\n",
    "        return cls(data[\"name\"], data.get(\"description\", \"\"))\n",
    "\n",
    "    def __getitem__(self, direction: str) -> \"Location | None\":\n",
    "        return self.connections.get(direction)"
   ]
  },
  {
   "cell_type": "code",
   "execution_count": 7,
   "id": "ff3c5384aef68965",
   "metadata": {
    "lines_to_next_cell": 2,
    "slideshow": {
     "slide_type": "subslide"
    },
    "tags": [
     "keep",
     "subslide"
    ]
   },
   "outputs": [],
   "source": [
    "def _build_connections_for_all_locations(\n",
    "    locations: dict[str, Location], location_descriptions: LocationDescriptions\n",
    "):\n",
    "    for location_description in location_descriptions:\n",
    "        connections = {\n",
    "            direction: locations[name]\n",
    "            for direction, name in location_description.get(\"connections\", {}).items()\n",
    "        }\n",
    "        locations[location_description[\"name\"]].connections = connections"
   ]
  },
  {
   "cell_type": "code",
   "execution_count": 8,
   "id": "032e9d582abdee98",
   "metadata": {
    "slideshow": {
     "slide_type": "subslide"
    },
    "tags": [
     "start",
     "subslide"
    ]
   },
   "outputs": [],
   "source": [
    "@dataclass\n",
    "class World:\n",
    "    locations: dict[str, Location]\n",
    "    initial_location_name: str\n",
    "\n",
    "    def __getitem__(self, location_name: str):\n",
    "        return self.locations[location_name]\n",
    "\n"
   ]
  },
  {
   "cell_type": "markdown",
   "id": "2e145ad4c8a1c88e",
   "metadata": {
    "lang": "de",
    "slideshow": {
     "slide_type": "subslide"
    },
    "tags": [
     "subslide"
    ]
   },
   "source": [
    "\n",
    "## Die `WorldFactory`-Klasse"
   ]
  },
  {
   "cell_type": "code",
   "execution_count": 9,
   "id": "6a06c25d047b132d",
   "metadata": {},
   "outputs": [],
   "source": [
    "@dataclass\n",
    "class WorldFactroy:\n",
    "    @staticmethod\n",
    "    def create(location_descriptions: LocationDescriptions):\n",
    "        locations = {\n",
    "            data[\"name\"]: Location.from_description(data)\n",
    "            for data in location_descriptions\n",
    "        }\n",
    "        initial_location_name = location_descriptions[0][\"name\"]\n",
    "        _build_connections_for_all_locations(locations, location_descriptions)\n",
    "        return World(locations, initial_location_name)"
   ]
  },
  {
   "cell_type": "markdown",
   "id": "bc6a021dc2a38097",
   "metadata": {
    "lang": "de",
    "slideshow": {
     "slide_type": "subslide"
    },
    "tags": [
     "subslide"
    ]
   },
   "source": [
    "\n",
    "### Verwendung der Factory"
   ]
  },
  {
   "cell_type": "code",
   "execution_count": 10,
   "id": "eab9337729680295",
   "metadata": {},
   "outputs": [],
   "source": [
    "factroy = WorldFactroy()"
   ]
  },
  {
   "cell_type": "code",
   "execution_count": 11,
   "id": "836cde071ae2082f",
   "metadata": {},
   "outputs": [],
   "source": [
    "world = factroy.create(simple_locations)"
   ]
  },
  {
   "cell_type": "code",
   "execution_count": 12,
   "id": "97a70615ac287d73",
   "metadata": {},
   "outputs": [
    {
     "name": "stdout",
     "output_type": "stream",
     "text": [
      "World(locations={'Room 1': Location(name='Room 1',\n",
      "                                    description='A small room',\n",
      "                                    connections={'north': Location(name='Room '\n",
      "                                                                        '2',\n",
      "                                                                   description='A '\n",
      "                                                                               'large '\n",
      "                                                                               'room',\n",
      "                                                                   connections={'south': <Recursion on Location with id=4712090656>})}),\n",
      "                 'Room 2': Location(name='Room 2',\n",
      "                                    description='A large room',\n",
      "                                    connections={'south': Location(name='Room '\n",
      "                                                                        '1',\n",
      "                                                                   description='A '\n",
      "                                                                               'small '\n",
      "                                                                               'room',\n",
      "                                                                   connections={'north': <Recursion on Location with id=4708572432>})})},\n",
      "      initial_location_name='Room 1')\n"
     ]
    }
   ],
   "source": [
    "pprint(world)"
   ]
  },
  {
   "cell_type": "markdown",
   "id": "438cee90f22a9382",
   "metadata": {
    "lang": "de",
    "slideshow": {
     "slide_type": "subslide"
    },
    "tags": [
     "subslide"
    ]
   },
   "source": [
    "\n",
    "- Factories sind Beispiele für das GRASP Pattern \"Pure Fabrication\"\n",
    "- Sie können die Kohäsion von Klassen erhöhen und ihre Komplexität reduzieren\n",
    "- Sie erhöhen aber auch die Gesamtkomplexität des Systems"
   ]
  },
  {
   "cell_type": "markdown",
   "id": "a039b3da697b6d09",
   "metadata": {
    "lang": "de",
    "slideshow": {
     "slide_type": "subslide"
    },
    "tags": [
     "subslide"
    ]
   },
   "source": [
    "\n",
    "## Mini-Workshop: Factory im Bibliothekssystem\n",
    "\n",
    "- Sie haben in vorhergehenden Workshops den Beginn eines Bibliothekssystems\n",
    "  implementiert\n",
    "- Implementieren Sie eine Möglichkeit, die Daten Ihrer Bibliothek aus einer\n",
    "  JSON-Datei zu laden. (Legen Sie dazu eine JSON-Datei an, die strukturell\n",
    "  zu Ihrer Implementierung passt)\n",
    "- Verlagern Sie dann die Erzeugung des Bibliothekssystems in eine Factory-Klasse"
   ]
  }
 ],
 "metadata": {
  "jupytext": {
   "cell_metadata_filter": "tags,lang,-all",
   "main_language": "python",
   "notebook_metadata_filter": "-all"
  },
  "kernelspec": {
   "display_name": "venv",
   "language": "python",
   "name": "python3"
  },
  "language_info": {
   "codemirror_mode": {
    "name": "ipython",
    "version": 3
   },
   "file_extension": ".py",
   "mimetype": "text/x-python",
   "name": "python",
   "nbconvert_exporter": "python",
   "pygments_lexer": "ipython3",
   "version": "3.13.2"
  }
 },
 "nbformat": 4,
 "nbformat_minor": 5
}
