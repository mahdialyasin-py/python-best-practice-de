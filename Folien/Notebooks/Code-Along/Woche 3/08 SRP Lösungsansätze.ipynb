{
 "cells": [
  {
   "cell_type": "markdown",
   "id": "cf2cfea4da9ab731",
   "metadata": {
    "lang": "de",
    "slideshow": {
     "slide_type": "slide"
    },
    "tags": [
     "slide"
    ]
   },
   "source": [
    "\n",
    "<img src=\"data:image/svg+xml;base64,PHN2ZyB4bWxucz0iaHR0cDovL3d3dy53My5vcmcvMjAwMC9zdmciIHhtbG5zOnhsaW5rPSJodHRw\n",
    "Oi8vd3d3LnczLm9yZy8xOTk5L3hsaW5rIiB3aWR0aD0iMTExLjE2MSIgaGVpZ2h0PSIxMzQuNjY4\n",
    "IiB2ZXJzaW9uPSIxLjAiPjxkZWZzPjxsaW5lYXJHcmFkaWVudCBpZD0iYyI+PHN0b3Agb2Zmc2V0\n",
    "PSIwIiBzdHlsZT0ic3RvcC1jb2xvcjojYjhiOGI4O3N0b3Atb3BhY2l0eTouNDk4MDM5MjIiLz48\n",
    "c3RvcCBvZmZzZXQ9IjEiIHN0eWxlPSJzdG9wLWNvbG9yOiM3ZjdmN2Y7c3RvcC1vcGFjaXR5OjAi\n",
    "Lz48L2xpbmVhckdyYWRpZW50PjxsaW5lYXJHcmFkaWVudCBpZD0iYSI+PHN0b3Agb2Zmc2V0PSIw\n",
    "IiBzdHlsZT0ic3RvcC1jb2xvcjojZmZkNDNiO3N0b3Atb3BhY2l0eToxIi8+PHN0b3Agb2Zmc2V0\n",
    "PSIxIiBzdHlsZT0ic3RvcC1jb2xvcjojZmZlODczO3N0b3Atb3BhY2l0eToxIi8+PC9saW5lYXJH\n",
    "cmFkaWVudD48bGluZWFyR3JhZGllbnQgaWQ9ImIiPjxzdG9wIG9mZnNldD0iMCIgc3R5bGU9InN0\n",
    "b3AtY29sb3I6IzVhOWZkNDtzdG9wLW9wYWNpdHk6MSIvPjxzdG9wIG9mZnNldD0iMSIgc3R5bGU9\n",
    "InN0b3AtY29sb3I6IzMwNjk5ODtzdG9wLW9wYWNpdHk6MSIvPjwvbGluZWFyR3JhZGllbnQ+PGxp\n",
    "bmVhckdyYWRpZW50IHhsaW5rOmhyZWY9IiNhIiBpZD0iZSIgeDE9IjE1MC45NjEiIHgyPSIxMTIu\n",
    "MDMxIiB5MT0iMTkyLjM1MiIgeTI9IjEzNy4yNzMiIGdyYWRpZW50VHJhbnNmb3JtPSJtYXRyaXgo\n",
    "LjU2MjU0IDAgMCAuNTY3OTcgLTE0Ljk5MSAtMTEuNzAyKSIgZ3JhZGllbnRVbml0cz0idXNlclNw\n",
    "YWNlT25Vc2UiLz48bGluZWFyR3JhZGllbnQgeGxpbms6aHJlZj0iI2IiIGlkPSJkIiB4MT0iMjYu\n",
    "NjQ5IiB4Mj0iMTM1LjY2NSIgeTE9IjIwLjYwNCIgeTI9IjExNC4zOTgiIGdyYWRpZW50VHJhbnNm\n",
    "b3JtPSJtYXRyaXgoLjU2MjU0IDAgMCAuNTY3OTcgLTE0Ljk5MSAtMTEuNzAyKSIgZ3JhZGllbnRV\n",
    "bml0cz0idXNlclNwYWNlT25Vc2UiLz48cmFkaWFsR3JhZGllbnQgeGxpbms6aHJlZj0iI2MiIGlk\n",
    "PSJmIiBjeD0iNjEuNTE5IiBjeT0iMTMyLjI4NiIgcj0iMjkuMDM3IiBmeD0iNjEuNTE5IiBmeT0i\n",
    "MTMyLjI4NiIgZ3JhZGllbnRUcmFuc2Zvcm09Im1hdHJpeCgwIC0uMjM5OTUgMS4wNTQ2NyAwIC04\n",
    "My43IDE0Mi40NjIpIiBncmFkaWVudFVuaXRzPSJ1c2VyU3BhY2VPblVzZSIvPjwvZGVmcz48cGF0\n",
    "aCBkPSJNNTQuOTE5IDBjLTQuNTg0LjAyMi04Ljk2MS40MTMtMTIuODEzIDEuMDk1QzMwLjc2IDMu\n",
    "MDk5IDI4LjcgNy4yOTUgMjguNyAxNS4wMzJ2MTAuMjE5aDI2LjgxM3YzLjQwNkgxOC42MzhjLTcu\n",
    "NzkzIDAtMTQuNjE2IDQuNjg0LTE2Ljc1IDEzLjU5NC0yLjQ2MiAxMC4yMTMtMi41NzEgMTYuNTg2\n",
    "IDAgMjcuMjUgMS45MDUgNy45MzggNi40NTcgMTMuNTk0IDE0LjI1IDEzLjU5NGg5LjIxOHYtMTIu\n",
    "MjVjMC04Ljg1IDcuNjU3LTE2LjY1NyAxNi43NS0xNi42NTdoMjYuNzgyYzcuNDU0IDAgMTMuNDA2\n",
    "LTYuMTM4IDEzLjQwNi0xMy42MjV2LTI1LjUzYzAtNy4yNjctNi4xMy0xMi43MjYtMTMuNDA2LTEz\n",
    "LjkzOEM2NC4yODIuMzI4IDU5LjUwMi0uMDIgNTQuOTE4IDBtLTE0LjUgOC4yMmMyLjc3IDAgNS4w\n",
    "MzEgMi4yOTggNS4wMzEgNS4xMjUgMCAyLjgxNi0yLjI2MiA1LjA5My01LjAzMSA1LjA5My0yLjc4\n",
    "IDAtNS4wMzEtMi4yNzctNS4wMzEtNS4wOTMgMC0yLjgyNyAyLjI1MS01LjEyNSA1LjAzLTUuMTI1\n",
    "IiBzdHlsZT0iZmlsbDp1cmwoI2QpO2ZpbGwtb3BhY2l0eToxIi8+PHBhdGggZD0iTTg1LjYzOCAy\n",
    "OC42NTd2MTEuOTA2YzAgOS4yMzEtNy44MjYgMTctMTYuNzUgMTdINDIuMTA2Yy03LjMzNiAwLTEz\n",
    "LjQwNiA2LjI3OS0xMy40MDYgMTMuNjI1Vjk2LjcyYzAgNy4yNjYgNi4zMTkgMTEuNTQgMTMuNDA2\n",
    "IDEzLjYyNSA4LjQ4OCAyLjQ5NSAxNi42MjcgMi45NDYgMjYuNzgyIDAgNi43NS0xLjk1NSAxMy40\n",
    "MDYtNS44ODggMTMuNDA2LTEzLjYyNVY4Ni41SDU1LjUxM3YtMy40MDVIOTUuN2M3Ljc5MyAwIDEw\n",
    "LjY5Ni01LjQzNiAxMy40MDYtMTMuNTk0IDIuOC04LjM5OSAyLjY4LTE2LjQ3NiAwLTI3LjI1LTEu\n",
    "OTI1LTcuNzU4LTUuNjA0LTEzLjU5NC0xMy40MDYtMTMuNTk0ek03MC41NzUgOTMuMzEzYzIuNzgg\n",
    "MCA1LjAzMSAyLjI3OCA1LjAzMSA1LjA5NCAwIDIuODI3LTIuMjUxIDUuMTI1LTUuMDMxIDUuMTI1\n",
    "LTIuNzcgMC01LjAzMS0yLjI5OC01LjAzMS01LjEyNSAwLTIuODE2IDIuMjYxLTUuMDk0IDUuMDMx\n",
    "LTUuMDk0IiBzdHlsZT0iZmlsbDp1cmwoI2UpO2ZpbGwtb3BhY2l0eToxIi8+PGVsbGlwc2UgY3g9\n",
    "IjU1LjgxNyIgY3k9IjEyNy43MDEiIHJ4PSIzNS45MzEiIHJ5PSI2Ljk2NyIgc3R5bGU9Im9wYWNp\n",
    "dHk6LjQ0MzgyO2ZpbGw6dXJsKCNmKTtmaWxsLW9wYWNpdHk6MTtmaWxsLXJ1bGU6bm9uemVybztz\n",
    "dHJva2U6bm9uZTtzdHJva2Utd2lkdGg6MTUuNDE3NDtzdHJva2UtbWl0ZXJsaW1pdDo0O3N0cm9r\n",
    "ZS1kYXNoYXJyYXk6bm9uZTtzdHJva2Utb3BhY2l0eToxIi8+PC9zdmc+\n",
    "\"\n",
    "     style=\"display:block;margin:auto;width:10%\" alt=\"Python Logo\"/>\n",
    "<br>\n",
    "\n",
    "<div style=\"text-align:center; font-size:200%;\">\n",
    " <b>SRP: Lösungsansätze</b>\n",
    "</div>\n",
    "<br/>\n",
    "<div style=\"text-align:center;\">Dr. Matthias Hölzl</div>\n",
    "<br/>"
   ]
  },
  {
   "cell_type": "markdown",
   "id": "a3784da772abc7d1",
   "metadata": {
    "lang": "de",
    "slideshow": {
     "slide_type": "subslide"
    },
    "tags": [
     "subslide"
    ]
   },
   "source": [
    "\n",
    "## Ein Änderungsgrund?\n",
    "\n",
    "<img src=\"img/book_01.svg\"\n",
    "     style=\"display:block;margin:auto;width:35%\"/>\n"
   ]
  },
  {
   "cell_type": "markdown",
   "id": "2b58e20e2a392c3b",
   "metadata": {
    "lang": "de",
    "slideshow": {
     "slide_type": "subslide"
    },
    "tags": [
     "subslide"
    ]
   },
   "source": [
    "\n",
    "## Verletzung des SRPs\n",
    "\n",
    "<img src=\"img/book_02.svg\"\n",
    "     style=\"display:block;margin:auto;width:60%\"/>"
   ]
  },
  {
   "cell_type": "code",
   "execution_count": 3,
   "id": "be38018b000c8f8f",
   "metadata": {
    "lines_to_next_cell": 2,
    "slideshow": {
     "slide_type": "subslide"
    },
    "tags": [
     "keep",
     "subslide"
    ]
   },
   "outputs": [],
   "source": [
    "class Book:\n",
    "    def __init__(self, title: str, author: str, pages: int):\n",
    "        self.title = title\n",
    "        self.author = author\n",
    "        self.pages = pages\n",
    "\n",
    "    def print(self):\n",
    "        # Lots of code that handles the printer\n",
    "        print(f\"Printing {self.title} to printer.\")\n",
    "\n",
    "    def save(self):\n",
    "        # Lots of code that handles the database\n",
    "        print(f\"Saving {self.title} to database.\")"
   ]
  },
  {
   "cell_type": "code",
   "execution_count": 4,
   "id": "b6df5e0db9376d69",
   "metadata": {
    "tags": [
     "keep"
    ]
   },
   "outputs": [
    {
     "name": "stdout",
     "output_type": "stream",
     "text": [
      "Printing Clean Code to printer.\n",
      "Saving Clean Code to database.\n"
     ]
    }
   ],
   "source": [
    "book = Book(\"Clean Code\", \"Robert C. Martin\", 464)\n",
    "book.print()\n",
    "book.save()"
   ]
  },
  {
   "cell_type": "markdown",
   "id": "49368071a3998cb1",
   "metadata": {
    "lang": "de",
    "slideshow": {
     "slide_type": "subslide"
    },
    "tags": [
     "subslide"
    ]
   },
   "source": [
    "\n",
    "## Auflösung der SRP-Verletzung (Version 1a)\n",
    "\n",
    "Vorschlag von Robert C. Martin in Clean Architecture:\n",
    "\n",
    "<img src=\"img/book_resolution_1a_srp.svg\"\n",
    "     style=\"display:block;margin:auto;width:40%\"/>"
   ]
  },
  {
   "cell_type": "code",
   "execution_count": 5,
   "id": "a97b78db45e0e3fc",
   "metadata": {
    "lines_to_next_cell": 2,
    "slideshow": {
     "slide_type": "subslide"
    },
    "tags": [
     "keep",
     "subslide"
    ]
   },
   "outputs": [],
   "source": [
    "class BookV1a:\n",
    "    def __init__(self, title: str, author: str, pages: int):\n",
    "        self.title = title\n",
    "        self.author = author\n",
    "        self.pages = pages"
   ]
  },
  {
   "cell_type": "code",
   "execution_count": 7,
   "id": "17927638a92ca743",
   "metadata": {
    "lines_to_next_cell": 2,
    "slideshow": {
     "slide_type": "subslide"
    },
    "tags": [
     "keep",
     "subslide"
    ]
   },
   "outputs": [],
   "source": [
    "class BookPrinterV1a:\n",
    "    def __init__(self, book):\n",
    "        self.book = book\n",
    "\n",
    "    def print(self):\n",
    "        # Lots of code that handles the printer\n",
    "        print(f\"Printing {self.book.title} to printer.\")"
   ]
  },
  {
   "cell_type": "code",
   "execution_count": 8,
   "id": "313f6f6652fa21bd",
   "metadata": {
    "lines_to_next_cell": 2,
    "slideshow": {
     "slide_type": "subslide"
    },
    "tags": [
     "keep",
     "subslide"
    ]
   },
   "outputs": [],
   "source": [
    "class BookDatabaseV1a:\n",
    "    def __init__(self, book):\n",
    "        self.book = book\n",
    "\n",
    "    def save(self):\n",
    "        # Lots of code that handles the database\n",
    "        print(f\"Saving {self.book.title} to database.\")"
   ]
  },
  {
   "cell_type": "code",
   "execution_count": 10,
   "id": "9a8d13e68a23148f",
   "metadata": {
    "slideshow": {
     "slide_type": "subslide"
    },
    "tags": [
     "keep",
     "subslide"
    ]
   },
   "outputs": [],
   "source": [
    "book_v1a = BookV1a(\"Clean Code\", \"Robert C. Martin\", 464)"
   ]
  },
  {
   "cell_type": "code",
   "execution_count": 11,
   "id": "cf57f6cdd2dd2ab6",
   "metadata": {
    "tags": [
     "keep"
    ]
   },
   "outputs": [
    {
     "name": "stdout",
     "output_type": "stream",
     "text": [
      "Printing Clean Code to printer.\n"
     ]
    }
   ],
   "source": [
    "book_printer_v1a = BookPrinterV1a(book_v1a)\n",
    "book_printer_v1a.print()"
   ]
  },
  {
   "cell_type": "code",
   "execution_count": 12,
   "id": "de574ce20fcf41bb",
   "metadata": {
    "tags": [
     "keep"
    ]
   },
   "outputs": [
    {
     "name": "stdout",
     "output_type": "stream",
     "text": [
      "Saving Clean Code to database.\n"
     ]
    }
   ],
   "source": [
    "book_database_v1a = BookDatabaseV1a(book_v1a)\n",
    "book_database_v1a.save()"
   ]
  },
  {
   "cell_type": "markdown",
   "id": "286852f775f3bce0",
   "metadata": {
    "lang": "de",
    "slideshow": {
     "slide_type": "subslide"
    },
    "tags": [
     "subslide"
    ]
   },
   "source": [
    "\n",
    "## Auflösung der SRP-Verletzung (Version 1a mit Fassade)\n",
    "\n",
    "<img src=\"img/book_resolution_1a_srp_facade.svg\"\n",
    "     style=\"display:block;margin:auto;width:50%\"/>"
   ]
  },
  {
   "cell_type": "code",
   "execution_count": null,
   "id": "53e612c78fbe902c",
   "metadata": {
    "lines_to_next_cell": 2,
    "slideshow": {
     "slide_type": "subslide"
    },
    "tags": [
     "keep",
     "subslide"
    ]
   },
   "outputs": [],
   "source": [
    "class BookPrinterFacadeV1a:\n",
    "    def __init__(self, book):\n",
    "        self.book_printer = BookPrinterV1a(book)\n",
    "        self.book_database = BookDatabaseV1a(book)\n",
    "\n",
    "    def print(self):\n",
    "        self.book_printer.print()\n",
    "\n",
    "    def save(self):\n",
    "        self.book_database.save()"
   ]
  },
  {
   "cell_type": "code",
   "execution_count": null,
   "id": "367fac14a8dcdea6",
   "metadata": {
    "tags": [
     "keep"
    ]
   },
   "outputs": [],
   "source": [
    "book_printer_facade_v1a = BookPrinterFacadeV1a(book_v1a)\n",
    "book_printer_facade_v1a.print()\n",
    "book_printer_facade_v1a.save()"
   ]
  },
  {
   "cell_type": "markdown",
   "id": "624c3e6f291c0f5a",
   "metadata": {
    "lang": "de",
    "slideshow": {
     "slide_type": "subslide"
    },
    "tags": [
     "subslide"
    ]
   },
   "source": [
    "\n",
    "## Auflösung der SRP-Verletzung (Version 1)\n",
    "\n",
    "<img src=\"img/book_resolution_1_srp.svg\"\n",
    "     style=\"display:block;margin:auto;width:50%\"/>"
   ]
  },
  {
   "cell_type": "code",
   "execution_count": 18,
   "id": "a9b29cc757bce2de",
   "metadata": {
    "lines_to_next_cell": 2,
    "slideshow": {
     "slide_type": "subslide"
    },
    "tags": [
     "keep",
     "subslide"
    ]
   },
   "outputs": [],
   "source": [
    "class BookV1:\n",
    "    def __init__(self, title: str, author: str, pages: int):\n",
    "        self.title = title\n",
    "        self.author = author\n",
    "        self.pages = pages"
   ]
  },
  {
   "cell_type": "code",
   "execution_count": 19,
   "id": "f49f62b8914d556a",
   "metadata": {
    "slideshow": {
     "slide_type": "subslide"
    },
    "tags": [
     "keep",
     "subslide"
    ]
   },
   "outputs": [],
   "source": [
    "class BookPrinterV1:\n",
    "    @staticmethod\n",
    "    def print(book):\n",
    "        # Lots of code that handles the printer\n",
    "        print(f\"Printing {book.title} to printer.\")"
   ]
  },
  {
   "cell_type": "code",
   "execution_count": 20,
   "id": "1f08c9ecf9135abb",
   "metadata": {
    "lines_to_next_cell": 2,
    "tags": [
     "keep"
    ]
   },
   "outputs": [],
   "source": [
    "class BookDatabaseV1:\n",
    "    @staticmethod\n",
    "    def save(book):\n",
    "        # Lots of code that handles the database\n",
    "        print(f\"Saving {book.title} to database.\")"
   ]
  },
  {
   "cell_type": "code",
   "execution_count": 21,
   "id": "9dc9b6cf0c61c66b",
   "metadata": {
    "lines_to_next_cell": 2,
    "slideshow": {
     "slide_type": "subslide"
    },
    "tags": [
     "keep",
     "subslide"
    ]
   },
   "outputs": [],
   "source": [
    "book_v1 = BookV1(\"Clean Code\", \"Robert C. Martin\", 464)\n",
    "book_printer_v1 = BookPrinterV1()\n",
    "book_database_v1 = BookDatabaseV1()"
   ]
  },
  {
   "cell_type": "code",
   "execution_count": null,
   "id": "0027531a74f6e648",
   "metadata": {
    "tags": [
     "keep"
    ]
   },
   "outputs": [],
   "source": [
    "book_printer_v1.print(book_v1)"
   ]
  },
  {
   "cell_type": "code",
   "execution_count": null,
   "id": "9814a29e3fb0a4fa",
   "metadata": {
    "tags": [
     "keep"
    ]
   },
   "outputs": [],
   "source": [
    "book_database_v1.save(book_v1)"
   ]
  },
  {
   "cell_type": "markdown",
   "id": "dadc830e3f8eba97",
   "metadata": {
    "lang": "de",
    "slideshow": {
     "slide_type": "subslide"
    },
    "tags": [
     "subslide"
    ]
   },
   "source": [
    "\n",
    "## Auflösung der SRP-Verletzung (Version 1 mit Facade)\n",
    "\n",
    "<img src=\"img/book_resolution_1_srp_facade.svg\"\n",
    "     style=\"display:block;margin:auto;width:50%\"/>"
   ]
  },
  {
   "cell_type": "code",
   "execution_count": 22,
   "id": "72adc9f37344378c",
   "metadata": {
    "slideshow": {
     "slide_type": "subslide"
    },
    "tags": [
     "subslide",
     "keep"
    ]
   },
   "outputs": [],
   "source": [
    "class BookFacadeV1:\n",
    "    def __init__(self, book):\n",
    "        self.book = book\n",
    "        self.book_printer = BookPrinterV1()\n",
    "        self.book_database = BookDatabaseV1()\n",
    "\n",
    "    def print(self):\n",
    "        self.book_printer.print(self.book)\n",
    "\n",
    "    def save(self):\n",
    "        self.book_database.save(self.book)"
   ]
  },
  {
   "cell_type": "code",
   "execution_count": 23,
   "id": "3071a13ce711b672",
   "metadata": {
    "tags": [
     "keep"
    ]
   },
   "outputs": [],
   "source": [
    "book_facade_v1 = BookFacadeV1(book_v1)"
   ]
  },
  {
   "cell_type": "code",
   "execution_count": 24,
   "id": "74a9e0297e9cc0d0",
   "metadata": {
    "tags": [
     "keep"
    ]
   },
   "outputs": [
    {
     "name": "stdout",
     "output_type": "stream",
     "text": [
      "Printing Clean Code to printer.\n"
     ]
    }
   ],
   "source": [
    "book_facade_v1.print()"
   ]
  },
  {
   "cell_type": "code",
   "execution_count": 25,
   "id": "5394aa6fc545f9a9",
   "metadata": {
    "tags": [
     "keep"
    ]
   },
   "outputs": [
    {
     "name": "stdout",
     "output_type": "stream",
     "text": [
      "Saving Clean Code to database.\n"
     ]
    }
   ],
   "source": [
    "book_facade_v1.save()"
   ]
  },
  {
   "cell_type": "markdown",
   "id": "13635fba195e369e",
   "metadata": {
    "lang": "de",
    "slideshow": {
     "slide_type": "subslide"
    },
    "tags": [
     "subslide"
    ]
   },
   "source": [
    "\n",
    "### Implementierung als Funktionen"
   ]
  },
  {
   "cell_type": "code",
   "execution_count": 26,
   "id": "104543c6360ee8b0",
   "metadata": {
    "tags": [
     "keep"
    ]
   },
   "outputs": [],
   "source": [
    "def print_book(book):\n",
    "    # Lots of code that handles the printer\n",
    "    print(f\"Printing {book.title} to printer.\")"
   ]
  },
  {
   "cell_type": "code",
   "execution_count": 27,
   "id": "8d110246c9c5d186",
   "metadata": {
    "tags": [
     "keep"
    ]
   },
   "outputs": [],
   "source": [
    "def save_book(book):\n",
    "    # Lots of code that handles the database\n",
    "    print(f\"Saving {book.title} to database.\")"
   ]
  },
  {
   "cell_type": "code",
   "execution_count": 28,
   "id": "2a0c9ddafd001967",
   "metadata": {
    "tags": [
     "keep"
    ]
   },
   "outputs": [
    {
     "name": "stdout",
     "output_type": "stream",
     "text": [
      "Printing Clean Code to printer.\n"
     ]
    }
   ],
   "source": [
    "print_book(book_v1)"
   ]
  },
  {
   "cell_type": "code",
   "execution_count": 29,
   "id": "a83e5f2bcf733211",
   "metadata": {
    "tags": [
     "keep"
    ]
   },
   "outputs": [
    {
     "name": "stdout",
     "output_type": "stream",
     "text": [
      "Saving Clean Code to database.\n"
     ]
    }
   ],
   "source": [
    "save_book(book_v1)"
   ]
  },
  {
   "cell_type": "markdown",
   "id": "dad8c887ceb4e52d",
   "metadata": {
    "lang": "de",
    "slideshow": {
     "slide_type": "subslide"
    },
    "tags": [
     "subslide"
    ]
   },
   "source": [
    "\n",
    "## Auflösung der SRP-Verletzung (Version 2)\n",
    "\n",
    "<img src=\"img/book_resolution_2_srp.svg\"\n",
    "     style=\"display:block;margin:auto;width:60%\"/>"
   ]
  },
  {
   "cell_type": "code",
   "execution_count": null,
   "id": "4ff06a3c78f1fb5d",
   "metadata": {
    "lines_to_next_cell": 2,
    "slideshow": {
     "slide_type": "subslide"
    },
    "tags": [
     "keep",
     "subslide"
    ]
   },
   "outputs": [],
   "source": [
    "class BookV2:\n",
    "    def __init__(\n",
    "        self, title: str, author: str, pages: int, book_printer, book_database\n",
    "    ):\n",
    "        self.title = title\n",
    "        self.author = author\n",
    "        self.pages = pages\n",
    "        self.book_printer = book_printer\n",
    "        self.book_database = book_database\n",
    "\n",
    "    def print(self):\n",
    "        # Assuming book_printer has a print method takes a BookV2 instance.\n",
    "        self.book_printer.print(self)\n",
    "\n",
    "    def save(self):\n",
    "        # Assuming book_database has a save method takes a BookV2 instance.\n",
    "        self.book_database.save(self)"
   ]
  },
  {
   "cell_type": "code",
   "execution_count": null,
   "id": "68b67055a9da839b",
   "metadata": {
    "slideshow": {
     "slide_type": "subslide"
    },
    "tags": [
     "keep",
     "subslide"
    ]
   },
   "outputs": [],
   "source": [
    "class BookPrinterV2:\n",
    "    def print(self, book):\n",
    "        # Lots of code that handles the printer\n",
    "        print(f\"Printing {book.title} to printer.\")"
   ]
  },
  {
   "cell_type": "code",
   "execution_count": null,
   "id": "056e9fe001879e16",
   "metadata": {
    "lines_to_next_cell": 2,
    "tags": [
     "keep"
    ]
   },
   "outputs": [],
   "source": [
    "class BookDatabaseV2:\n",
    "    def save(self, book):\n",
    "        # Lots of code that handles the database\n",
    "        print(f\"Saving {book.title} to database.\")"
   ]
  },
  {
   "cell_type": "code",
   "execution_count": null,
   "id": "fb5dab7d9051ddbe",
   "metadata": {
    "slideshow": {
     "slide_type": "subslide"
    },
    "tags": [
     "subslide",
     "keep"
    ]
   },
   "outputs": [],
   "source": [
    "book_v2 = BookV2(\n",
    "    \"Clean Code\", \"Robert C. Martin\", 464, BookPrinterV2(), BookDatabaseV2()\n",
    ")"
   ]
  },
  {
   "cell_type": "code",
   "execution_count": null,
   "id": "0ff2cb347c46928f",
   "metadata": {
    "tags": [
     "keep"
    ]
   },
   "outputs": [],
   "source": [
    "book_v2.print()"
   ]
  },
  {
   "cell_type": "code",
   "execution_count": null,
   "id": "9b04caacebfb6c1b",
   "metadata": {
    "tags": [
     "keep"
    ]
   },
   "outputs": [],
   "source": [
    "book_v2.save()"
   ]
  },
  {
   "cell_type": "markdown",
   "id": "300ff53e0cb799b4",
   "metadata": {
    "lang": "de",
    "slideshow": {
     "slide_type": "subslide"
    },
    "tags": [
     "subslide"
    ]
   },
   "source": [
    "\n",
    "## Vergleich\n",
    "\n",
    "<div>\n",
    "<img src=\"img/book_resolution_1_srp.svg\"\n",
    "     style=\"float:left;padding:5px;width:40%\"/>\n",
    "<img src=\"img/book_resolution_2_srp.svg\"\n",
    "     style=\"float:right;padding:5px;width:50%\"/>\n",
    "</div>"
   ]
  },
  {
   "cell_type": "markdown",
   "id": "9a96dc2d8297880b",
   "metadata": {
    "lang": "de",
    "slideshow": {
     "slide_type": "subslide"
    },
    "tags": [
     "subslide"
    ]
   },
   "source": [
    "\n",
    "## Workshop: SRP-Verletzung auflösen\n",
    "\n",
    "- Implementieren Sie die fehlen Funktionalität in Ihrem Bibliothekssystem,\n",
    "  falls Sie das noch nicht gemacht haben\n",
    "- Untersuchen Sie die Klassen Ihres Bibliothekssystems, ob Sie darin\n",
    "  bereits SRP-Verletzungen finden\n",
    "- Falls dies der Fall ist, lösen Sie sie auf"
   ]
  }
 ],
 "metadata": {
  "jupytext": {
   "cell_metadata_filter": "lang,tags,-all",
   "main_language": "python",
   "notebook_metadata_filter": "-all"
  },
  "kernelspec": {
   "display_name": "venv",
   "language": "python",
   "name": "python3"
  },
  "language_info": {
   "codemirror_mode": {
    "name": "ipython",
    "version": 3
   },
   "file_extension": ".py",
   "mimetype": "text/x-python",
   "name": "python",
   "nbconvert_exporter": "python",
   "pygments_lexer": "ipython3",
   "version": "3.13.2"
  }
 },
 "nbformat": 4,
 "nbformat_minor": 5
}
