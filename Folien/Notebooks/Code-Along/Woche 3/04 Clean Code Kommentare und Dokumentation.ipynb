{
 "cells": [
  {
   "cell_type": "markdown",
   "id": "da4c72ab889f8dee",
   "metadata": {
    "lang": "de",
    "slideshow": {
     "slide_type": "slide"
    },
    "tags": [
     "slide"
    ]
   },
   "source": [
    "\n",
    "<img src=\"data:image/svg+xml;base64,PHN2ZyB4bWxucz0iaHR0cDovL3d3dy53My5vcmcvMjAwMC9zdmciIHhtbG5zOnhsaW5rPSJodHRw\n",
    "Oi8vd3d3LnczLm9yZy8xOTk5L3hsaW5rIiB3aWR0aD0iMTExLjE2MSIgaGVpZ2h0PSIxMzQuNjY4\n",
    "IiB2ZXJzaW9uPSIxLjAiPjxkZWZzPjxsaW5lYXJHcmFkaWVudCBpZD0iYyI+PHN0b3Agb2Zmc2V0\n",
    "PSIwIiBzdHlsZT0ic3RvcC1jb2xvcjojYjhiOGI4O3N0b3Atb3BhY2l0eTouNDk4MDM5MjIiLz48\n",
    "c3RvcCBvZmZzZXQ9IjEiIHN0eWxlPSJzdG9wLWNvbG9yOiM3ZjdmN2Y7c3RvcC1vcGFjaXR5OjAi\n",
    "Lz48L2xpbmVhckdyYWRpZW50PjxsaW5lYXJHcmFkaWVudCBpZD0iYSI+PHN0b3Agb2Zmc2V0PSIw\n",
    "IiBzdHlsZT0ic3RvcC1jb2xvcjojZmZkNDNiO3N0b3Atb3BhY2l0eToxIi8+PHN0b3Agb2Zmc2V0\n",
    "PSIxIiBzdHlsZT0ic3RvcC1jb2xvcjojZmZlODczO3N0b3Atb3BhY2l0eToxIi8+PC9saW5lYXJH\n",
    "cmFkaWVudD48bGluZWFyR3JhZGllbnQgaWQ9ImIiPjxzdG9wIG9mZnNldD0iMCIgc3R5bGU9InN0\n",
    "b3AtY29sb3I6IzVhOWZkNDtzdG9wLW9wYWNpdHk6MSIvPjxzdG9wIG9mZnNldD0iMSIgc3R5bGU9\n",
    "InN0b3AtY29sb3I6IzMwNjk5ODtzdG9wLW9wYWNpdHk6MSIvPjwvbGluZWFyR3JhZGllbnQ+PGxp\n",
    "bmVhckdyYWRpZW50IHhsaW5rOmhyZWY9IiNhIiBpZD0iZSIgeDE9IjE1MC45NjEiIHgyPSIxMTIu\n",
    "MDMxIiB5MT0iMTkyLjM1MiIgeTI9IjEzNy4yNzMiIGdyYWRpZW50VHJhbnNmb3JtPSJtYXRyaXgo\n",
    "LjU2MjU0IDAgMCAuNTY3OTcgLTE0Ljk5MSAtMTEuNzAyKSIgZ3JhZGllbnRVbml0cz0idXNlclNw\n",
    "YWNlT25Vc2UiLz48bGluZWFyR3JhZGllbnQgeGxpbms6aHJlZj0iI2IiIGlkPSJkIiB4MT0iMjYu\n",
    "NjQ5IiB4Mj0iMTM1LjY2NSIgeTE9IjIwLjYwNCIgeTI9IjExNC4zOTgiIGdyYWRpZW50VHJhbnNm\n",
    "b3JtPSJtYXRyaXgoLjU2MjU0IDAgMCAuNTY3OTcgLTE0Ljk5MSAtMTEuNzAyKSIgZ3JhZGllbnRV\n",
    "bml0cz0idXNlclNwYWNlT25Vc2UiLz48cmFkaWFsR3JhZGllbnQgeGxpbms6aHJlZj0iI2MiIGlk\n",
    "PSJmIiBjeD0iNjEuNTE5IiBjeT0iMTMyLjI4NiIgcj0iMjkuMDM3IiBmeD0iNjEuNTE5IiBmeT0i\n",
    "MTMyLjI4NiIgZ3JhZGllbnRUcmFuc2Zvcm09Im1hdHJpeCgwIC0uMjM5OTUgMS4wNTQ2NyAwIC04\n",
    "My43IDE0Mi40NjIpIiBncmFkaWVudFVuaXRzPSJ1c2VyU3BhY2VPblVzZSIvPjwvZGVmcz48cGF0\n",
    "aCBkPSJNNTQuOTE5IDBjLTQuNTg0LjAyMi04Ljk2MS40MTMtMTIuODEzIDEuMDk1QzMwLjc2IDMu\n",
    "MDk5IDI4LjcgNy4yOTUgMjguNyAxNS4wMzJ2MTAuMjE5aDI2LjgxM3YzLjQwNkgxOC42MzhjLTcu\n",
    "NzkzIDAtMTQuNjE2IDQuNjg0LTE2Ljc1IDEzLjU5NC0yLjQ2MiAxMC4yMTMtMi41NzEgMTYuNTg2\n",
    "IDAgMjcuMjUgMS45MDUgNy45MzggNi40NTcgMTMuNTk0IDE0LjI1IDEzLjU5NGg5LjIxOHYtMTIu\n",
    "MjVjMC04Ljg1IDcuNjU3LTE2LjY1NyAxNi43NS0xNi42NTdoMjYuNzgyYzcuNDU0IDAgMTMuNDA2\n",
    "LTYuMTM4IDEzLjQwNi0xMy42MjV2LTI1LjUzYzAtNy4yNjctNi4xMy0xMi43MjYtMTMuNDA2LTEz\n",
    "LjkzOEM2NC4yODIuMzI4IDU5LjUwMi0uMDIgNTQuOTE4IDBtLTE0LjUgOC4yMmMyLjc3IDAgNS4w\n",
    "MzEgMi4yOTggNS4wMzEgNS4xMjUgMCAyLjgxNi0yLjI2MiA1LjA5My01LjAzMSA1LjA5My0yLjc4\n",
    "IDAtNS4wMzEtMi4yNzctNS4wMzEtNS4wOTMgMC0yLjgyNyAyLjI1MS01LjEyNSA1LjAzLTUuMTI1\n",
    "IiBzdHlsZT0iZmlsbDp1cmwoI2QpO2ZpbGwtb3BhY2l0eToxIi8+PHBhdGggZD0iTTg1LjYzOCAy\n",
    "OC42NTd2MTEuOTA2YzAgOS4yMzEtNy44MjYgMTctMTYuNzUgMTdINDIuMTA2Yy03LjMzNiAwLTEz\n",
    "LjQwNiA2LjI3OS0xMy40MDYgMTMuNjI1Vjk2LjcyYzAgNy4yNjYgNi4zMTkgMTEuNTQgMTMuNDA2\n",
    "IDEzLjYyNSA4LjQ4OCAyLjQ5NSAxNi42MjcgMi45NDYgMjYuNzgyIDAgNi43NS0xLjk1NSAxMy40\n",
    "MDYtNS44ODggMTMuNDA2LTEzLjYyNVY4Ni41SDU1LjUxM3YtMy40MDVIOTUuN2M3Ljc5MyAwIDEw\n",
    "LjY5Ni01LjQzNiAxMy40MDYtMTMuNTk0IDIuOC04LjM5OSAyLjY4LTE2LjQ3NiAwLTI3LjI1LTEu\n",
    "OTI1LTcuNzU4LTUuNjA0LTEzLjU5NC0xMy40MDYtMTMuNTk0ek03MC41NzUgOTMuMzEzYzIuNzgg\n",
    "MCA1LjAzMSAyLjI3OCA1LjAzMSA1LjA5NCAwIDIuODI3LTIuMjUxIDUuMTI1LTUuMDMxIDUuMTI1\n",
    "LTIuNzcgMC01LjAzMS0yLjI5OC01LjAzMS01LjEyNSAwLTIuODE2IDIuMjYxLTUuMDk0IDUuMDMx\n",
    "LTUuMDk0IiBzdHlsZT0iZmlsbDp1cmwoI2UpO2ZpbGwtb3BhY2l0eToxIi8+PGVsbGlwc2UgY3g9\n",
    "IjU1LjgxNyIgY3k9IjEyNy43MDEiIHJ4PSIzNS45MzEiIHJ5PSI2Ljk2NyIgc3R5bGU9Im9wYWNp\n",
    "dHk6LjQ0MzgyO2ZpbGw6dXJsKCNmKTtmaWxsLW9wYWNpdHk6MTtmaWxsLXJ1bGU6bm9uemVybztz\n",
    "dHJva2U6bm9uZTtzdHJva2Utd2lkdGg6MTUuNDE3NDtzdHJva2UtbWl0ZXJsaW1pdDo0O3N0cm9r\n",
    "ZS1kYXNoYXJyYXk6bm9uZTtzdHJva2Utb3BhY2l0eToxIi8+PC9zdmc+\n",
    "\"\n",
    "     style=\"display:block;margin:auto;width:10%\" alt=\"Python Logo\"/>\n",
    "<br>\n",
    "\n",
    "<div style=\"text-align:center; font-size:200%;\">\n",
    " <b>Clean Code: Kommentare und Dokumentation</b>\n",
    "</div>\n",
    "<br/>\n",
    "<div style=\"text-align:center;\">Dr. Matthias Hölzl</div>\n",
    "<br/>"
   ]
  },
  {
   "cell_type": "markdown",
   "id": "f18e221c27f5de25",
   "metadata": {
    "lang": "de",
    "lines_to_next_cell": 2,
    "slideshow": {
     "slide_type": "subslide"
    },
    "tags": [
     "subslide"
    ]
   },
   "source": [
    "\n",
    "## Docstrings\n",
    "\n",
    "Aus [PEP-257](https://peps.python.org/pep-0257/):\n",
    "\n",
    "Ein Docstring ist ein String-Literal, das als erste Anweisung in einer Modul-,\n",
    "Funktions-, Klassen- oder Methodendefinition auftritt. Ein solcher Docstring\n",
    "wird zum `__doc__`-Attribut dieses Objekts.\n",
    "\n",
    "Alle Module sollten normalerweise Docstrings haben, und alle Funktionen und\n",
    "Klassen, die von einem Modul exportiert werden, sollten ebenfalls Docstrings\n",
    "haben. Öffentliche Methoden (einschließlich des `__init__` Konstruktors)\n",
    "sollten auch docstrings haben. Ein Package kann im Modul-Docstring der Datei\n",
    "`__init__.py` im Package-Verzeichnis dokumentiert werden."
   ]
  },
  {
   "cell_type": "markdown",
   "id": "e06879e93fdcfb01",
   "metadata": {
    "lang": "de",
    "slideshow": {
     "slide_type": "subslide"
    },
    "tags": [
     "subslide"
    ]
   },
   "source": [
    "\n",
    "## Docstring-Konventionen\n",
    "\n",
    "- Einzeilige Docstrings\n",
    "  - Verwende dreifache Anführungszeichen\n",
    "  - Keine Leerzeile davor oder danach\n",
    "  - Eine Phrase, die mit einem Punkt endet\n",
    "  - Geschrieben als ein Befehl: \"Tu dies\", \"Gib diesen Wert zurück\"\n",
    "  - Ist nicht die Signatur der Funktion (die kann durch Introspektion\n",
    "    ermittelt werden)\n",
    "  - Mehr Informationen in\n",
    "    [PEP-257](https://peps.python.org/pep-0257/#one-line-docstrings)"
   ]
  },
  {
   "cell_type": "markdown",
   "id": "9cb3ee3de33a8686",
   "metadata": {
    "lang": "de",
    "slideshow": {
     "slide_type": "subslide"
    },
    "tags": [
     "subslide"
    ]
   },
   "source": [
    "\n",
    "## Docstring-Konventionen\n",
    "\n",
    "- Mehrzeilige Docstrings\n",
    "  - Zusammenfassungszeile wie ein einzeiliger Docstring\n",
    "  - Auf die Zusammenfassungszeile folgt eine Leerzeile\n",
    "  - Dann folgt eine ausführlichere Beschreibung, möglicherweise mit Doctests\n",
    "  - Auf den Docstring folgt eine Leerzeile\n",
    "  - Mehr Informationen in\n",
    "    [PEP-257](https://peps.python.org/pep-0257/#multi-line-docstrings)"
   ]
  },
  {
   "cell_type": "markdown",
   "id": "dc399658817f56b6",
   "metadata": {
    "lang": "de",
    "slideshow": {
     "slide_type": "subslide"
    },
    "tags": [
     "subslide"
    ]
   },
   "source": [
    "\n",
    "## Kommentare\n",
    "\n",
    "- Kommentare kompensieren unser Unvermögen, uns in Code auszudrücken.\n",
    "- Wenn möglich, drücke dich in Code aus, nicht in Kommentaren!\n",
    "  - Wann immer du einen Kommentar schreiben willst, prüfe, ob du es nicht im\n",
    "    Code tun kannst.\n",
    "  - Schreibe lieber Assertions oder Doctests, wenn möglich.\n",
    "  - Verwende erklärende Variablen"
   ]
  },
  {
   "cell_type": "code",
   "execution_count": 1,
   "id": "71a328bae5794805",
   "metadata": {
    "slideshow": {
     "slide_type": "subslide"
    },
    "tags": [
     "keep",
     "subslide"
    ]
   },
   "outputs": [],
   "source": [
    "# Compute the root of the quadratic equation with coefficients a, b, c.\n",
    "def root(a, b, c):\n",
    "    # Use the formula -b +- sqrt(b^2 - 4ac) / 2a to compute the roots\n",
    "    return (-b + (b**2 - 4 * a * c) ** 0.5) / (2 * a), (\n",
    "        -b - (b**2 - 4 * a * c) ** 0.5\n",
    "    ) / (2 * a)"
   ]
  },
  {
   "cell_type": "code",
   "execution_count": 2,
   "id": "389593d76f30561a",
   "metadata": {
    "tags": [
     "keep"
    ]
   },
   "outputs": [
    {
     "data": {
      "text/plain": [
       "(1.0, -1.0)"
      ]
     },
     "execution_count": 2,
     "metadata": {},
     "output_type": "execute_result"
    }
   ],
   "source": [
    "root(1, 0, -1)"
   ]
  },
  {
   "cell_type": "code",
   "execution_count": 3,
   "id": "9f7e1065391e7dfa",
   "metadata": {
    "tags": [
     "keep"
    ]
   },
   "outputs": [
    {
     "data": {
      "text/plain": [
       "(3.0, 2.0)"
      ]
     },
     "execution_count": 3,
     "metadata": {},
     "output_type": "execute_result"
    }
   ],
   "source": [
    "root(1, -5, 6)"
   ]
  },
  {
   "cell_type": "code",
   "execution_count": 4,
   "id": "14fb243390fd26de",
   "metadata": {
    "slideshow": {
     "slide_type": "subslide"
    },
    "tags": [
     "keep",
     "subslide"
    ]
   },
   "outputs": [],
   "source": [
    "def solve_quadratic_equation(a, b, c):\n",
    "    \"\"\"Compute the solution of the equation ax^2 + bx + c == 0.\n",
    "\n",
    "    >>> solve_quadratic_equation(1, 0, -1)\n",
    "    (1.0, -1.0)\n",
    "    >>> solve_quadratic_equation(1, -5, 6)\n",
    "    (3.0, 2.0)\n",
    "    \"\"\"\n",
    "    root = (b**2 - 4 * a * c) ** 0.5\n",
    "    d = 2 * a\n",
    "    return (-b + root) / d, (-b - root) / d"
   ]
  },
  {
   "cell_type": "code",
   "execution_count": 12,
   "id": "6092b9d26aaccae5",
   "metadata": {
    "tags": [
     "keep"
    ]
   },
   "outputs": [],
   "source": [
    "from doctest import testmod"
   ]
  },
  {
   "cell_type": "code",
   "execution_count": 13,
   "id": "647f21f9eb66455d",
   "metadata": {
    "tags": [
     "keep"
    ]
   },
   "outputs": [
    {
     "data": {
      "text/plain": [
       "TestResults(failed=0, attempted=2)"
      ]
     },
     "execution_count": 13,
     "metadata": {},
     "output_type": "execute_result"
    }
   ],
   "source": [
    "testmod()"
   ]
  },
  {
   "cell_type": "code",
   "execution_count": 11,
   "id": "6e9be16d831f6cdc",
   "metadata": {
    "slideshow": {
     "slide_type": "subslide"
    },
    "tags": [
     "keep",
     "subslide"
    ]
   },
   "outputs": [],
   "source": [
    "# Multiply the seconds in a day times the days of work.\n",
    "ds = 60 * 60 * 24 * 4"
   ]
  },
  {
   "cell_type": "code",
   "execution_count": null,
   "id": "d826879faa89227d",
   "metadata": {
    "lines_to_next_cell": 2,
    "tags": [
     "keep"
    ]
   },
   "outputs": [],
   "source": [
    "DAYS_OF_WORK = 4\n",
    "SECONDS_PER_DAY = 60 * 60 * 24\n",
    "duration_in_seconds = SECONDS_PER_DAY * DAYS_OF_WORK"
   ]
  },
  {
   "cell_type": "markdown",
   "id": "0a68ff314de8976c",
   "metadata": {
    "lang": "de",
    "slideshow": {
     "slide_type": "subslide"
    },
    "tags": [
     "subslide"
    ]
   },
   "source": [
    "\n",
    "## Wie Kommentare scheitern\n",
    "\n",
    "- Kommentare sind schwer zu pflegen\n",
    "- Deshalb lügen sie oft\n",
    "- Sie werden nicht geändert, wenn der Code aktualisiert wird\n",
    "- Sie werden nicht verschoben, wenn der Code verschoben wird"
   ]
  },
  {
   "cell_type": "markdown",
   "id": "9ec9e0b65f6dc0c4",
   "metadata": {},
   "source": [
    "```python\n",
    "# Check to see if the employee is eligible for full benefits\n",
    "if (employee.flags & HOURLY_FLAG) and (employee.age > 65):\n",
    "    ...\n",
    "```\n",
    "\n",
    "versus\n",
    "\n",
    "```python\n",
    "if employee.is_eligible_for_full_benefits():\n",
    "    ...\n",
    "```"
   ]
  },
  {
   "cell_type": "markdown",
   "id": "21825f5ec528e40a",
   "metadata": {
    "lang": "de",
    "lines_to_next_cell": 2,
    "slideshow": {
     "slide_type": "subslide"
    },
    "tags": [
     "subslide"
    ]
   },
   "source": [
    "\n",
    "## PEP-8 Regeln für Kommentare\n",
    "\n",
    "Befolge die [PEP-8](https://peps.python.org/pep-0008/#comments) Richtlinien\n",
    "für Kommentare:\n",
    "\n",
    "- Halte die Kommentare aktuell, wenn sich der Code ändert.\n",
    "- Kommentare sollten aus vollständigen Sätzen bestehen.\n",
    "  - Das erste Wort wird großgeschrieben, es sei denn, es ist ein Bezeichner.\n",
    "  - Bezeichner sollten niemals geändert werden\n",
    "  - Verwende in Kommentaren, die aus mehreren Sätzen bestehen, zwei\n",
    "    Leerzeichen nach einem Punkt am Satzende.\n",
    "- Die Kommentare müssen klar und leicht verständlich sein.\n",
    "- Python-Coder aus nicht englischsprachigen Ländern: Bitte schreibe deine\n",
    "  Kommentare auf Englisch, es sei denn, du bist 120% sicher, dass der Code\n",
    "  niemals von Leuten gelesen wird, die deine Sprache nicht sprechen."
   ]
  },
  {
   "cell_type": "markdown",
   "id": "9daee1d250a4856f",
   "metadata": {
    "lang": "de",
    "slideshow": {
     "slide_type": "subslide"
    },
    "tags": [
     "subslide"
    ]
   },
   "source": [
    "\n",
    "## Gute Kommentare\n",
    "\n",
    "Kommentare sind gut, wenn sie\n",
    "\n",
    "- aus juristischen Gründen notwendig sind\n",
    "- Konzepte erklären, die nicht im Code ausgedrückt werden können\n",
    "- den Zweck des Codes erklären\n",
    "- Code erklären, den man nicht bereinigen kann (z.B. eine veröffentlichte\n",
    "  Schnittstelle)\n",
    "- veröffentlichte Schnittstellen dokumentieren (z.B. mit Doxygen)\n",
    "- `TODO`-Kommentare sind (wenn sie sparsam verwendet werden)\n",
    "- wichtige Aspekte betonen (\"Dies ist sehr wichtig, weil...\")"
   ]
  },
  {
   "cell_type": "markdown",
   "id": "9d88d0fa6d8928d6",
   "metadata": {
    "lang": "de",
    "slideshow": {
     "slide_type": "subslide"
    },
    "tags": [
     "subslide"
    ]
   },
   "source": [
    "\n",
    "## Schlechte Kommentare\n",
    "\n",
    "- Unklare Kommentare (Nuscheln)\n",
    "\n",
    "Angenommen, der folgende Kommentar ist tatsächlich richtig. Was sagt er uns?"
   ]
  },
  {
   "cell_type": "code",
   "execution_count": null,
   "id": "d8d0fff027edd79e",
   "metadata": {
    "lines_to_next_cell": 2,
    "tags": [
     "keep"
    ]
   },
   "outputs": [],
   "source": [
    "try:\n",
    "    with open(\"my-app.cfg\", mode=\"r\", encoding=\"utf-8\"):\n",
    "        ...\n",
    "except FileNotFoundError:\n",
    "    # Somebody else has already loaded the defaults.\n",
    "    pass"
   ]
  },
  {
   "cell_type": "markdown",
   "id": "31d6a242f53f117c",
   "metadata": {
    "lang": "de",
    "slideshow": {
     "slide_type": "subslide"
    },
    "tags": [
     "subslide"
    ]
   },
   "source": [
    "\n",
    "- Redundante Kommentare (dauern länger als der Code zu lesen, ohne klarer zu\n",
    "  sein)"
   ]
  },
  {
   "cell_type": "code",
   "execution_count": null,
   "id": "dbf8ec319d726792",
   "metadata": {
    "tags": [
     "keep"
    ]
   },
   "outputs": [],
   "source": [
    "def read_and_apply_configuration(file):\n",
    "    ..."
   ]
  },
  {
   "cell_type": "code",
   "execution_count": null,
   "id": "7aa2c58be223320d",
   "metadata": {
    "lines_to_next_cell": 2,
    "tags": [
     "keep"
    ]
   },
   "outputs": [],
   "source": [
    "# Read the configuration from file `my-app.cfg`. The file has to be readable and\n",
    "# in UTF-8 encoding. If the file cannot be found we simply ignore the attempt.\n",
    "# If the file is indeed found, we read it and apply the configuration to the\n",
    "# system.\n",
    "try:\n",
    "    with open(\"my-app.cfg\", mode=\"r\", encoding=\"utf-8\") as file:\n",
    "        read_and_apply_configuration(file)\n",
    "except FileNotFoundError:\n",
    "    pass"
   ]
  },
  {
   "cell_type": "markdown",
   "id": "b9f5fcebe3c4fa16",
   "metadata": {
    "lang": "de",
    "slideshow": {
     "slide_type": "subslide"
    },
    "tags": [
     "subslide"
    ]
   },
   "source": [
    "\n",
    "- Irreführende Kommentare"
   ]
  },
  {
   "cell_type": "code",
   "execution_count": null,
   "id": "bab668537b177522",
   "metadata": {
    "tags": [
     "keep"
    ]
   },
   "outputs": [],
   "source": [
    "# Return a new list that is the concatenation of the elements in `list_1` and\n",
    "# `list_2`.\n",
    "def concatenate_lists(list_1, list_2):\n",
    "    if not list_1:\n",
    "        return list_2\n",
    "    elif not list_2:\n",
    "        return list_1\n",
    "    else:\n",
    "        return list_1 + list_2"
   ]
  },
  {
   "cell_type": "code",
   "execution_count": null,
   "id": "ae4059dcfe6c8c0f",
   "metadata": {
    "tags": [
     "keep"
    ]
   },
   "outputs": [],
   "source": [
    "assert concatenate_lists([1, 2], [3, 4]) == [1, 2, 3, 4]"
   ]
  },
  {
   "cell_type": "markdown",
   "id": "a8564a8df76fb146",
   "metadata": {
    "lang": "de",
    "slideshow": {
     "slide_type": "subslide"
    },
    "tags": [
     "subslide"
    ]
   },
   "source": [
    "\n",
    "Aufgrund des Kommentars würde man folgendes Verhalten nicht erwarten:"
   ]
  },
  {
   "cell_type": "code",
   "execution_count": null,
   "id": "2fe8fba0ca82b978",
   "metadata": {
    "tags": [
     "keep"
    ]
   },
   "outputs": [],
   "source": [
    "x = [1, 2]\n",
    "assert concatenate_lists(x, []) is x\n",
    "assert concatenate_lists([], x) is x"
   ]
  },
  {
   "cell_type": "markdown",
   "id": "aedbde9e7314cfe8",
   "metadata": {
    "lang": "de",
    "slideshow": {
     "slide_type": "subslide"
    },
    "tags": [
     "subslide"
    ]
   },
   "source": [
    "\n",
    "- Vorgeschriebene Kommentare (durch Style-Guides, nicht durch Gesetze)\n",
    "- Journal-Kommentare (Geschichte der Datei)"
   ]
  },
  {
   "cell_type": "code",
   "execution_count": null,
   "id": "d6fbdc29133bfc9f",
   "metadata": {
    "lines_to_next_cell": 2,
    "tags": [
     "keep"
    ]
   },
   "outputs": [],
   "source": [
    "# file: widget.py\n",
    "#\n",
    "# Changes made to the file:\n",
    "#\n",
    "# 2022-08-10: Added a frobnicator as proposed by Jane\n",
    "# 2022-08-11: Twiddled the frobnicator's parameters\n",
    "# 2022-08-12: Further tweaks to the frobnicator settings\n",
    "# 2022-08-13: Added flux compensation to the frobnicator\n",
    "# 2022-08-14: Improved flux compensation\n",
    "# 2022-09-03: Revisited flux compensation after discussion with Joe\n",
    "#\n",
    "class Frobnicator:\n",
    "    pass"
   ]
  },
  {
   "cell_type": "markdown",
   "id": "04ef63a15665b95e",
   "metadata": {
    "lang": "de",
    "slideshow": {
     "slide_type": "subslide"
    },
    "tags": [
     "subslide"
    ]
   },
   "source": [
    "\n",
    "- Inhaltsfreie Kommentare (Noise comments)"
   ]
  },
  {
   "cell_type": "code",
   "execution_count": null,
   "id": "4a45f147067d08a4",
   "metadata": {
    "tags": [
     "keep"
    ]
   },
   "outputs": [],
   "source": [
    "class FluxCompensator:\n",
    "    # The `__init__()` method of the flux compensator.\n",
    "    def __init__(self) -> None:\n",
    "        ..."
   ]
  },
  {
   "cell_type": "code",
   "execution_count": null,
   "id": "367970cc7a01e091",
   "metadata": {
    "lines_to_next_cell": 2,
    "tags": [
     "keep"
    ]
   },
   "outputs": [],
   "source": [
    "# Hourly wage in US$\n",
    "HOURLY_WAGE_IN_USD = 80"
   ]
  },
  {
   "cell_type": "markdown",
   "id": "16e87578bb2fd5a5",
   "metadata": {
    "lang": "de",
    "slideshow": {
     "slide_type": "subslide"
    },
    "tags": [
     "subslide"
    ]
   },
   "source": [
    "\n",
    "- Positions-Markierungen"
   ]
  },
  {
   "cell_type": "code",
   "execution_count": null,
   "id": "d7156487083d1482",
   "metadata": {
    "lines_to_next_cell": 2,
    "tags": [
     "keep"
    ]
   },
   "outputs": [],
   "source": [
    "class MyVeryLargeClass:\n",
    "    ####################################################\n",
    "    # Initialization Methods\n",
    "    ####################################################\n",
    "    def init(self):\n",
    "        ...\n",
    "\n",
    "    def init_in_another_way(self):\n",
    "        ...\n",
    "\n",
    "    ####################################################\n",
    "    # Computations\n",
    "    ####################################################\n",
    "    def compute_this(self):\n",
    "        ...\n",
    "\n",
    "    def compute_that(self):\n",
    "        ...\n",
    "\n",
    "    ####################################################\n",
    "    # State Updates\n",
    "    ####################################################\n",
    "    def set_some_state(self, x):\n",
    "        ..."
   ]
  },
  {
   "cell_type": "markdown",
   "id": "fdb3c78dae354225",
   "metadata": {
    "lang": "de",
    "slideshow": {
     "slide_type": "subslide"
    },
    "tags": [
     "subslide"
    ]
   },
   "source": [
    "\n",
    "- Zuschreibungen und Namensnennungen"
   ]
  },
  {
   "cell_type": "code",
   "execution_count": null,
   "id": "faeafb33b19f5225",
   "metadata": {
    "lines_to_next_cell": 2,
    "tags": [
     "keep"
    ]
   },
   "outputs": [],
   "source": [
    "# Added by Jack <jack@example.org> on 2018-03-12\n",
    "def some_function(x, y):\n",
    "    return x + y"
   ]
  },
  {
   "cell_type": "markdown",
   "id": "413798fe48b79ac8",
   "metadata": {
    "lang": "de",
    "slideshow": {
     "slide_type": "subslide"
    },
    "tags": [
     "subslide"
    ]
   },
   "source": [
    "\n",
    "- Auskommentierter Code\n",
    "  - Neigt dazu, nie gelöscht zu werden\n",
    "  - Unklar, warum er da ist: sollte er gelöscht oder wieder einkommentiert\n",
    "    werden?\n",
    "  - Sollte lieber gelöscht und bei Bedarf aus dem Versionskontrollsystem\n",
    "    wiederhergestellt werden"
   ]
  },
  {
   "cell_type": "code",
   "execution_count": null,
   "id": "f072eadad325749f",
   "metadata": {
    "lines_to_next_cell": 2,
    "tags": [
     "keep"
    ]
   },
   "outputs": [],
   "source": [
    "# def some_function(x, y):\n",
    "#     return x + y"
   ]
  },
  {
   "cell_type": "code",
   "execution_count": null,
   "id": "5e8da40db31012b8",
   "metadata": {
    "lines_to_next_cell": 2,
    "tags": [
     "keep"
    ]
   },
   "outputs": [],
   "source": [
    "def some_other_function(x, y):\n",
    "    # z = x + y\n",
    "    # return z\n",
    "    return 123"
   ]
  },
  {
   "cell_type": "markdown",
   "id": "652e645c60fd6d50",
   "metadata": {
    "lang": "de",
    "slideshow": {
     "slide_type": "subslide"
    },
    "tags": [
     "subslide"
    ]
   },
   "source": [
    "\n",
    "- HTML-Kommentare\n",
    "\n",
    "In Python werden Formatierungen in Kommentaren entweder in Markdown oder in\n",
    "reStructuredText (RST) geschrieben:"
   ]
  },
  {
   "cell_type": "code",
   "execution_count": null,
   "id": "fd815cc95a63c4b0",
   "metadata": {
    "lines_to_next_cell": 2,
    "tags": [
     "keep"
    ],
    "tss": null
   },
   "outputs": [],
   "source": [
    "# <p><strong>Important:</strong></p>\n",
    "# <ul>\n",
    "#   <li>\n",
    "#     Don&#39;t use <code>frobnicator_1</code> to tweak\n",
    "#     <code>flux_compensator_2</code> because they are not\n",
    "#     coherent!\n",
    "#   </li>\n",
    "#   <li>\n",
    "#     Make sure that <code>fuzzbox_2</code> is turned to\n",
    "#     at least 11 before plugging in the guitar.\n",
    "#   </li>\n",
    "# </ul>"
   ]
  },
  {
   "cell_type": "code",
   "execution_count": null,
   "id": "30b278fa2bbb95fb",
   "metadata": {
    "slideshow": {
     "slide_type": "subslide"
    },
    "tags": [
     "keep",
     "subslide"
    ]
   },
   "outputs": [],
   "source": [
    "# **Important:**\n",
    "#\n",
    "# - Don't use `frobnicator_1` to tweak `flux_compensator_2` because they are not\n",
    "#   coherent!\n",
    "# - Make sure that `fuzzbox_2` is turned to at least 11 before plugging in the\n",
    "#   guitar."
   ]
  },
  {
   "cell_type": "markdown",
   "id": "7b2788077044ae6e",
   "metadata": {
    "lang": "de",
    "slideshow": {
     "slide_type": "subslide"
    },
    "tags": [
     "subslide"
    ]
   },
   "source": [
    "\n",
    "- Nichtlokale Information"
   ]
  },
  {
   "cell_type": "code",
   "execution_count": null,
   "id": "190781acd2dd66d1",
   "metadata": {
    "tags": [
     "keep"
    ]
   },
   "outputs": [],
   "source": [
    "# This is set to its correct value by `frob_foo()` in file `frobnicator.py`.\n",
    "foo = 123"
   ]
  },
  {
   "cell_type": "markdown",
   "id": "a6bca532a310eb4c",
   "metadata": {
    "lang": "de",
    "slideshow": {
     "slide_type": "subslide"
    },
    "tags": [
     "subslide"
    ]
   },
   "source": [
    "\n",
    "- Zu viel Information"
   ]
  },
  {
   "cell_type": "code",
   "execution_count": null,
   "id": "4bbb0ef19bb38bd2",
   "metadata": {
    "tags": [
     "keep"
    ]
   },
   "outputs": [],
   "source": [
    "\n",
    "# Implement protocol handling according to ABC Standard 212-3.\n",
    "#\n",
    "# This was first proposed by Steve in a meeting in 2013, but at the time we had\n",
    "# no compatible implementation of the support libraries available. We therefore\n",
    "# shelved the discussion until Tina brought the topic up in the famous all-hands\n",
    "# meeting of October 2019. There were some initial problems, but we finally\n",
    "# succeeded in getting a running implementation working in 2021. This contains a\n",
    "# bug that is still present in the current code base that causes the system to\n",
    "# crash when talking to a client that implements variant /4 of the protocol.\n",
    "# Finally, in early 2022 we also adapted this implementation for the XYZ device\n",
    "# series."
   ]
  },
  {
   "cell_type": "markdown",
   "id": "e90419dad02ee4fc",
   "metadata": {
    "lang": "de",
    "slideshow": {
     "slide_type": "subslide"
    },
    "tags": [
     "subslide"
    ]
   },
   "source": [
    "\n",
    "- Unklarer Bezug zum Code"
   ]
  },
  {
   "cell_type": "code",
   "execution_count": null,
   "id": "c2ac471470ef4355",
   "metadata": {
    "tags": [
     "keep"
    ]
   },
   "outputs": [],
   "source": [
    "# Adjust for target endianness and buffer size\n",
    "foo = max((foo + 7) * 2, 256)"
   ]
  }
 ],
 "metadata": {
  "jupytext": {
   "cell_metadata_filter": "tss,lang,tags,-all",
   "main_language": "python",
   "notebook_metadata_filter": "-all"
  },
  "kernelspec": {
   "display_name": "venv",
   "language": "python",
   "name": "python3"
  },
  "language_info": {
   "codemirror_mode": {
    "name": "ipython",
    "version": 3
   },
   "file_extension": ".py",
   "mimetype": "text/x-python",
   "name": "python",
   "nbconvert_exporter": "python",
   "pygments_lexer": "ipython3",
   "version": "3.13.2"
  }
 },
 "nbformat": 4,
 "nbformat_minor": 5
}
