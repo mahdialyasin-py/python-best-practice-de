{
 "cells": [
  {
   "cell_type": "markdown",
   "id": "20e93940d9dbfc31",
   "metadata": {
    "lang": "de",
    "slideshow": {
     "slide_type": "slide"
    },
    "tags": [
     "slide"
    ]
   },
   "source": [
    "\n",
    "<img src=\"data:image/svg+xml;base64,PHN2ZyB4bWxucz0iaHR0cDovL3d3dy53My5vcmcvMjAwMC9zdmciIHhtbG5zOnhsaW5rPSJodHRw\n",
    "Oi8vd3d3LnczLm9yZy8xOTk5L3hsaW5rIiB3aWR0aD0iMTExLjE2MSIgaGVpZ2h0PSIxMzQuNjY4\n",
    "IiB2ZXJzaW9uPSIxLjAiPjxkZWZzPjxsaW5lYXJHcmFkaWVudCBpZD0iYyI+PHN0b3Agb2Zmc2V0\n",
    "PSIwIiBzdHlsZT0ic3RvcC1jb2xvcjojYjhiOGI4O3N0b3Atb3BhY2l0eTouNDk4MDM5MjIiLz48\n",
    "c3RvcCBvZmZzZXQ9IjEiIHN0eWxlPSJzdG9wLWNvbG9yOiM3ZjdmN2Y7c3RvcC1vcGFjaXR5OjAi\n",
    "Lz48L2xpbmVhckdyYWRpZW50PjxsaW5lYXJHcmFkaWVudCBpZD0iYSI+PHN0b3Agb2Zmc2V0PSIw\n",
    "IiBzdHlsZT0ic3RvcC1jb2xvcjojZmZkNDNiO3N0b3Atb3BhY2l0eToxIi8+PHN0b3Agb2Zmc2V0\n",
    "PSIxIiBzdHlsZT0ic3RvcC1jb2xvcjojZmZlODczO3N0b3Atb3BhY2l0eToxIi8+PC9saW5lYXJH\n",
    "cmFkaWVudD48bGluZWFyR3JhZGllbnQgaWQ9ImIiPjxzdG9wIG9mZnNldD0iMCIgc3R5bGU9InN0\n",
    "b3AtY29sb3I6IzVhOWZkNDtzdG9wLW9wYWNpdHk6MSIvPjxzdG9wIG9mZnNldD0iMSIgc3R5bGU9\n",
    "InN0b3AtY29sb3I6IzMwNjk5ODtzdG9wLW9wYWNpdHk6MSIvPjwvbGluZWFyR3JhZGllbnQ+PGxp\n",
    "bmVhckdyYWRpZW50IHhsaW5rOmhyZWY9IiNhIiBpZD0iZSIgeDE9IjE1MC45NjEiIHgyPSIxMTIu\n",
    "MDMxIiB5MT0iMTkyLjM1MiIgeTI9IjEzNy4yNzMiIGdyYWRpZW50VHJhbnNmb3JtPSJtYXRyaXgo\n",
    "LjU2MjU0IDAgMCAuNTY3OTcgLTE0Ljk5MSAtMTEuNzAyKSIgZ3JhZGllbnRVbml0cz0idXNlclNw\n",
    "YWNlT25Vc2UiLz48bGluZWFyR3JhZGllbnQgeGxpbms6aHJlZj0iI2IiIGlkPSJkIiB4MT0iMjYu\n",
    "NjQ5IiB4Mj0iMTM1LjY2NSIgeTE9IjIwLjYwNCIgeTI9IjExNC4zOTgiIGdyYWRpZW50VHJhbnNm\n",
    "b3JtPSJtYXRyaXgoLjU2MjU0IDAgMCAuNTY3OTcgLTE0Ljk5MSAtMTEuNzAyKSIgZ3JhZGllbnRV\n",
    "bml0cz0idXNlclNwYWNlT25Vc2UiLz48cmFkaWFsR3JhZGllbnQgeGxpbms6aHJlZj0iI2MiIGlk\n",
    "PSJmIiBjeD0iNjEuNTE5IiBjeT0iMTMyLjI4NiIgcj0iMjkuMDM3IiBmeD0iNjEuNTE5IiBmeT0i\n",
    "MTMyLjI4NiIgZ3JhZGllbnRUcmFuc2Zvcm09Im1hdHJpeCgwIC0uMjM5OTUgMS4wNTQ2NyAwIC04\n",
    "My43IDE0Mi40NjIpIiBncmFkaWVudFVuaXRzPSJ1c2VyU3BhY2VPblVzZSIvPjwvZGVmcz48cGF0\n",
    "aCBkPSJNNTQuOTE5IDBjLTQuNTg0LjAyMi04Ljk2MS40MTMtMTIuODEzIDEuMDk1QzMwLjc2IDMu\n",
    "MDk5IDI4LjcgNy4yOTUgMjguNyAxNS4wMzJ2MTAuMjE5aDI2LjgxM3YzLjQwNkgxOC42MzhjLTcu\n",
    "NzkzIDAtMTQuNjE2IDQuNjg0LTE2Ljc1IDEzLjU5NC0yLjQ2MiAxMC4yMTMtMi41NzEgMTYuNTg2\n",
    "IDAgMjcuMjUgMS45MDUgNy45MzggNi40NTcgMTMuNTk0IDE0LjI1IDEzLjU5NGg5LjIxOHYtMTIu\n",
    "MjVjMC04Ljg1IDcuNjU3LTE2LjY1NyAxNi43NS0xNi42NTdoMjYuNzgyYzcuNDU0IDAgMTMuNDA2\n",
    "LTYuMTM4IDEzLjQwNi0xMy42MjV2LTI1LjUzYzAtNy4yNjctNi4xMy0xMi43MjYtMTMuNDA2LTEz\n",
    "LjkzOEM2NC4yODIuMzI4IDU5LjUwMi0uMDIgNTQuOTE4IDBtLTE0LjUgOC4yMmMyLjc3IDAgNS4w\n",
    "MzEgMi4yOTggNS4wMzEgNS4xMjUgMCAyLjgxNi0yLjI2MiA1LjA5My01LjAzMSA1LjA5My0yLjc4\n",
    "IDAtNS4wMzEtMi4yNzctNS4wMzEtNS4wOTMgMC0yLjgyNyAyLjI1MS01LjEyNSA1LjAzLTUuMTI1\n",
    "IiBzdHlsZT0iZmlsbDp1cmwoI2QpO2ZpbGwtb3BhY2l0eToxIi8+PHBhdGggZD0iTTg1LjYzOCAy\n",
    "OC42NTd2MTEuOTA2YzAgOS4yMzEtNy44MjYgMTctMTYuNzUgMTdINDIuMTA2Yy03LjMzNiAwLTEz\n",
    "LjQwNiA2LjI3OS0xMy40MDYgMTMuNjI1Vjk2LjcyYzAgNy4yNjYgNi4zMTkgMTEuNTQgMTMuNDA2\n",
    "IDEzLjYyNSA4LjQ4OCAyLjQ5NSAxNi42MjcgMi45NDYgMjYuNzgyIDAgNi43NS0xLjk1NSAxMy40\n",
    "MDYtNS44ODggMTMuNDA2LTEzLjYyNVY4Ni41SDU1LjUxM3YtMy40MDVIOTUuN2M3Ljc5MyAwIDEw\n",
    "LjY5Ni01LjQzNiAxMy40MDYtMTMuNTk0IDIuOC04LjM5OSAyLjY4LTE2LjQ3NiAwLTI3LjI1LTEu\n",
    "OTI1LTcuNzU4LTUuNjA0LTEzLjU5NC0xMy40MDYtMTMuNTk0ek03MC41NzUgOTMuMzEzYzIuNzgg\n",
    "MCA1LjAzMSAyLjI3OCA1LjAzMSA1LjA5NCAwIDIuODI3LTIuMjUxIDUuMTI1LTUuMDMxIDUuMTI1\n",
    "LTIuNzcgMC01LjAzMS0yLjI5OC01LjAzMS01LjEyNSAwLTIuODE2IDIuMjYxLTUuMDk0IDUuMDMx\n",
    "LTUuMDk0IiBzdHlsZT0iZmlsbDp1cmwoI2UpO2ZpbGwtb3BhY2l0eToxIi8+PGVsbGlwc2UgY3g9\n",
    "IjU1LjgxNyIgY3k9IjEyNy43MDEiIHJ4PSIzNS45MzEiIHJ5PSI2Ljk2NyIgc3R5bGU9Im9wYWNp\n",
    "dHk6LjQ0MzgyO2ZpbGw6dXJsKCNmKTtmaWxsLW9wYWNpdHk6MTtmaWxsLXJ1bGU6bm9uemVybztz\n",
    "dHJva2U6bm9uZTtzdHJva2Utd2lkdGg6MTUuNDE3NDtzdHJva2UtbWl0ZXJsaW1pdDo0O3N0cm9r\n",
    "ZS1kYXNoYXJyYXk6bm9uZTtzdHJva2Utb3BhY2l0eToxIi8+PC9zdmc+\n",
    "\"\n",
    "     style=\"display:block;margin:auto;width:10%\" alt=\"Python Logo\"/>\n",
    "<br>\n",
    "\n",
    "<div style=\"text-align:center; font-size:200%;\">\n",
    " <b>SOLID: Single Responsibility Prinzip</b>\n",
    "</div>\n",
    "<br/>\n",
    "<div style=\"text-align:center;\">Dr. Matthias Hölzl</div>\n",
    "<br/>"
   ]
  },
  {
   "cell_type": "markdown",
   "id": "04c5741553fb7628",
   "metadata": {
    "lang": "de",
    "slideshow": {
     "slide_type": "subslide"
    },
    "tags": [
     "subslide"
    ]
   },
   "source": [
    "\n",
    "- Problem: Zu viel Funktionalität in einer Klasse\n",
    "- Sowohl SOLID als auch GRASP haben jeweils ein Pattern dafür/dagegen"
   ]
  },
  {
   "cell_type": "markdown",
   "id": "1118cde7dda2ee13",
   "metadata": {
    "lang": "de",
    "slideshow": {
     "slide_type": "subslide"
    },
    "tags": [
     "subslide"
    ]
   },
   "source": [
    "\n",
    "## Single Responsibility Principle (SRP, SOLID)\n",
    "\n",
    "- Ein Modul sollte nur einen einzigen Grund haben, sich zu ändern\n",
    "- Alternative Formulierung: Ein Modul sollte nur gegenüber einem einzigen\n",
    "  Aktor verantwortlich sein\n",
    "- Der Name kann leicht falsch verstanden werden:\n",
    "  - Responsibility-Driven Design (RDD) ist ein etabliertes Vorgehen in der\n",
    "    Softwareentwicklung\n",
    "  - SRP besagt nicht, dass jede Klasse nur eine einzige Verantwortung (im RDD-Sinne)\n",
    "    haben darf"
   ]
  },
  {
   "cell_type": "markdown",
   "id": "12ea3c4e88dab550",
   "metadata": {
    "lang": "de",
    "slideshow": {
     "slide_type": "subslide"
    },
    "tags": [
     "subslide"
    ]
   },
   "source": [
    "\n",
    "### Wie entdecken wir eine Verletzung des SRP?\n",
    "\n",
    "- Analyse von Änderungen, die aus Anforderungen entstehen könnten\n",
    "- Betrachtung der Akteure, die die Klasse verwenden/Änderungen anfordern\n",
    "- Analyse des Codes auf mögliche Änderungen\n",
    "- Code Smell: Divergent Change"
   ]
  },
  {
   "cell_type": "markdown",
   "id": "6cbac0bd2936f940",
   "metadata": {
    "lang": "de",
    "slideshow": {
     "slide_type": "subslide"
    },
    "tags": [
     "subslide"
    ]
   },
   "source": [
    "\n",
    "### Beispiel: Verletzung des SRP\n",
    "\n",
    "Wir haben die folgende Funktion.\n",
    "\n",
    "- Verletzt sie das SRP?\n",
    "- Was können wir dagegen tun?"
   ]
  },
  {
   "cell_type": "code",
   "execution_count": 1,
   "id": "cbcbe5bb910f96ff",
   "metadata": {
    "tags": [
     "keep"
    ]
   },
   "outputs": [],
   "source": [
    "def compute_save_and_print_results(a: int, b: int, results: list) -> int:\n",
    "    # complex computation...\n",
    "    new_result = a + b\n",
    "    # save result to persistent storage...\n",
    "    results.append(new_result)\n",
    "    # print report...\n",
    "    for r in results:\n",
    "        print(f\"Result: {r}\")\n",
    "    # provide information about the new result...\n",
    "    return new_result"
   ]
  },
  {
   "cell_type": "code",
   "execution_count": 2,
   "id": "46b6c2e6b44b96f9",
   "metadata": {
    "slideshow": {
     "slide_type": "subslide"
    },
    "tags": [
     "keep",
     "subslide"
    ]
   },
   "outputs": [],
   "source": [
    "my_results = []"
   ]
  },
  {
   "cell_type": "code",
   "execution_count": 3,
   "id": "b5b308111ebe47a5",
   "metadata": {},
   "outputs": [
    {
     "name": "stdout",
     "output_type": "stream",
     "text": [
      "Result: 3\n"
     ]
    },
    {
     "data": {
      "text/plain": [
       "3"
      ]
     },
     "execution_count": 3,
     "metadata": {},
     "output_type": "execute_result"
    }
   ],
   "source": [
    "compute_save_and_print_results(1, 2, my_results)"
   ]
  },
  {
   "cell_type": "markdown",
   "id": "192175cfab21c62e",
   "metadata": {
    "lang": "de",
    "slideshow": {
     "slide_type": "subslide"
    },
    "tags": [
     "subslide"
    ]
   },
   "source": [
    "\n",
    "### Was sind die Gründe, dass sich diese Funktion ändert?\n",
    "\n",
    "- Die komplexe Berechnung\n",
    "- Das Speichern der Ergebnisse\n",
    "- Die Formatierung des Berichts\n",
    "- Die Information, die im Report enthalten ist\n",
    "- Die Teile oder Reihenfolge der Berechnung"
   ]
  },
  {
   "cell_type": "code",
   "execution_count": 4,
   "id": "816abc40616cdee9",
   "metadata": {
    "lines_to_next_cell": 2,
    "slideshow": {
     "slide_type": "subslide"
    },
    "tags": [
     "subslide",
     "keep"
    ]
   },
   "outputs": [],
   "source": [
    "def compute_result(a: int, b: int) -> int:\n",
    "    return a + b"
   ]
  },
  {
   "cell_type": "code",
   "execution_count": 5,
   "id": "89dc8acae18c2fa6",
   "metadata": {
    "lines_to_next_cell": 2,
    "tags": [
     "keep"
    ]
   },
   "outputs": [],
   "source": [
    "def save_result(result: int, results: list):\n",
    "    results.append(result)"
   ]
  },
  {
   "cell_type": "code",
   "execution_count": 6,
   "id": "c2153ac0fe74238c",
   "metadata": {
    "lines_to_next_cell": 2,
    "tags": [
     "keep"
    ]
   },
   "outputs": [],
   "source": [
    "def print_report(results):\n",
    "    for r in results:\n",
    "        print(f\"Result: {r}\")"
   ]
  },
  {
   "cell_type": "code",
   "execution_count": 11,
   "id": "5f878d792fa0ac75",
   "metadata": {
    "slideshow": {
     "slide_type": "subslide"
    },
    "tags": [
     "subslide",
     "keep"
    ]
   },
   "outputs": [],
   "source": [
    "def process_new_sensor_data(a: int, b: int, results: list) -> int:\n",
    "    new_result = compute_result(a, b)\n",
    "    save_result(new_result, results)\n",
    "    print_report(results)\n",
    "    return new_result"
   ]
  },
  {
   "cell_type": "code",
   "execution_count": 12,
   "id": "640a42fec534f743",
   "metadata": {
    "tags": [
     "keep"
    ]
   },
   "outputs": [],
   "source": [
    "my_sensor_data = []"
   ]
  },
  {
   "cell_type": "code",
   "execution_count": 13,
   "id": "f694ce5adaa72292",
   "metadata": {},
   "outputs": [
    {
     "name": "stdout",
     "output_type": "stream",
     "text": [
      "Result: 3\n"
     ]
    },
    {
     "data": {
      "text/plain": [
       "3"
      ]
     },
     "execution_count": 13,
     "metadata": {},
     "output_type": "execute_result"
    }
   ],
   "source": [
    "process_new_sensor_data(1, 2, my_sensor_data)"
   ]
  },
  {
   "cell_type": "markdown",
   "id": "9a58aa648d4405fc",
   "metadata": {
    "lang": "de",
    "slideshow": {
     "slide_type": "subslide"
    },
    "tags": [
     "subslide"
    ]
   },
   "source": [
    "\n",
    "- Wir haben die Menge an Code verdoppelt\n",
    "- Haben wir wirklich eine Verbesserung erreicht?"
   ]
  },
  {
   "cell_type": "markdown",
   "id": "862d84f6d81e97f1",
   "metadata": {
    "lang": "de",
    "slideshow": {
     "slide_type": "subslide"
    },
    "tags": [
     "subslide"
    ]
   },
   "source": [
    "\n",
    "### Was sind die Gründe, dass sich die neue Funktion ändert?\n",
    "\n",
    "- <del>Die komplexe Berechnung</del> $\\rightarrow$ `compute_result()`\n",
    "- <del>Das Speichern der Ergebnisse</del> $\\rightarrow$ `save_result()`\n",
    "- <del>Die Art, in der der Bericht ausgedruckt wird</del>\n",
    "  $\\rightarrow$ `print_report()`\n",
    "- <del>Die Information, die im Report enthalten ist</del>\n",
    "  $\\rightarrow$ `print_report()`\n",
    "- Die Teile oder Reihenfolge der Berechnung"
   ]
  },
  {
   "cell_type": "markdown",
   "id": "5972de0fbb0dbe14",
   "metadata": {
    "lang": "de",
    "slideshow": {
     "slide_type": "subslide"
    },
    "tags": [
     "subslide"
    ]
   },
   "source": [
    "\n",
    "- Die Funktion verletzt immer noch das Command-Query-Separation-Prinzip (CQS)\n",
    "  - Sie hat Seiteneffekte (Speichern und Drucken)\n",
    "  - Sie gibt einen Wert zurück (das neue Ergebnis)"
   ]
  },
  {
   "cell_type": "markdown",
   "id": "5db92b615fcbf6d6",
   "metadata": {
    "lang": "de",
    "slideshow": {
     "slide_type": "subslide"
    },
    "tags": [
     "subslide"
    ]
   },
   "source": [
    "\n",
    "## Command-Query Separation (CQS)\n",
    "\n",
    "- Eine Funktion sollte entweder eine Abfrage (Query) oder eine Anweisung\n",
    "  (Command) sein, aber nicht beides\n",
    "- Eine Abfrage ist eine Funktion, die einen Wert zurückgibt, aber keine\n",
    "  beobachtbaren Seiteneffekte hat\n",
    "- Eine Anweisung ist eine Funktion, die keine Werte zurückgibt, aber\n",
    "  beobachtbare Seiteneffekte hat\n",
    "- Eine Funktion, die CQS nicht erfüllt verletzt meistens das SRP"
   ]
  },
  {
   "cell_type": "code",
   "execution_count": 14,
   "id": "d5c80bab562d1ff6",
   "metadata": {
    "slideshow": {
     "slide_type": "subslide"
    },
    "tags": [
     "keep",
     "subslide"
    ]
   },
   "outputs": [],
   "source": [
    "my_list = [3, 1, 4, 1, 5, 9, 2, 6, 5, 3, 5, 8, 9, 7]"
   ]
  },
  {
   "cell_type": "code",
   "execution_count": 15,
   "id": "4fa5e2653f25419b",
   "metadata": {},
   "outputs": [
    {
     "data": {
      "text/plain": [
       "[1, 1, 2, 3, 3, 4, 5, 5, 5, 6, 7, 8, 9, 9]"
      ]
     },
     "execution_count": 15,
     "metadata": {},
     "output_type": "execute_result"
    }
   ],
   "source": [
    "sorted(my_list)"
   ]
  },
  {
   "cell_type": "code",
   "execution_count": 16,
   "id": "fbef725735a22f8d",
   "metadata": {},
   "outputs": [
    {
     "data": {
      "text/plain": [
       "[3, 1, 4, 1, 5, 9, 2, 6, 5, 3, 5, 8, 9, 7]"
      ]
     },
     "execution_count": 16,
     "metadata": {},
     "output_type": "execute_result"
    }
   ],
   "source": [
    "my_list"
   ]
  },
  {
   "cell_type": "code",
   "execution_count": 19,
   "id": "b0e6116901cfd7ae",
   "metadata": {},
   "outputs": [],
   "source": [
    "my_list.sort()"
   ]
  },
  {
   "cell_type": "code",
   "execution_count": 21,
   "id": "75de4a749c47245d",
   "metadata": {},
   "outputs": [
    {
     "data": {
      "text/plain": [
       "[1, 1, 2, 3, 3, 4, 5, 5, 5, 6, 7, 8, 9, 9]"
      ]
     },
     "execution_count": 21,
     "metadata": {},
     "output_type": "execute_result"
    }
   ],
   "source": [
    "my_list"
   ]
  },
  {
   "cell_type": "markdown",
   "id": "ccf63547bc39a709",
   "metadata": {
    "lang": "de",
    "slideshow": {
     "slide_type": "subslide"
    },
    "tags": [
     "subslide"
    ]
   },
   "source": [
    "\n",
    "## Workshop: CQS\n",
    "\n",
    "Ein Verkaufssystems für Veranstaltungstickets speichert die Anzahl der noch\n",
    "verfügbaren Tickets für verschiedene Veranstaltungen in einer Variable `events`\n",
    "und die Anzahl der erfolgreichen/fehlgeschlagenen Ticketkäufe in Variablen\n",
    "`tickets_sold` und `failed_purchases`."
   ]
  },
  {
   "cell_type": "code",
   "execution_count": null,
   "id": "9e1e6e876e80db9a",
   "metadata": {
    "tags": [
     "keep"
    ]
   },
   "outputs": [],
   "source": [
    "events = {\"Cats\": 10, \"Les Miserables\": 1, \"Phantom of the Opera\": 8}\n",
    "tickets_sold = 0\n",
    "failed_purchases = 0"
   ]
  },
  {
   "cell_type": "markdown",
   "id": "f6d08ef5f48c1021",
   "metadata": {
    "lang": "de",
    "slideshow": {
     "slide_type": "subslide"
    },
    "tags": [
     "subslide"
    ]
   },
   "source": [
    "\n",
    "Die Klasse `User` wurde folgendermaßen implementiert:"
   ]
  },
  {
   "cell_type": "code",
   "execution_count": null,
   "id": "f4c35f14c8bcec81",
   "metadata": {
    "tags": [
     "keep"
    ]
   },
   "outputs": [],
   "source": [
    "from dataclasses import dataclass, field"
   ]
  },
  {
   "cell_type": "code",
   "execution_count": null,
   "id": "cc6a094ab1ea6ce5",
   "metadata": {
    "tags": [
     "keep"
    ]
   },
   "outputs": [],
   "source": [
    "@dataclass\n",
    "class User:\n",
    "    events: dict = field(default_factory=dict)\n",
    "\n",
    "    def buy_ticket(self, event: str, number_of_tickets: int):\n",
    "        if events.get(event, 0) < number_of_tickets:\n",
    "            return f\"Sorry, there are not enough tickets for {event}.\"\n",
    "        else:\n",
    "            events[event] = events.get(event, 0) - number_of_tickets\n",
    "        self.events[event] = self.events.get(event, 0) + number_of_tickets\n",
    "\n",
    "        return f\"You have {self.events.get(event, 0)} tickets for {event}.\"\n",
    "\n",
    "    @staticmethod\n",
    "    def register_sale_and_print(sales_result):\n",
    "        print(sales_result)\n",
    "        if sales_result.startswith(\"Sorry\"):\n",
    "            global failed_purchases\n",
    "            failed_purchases += 1\n",
    "        else:\n",
    "            number_of_tickets = int(sales_result.split()[2])\n",
    "            print(f\"Tickets sold: {number_of_tickets}\")\n",
    "            global tickets_sold\n",
    "            tickets_sold += number_of_tickets"
   ]
  },
  {
   "cell_type": "markdown",
   "id": "a20f058c36c715d7",
   "metadata": {
    "lang": "de",
    "slideshow": {
     "slide_type": "subslide"
    },
    "tags": [
     "subslide"
    ]
   },
   "source": [
    "\n",
    "Das System wird folgendermaßen verwendet:\n",
    "\n",
    "- Ein Benutzer kauft Tickets für eine Veranstaltung"
   ]
  },
  {
   "cell_type": "code",
   "execution_count": null,
   "id": "42f86d6d26e338c3",
   "metadata": {
    "tags": [
     "keep"
    ]
   },
   "outputs": [],
   "source": [
    "user = User()"
   ]
  },
  {
   "cell_type": "code",
   "execution_count": null,
   "id": "a3de86bcd15825d2",
   "metadata": {
    "tags": [
     "keep"
    ]
   },
   "outputs": [],
   "source": [
    "result = user.buy_ticket(\"Cats\", 2)\n",
    "user.register_sale_and_print(result)"
   ]
  },
  {
   "cell_type": "code",
   "execution_count": null,
   "id": "ba80aa19f70f37e2",
   "metadata": {
    "tags": [
     "keep"
    ]
   },
   "outputs": [],
   "source": [
    "result = user.buy_ticket(\"Les Miserables\", 2)\n",
    "user.register_sale_and_print(result)"
   ]
  },
  {
   "cell_type": "markdown",
   "id": "709c9f945440c0d1",
   "metadata": {
    "lang": "de",
    "slideshow": {
     "slide_type": "subslide"
    },
    "tags": [
     "subslide"
    ]
   },
   "source": [
    "\n",
    "- Wir wollen wissen, wie viele Tickets ein Benutzer für eine Veranstaltung hat\n",
    "  und wie viele noch verfügbar sind:"
   ]
  },
  {
   "cell_type": "code",
   "execution_count": null,
   "id": "ccfaf7bf9548747c",
   "metadata": {
    "tags": [
     "keep"
    ]
   },
   "outputs": [],
   "source": [
    "print(user.buy_ticket(\"Cats\", 0))\n",
    "print(f\"There are {events.get('Cats', 0)} tickets left for Cats.\")"
   ]
  },
  {
   "cell_type": "markdown",
   "id": "481e7510a681736c",
   "metadata": {
    "lang": "de"
   },
   "source": [
    "\n",
    "Es stellt sich heraus, dass das System sehr fehleranfällig ist.\n",
    "\n",
    "- Welche der besprochenen Prinzipien werden verletzt?\n",
    "- Implementieren Sie eine verbesserte Version des Systems."
   ]
  },
  {
   "cell_type": "markdown",
   "id": "c6dcdfb3f85e7bb1",
   "metadata": {
    "lang": "de",
    "tags": [
     "answer"
    ]
   },
   "source": [
    "*Antwort:* "
   ]
  },
  {
   "cell_type": "markdown",
   "id": "96b66c63c35ea05f",
   "metadata": {
    "lang": "de",
    "slideshow": {
     "slide_type": "subslide"
    },
    "tags": [
     "subslide"
    ]
   },
   "source": [
    "\n",
    "- Wir lassen die globalen Variablen unverändert, es wäre aber besser, sie zu\n",
    "  kapseln\n",
    "- Wir isolieren die Verantwortung zum Kaufen des Tickets in einer eigenen\n",
    "  Methode\n",
    "- Die neuen Methoden befolgen CQS"
   ]
  },
  {
   "cell_type": "code",
   "execution_count": null,
   "id": "00a092ad52e05f8a",
   "metadata": {},
   "outputs": [],
   "source": []
  },
  {
   "cell_type": "code",
   "execution_count": null,
   "id": "af119da91e653727",
   "metadata": {},
   "outputs": [],
   "source": []
  },
  {
   "cell_type": "code",
   "execution_count": null,
   "id": "dca8d75b76cb32b3",
   "metadata": {},
   "outputs": [],
   "source": []
  },
  {
   "cell_type": "code",
   "execution_count": null,
   "id": "c5a74103241c2725",
   "metadata": {},
   "outputs": [],
   "source": []
  },
  {
   "cell_type": "code",
   "execution_count": null,
   "id": "0b75ec25f97fd3b0",
   "metadata": {},
   "outputs": [],
   "source": []
  }
 ],
 "metadata": {
  "jupytext": {
   "cell_metadata_filter": "tags,lang,-all",
   "main_language": "python",
   "notebook_metadata_filter": "-all"
  },
  "kernelspec": {
   "display_name": "venv",
   "language": "python",
   "name": "python3"
  },
  "language_info": {
   "codemirror_mode": {
    "name": "ipython",
    "version": 3
   },
   "file_extension": ".py",
   "mimetype": "text/x-python",
   "name": "python",
   "nbconvert_exporter": "python",
   "pygments_lexer": "ipython3",
   "version": "3.13.2"
  }
 },
 "nbformat": 4,
 "nbformat_minor": 5
}
