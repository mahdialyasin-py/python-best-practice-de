{
 "cells": [
  {
   "cell_type": "markdown",
   "id": "365ffd25c9ce777c",
   "metadata": {
    "lang": "de",
    "slideshow": {
     "slide_type": "slide"
    },
    "tags": [
     "slide"
    ]
   },
   "source": [
    "\n",
    "<img src=\"data:image/svg+xml;base64,PHN2ZyB4bWxucz0iaHR0cDovL3d3dy53My5vcmcvMjAwMC9zdmciIHhtbG5zOnhsaW5rPSJodHRw\n",
    "Oi8vd3d3LnczLm9yZy8xOTk5L3hsaW5rIiB3aWR0aD0iMTExLjE2MSIgaGVpZ2h0PSIxMzQuNjY4\n",
    "IiB2ZXJzaW9uPSIxLjAiPjxkZWZzPjxsaW5lYXJHcmFkaWVudCBpZD0iYyI+PHN0b3Agb2Zmc2V0\n",
    "PSIwIiBzdHlsZT0ic3RvcC1jb2xvcjojYjhiOGI4O3N0b3Atb3BhY2l0eTouNDk4MDM5MjIiLz48\n",
    "c3RvcCBvZmZzZXQ9IjEiIHN0eWxlPSJzdG9wLWNvbG9yOiM3ZjdmN2Y7c3RvcC1vcGFjaXR5OjAi\n",
    "Lz48L2xpbmVhckdyYWRpZW50PjxsaW5lYXJHcmFkaWVudCBpZD0iYSI+PHN0b3Agb2Zmc2V0PSIw\n",
    "IiBzdHlsZT0ic3RvcC1jb2xvcjojZmZkNDNiO3N0b3Atb3BhY2l0eToxIi8+PHN0b3Agb2Zmc2V0\n",
    "PSIxIiBzdHlsZT0ic3RvcC1jb2xvcjojZmZlODczO3N0b3Atb3BhY2l0eToxIi8+PC9saW5lYXJH\n",
    "cmFkaWVudD48bGluZWFyR3JhZGllbnQgaWQ9ImIiPjxzdG9wIG9mZnNldD0iMCIgc3R5bGU9InN0\n",
    "b3AtY29sb3I6IzVhOWZkNDtzdG9wLW9wYWNpdHk6MSIvPjxzdG9wIG9mZnNldD0iMSIgc3R5bGU9\n",
    "InN0b3AtY29sb3I6IzMwNjk5ODtzdG9wLW9wYWNpdHk6MSIvPjwvbGluZWFyR3JhZGllbnQ+PGxp\n",
    "bmVhckdyYWRpZW50IHhsaW5rOmhyZWY9IiNhIiBpZD0iZSIgeDE9IjE1MC45NjEiIHgyPSIxMTIu\n",
    "MDMxIiB5MT0iMTkyLjM1MiIgeTI9IjEzNy4yNzMiIGdyYWRpZW50VHJhbnNmb3JtPSJtYXRyaXgo\n",
    "LjU2MjU0IDAgMCAuNTY3OTcgLTE0Ljk5MSAtMTEuNzAyKSIgZ3JhZGllbnRVbml0cz0idXNlclNw\n",
    "YWNlT25Vc2UiLz48bGluZWFyR3JhZGllbnQgeGxpbms6aHJlZj0iI2IiIGlkPSJkIiB4MT0iMjYu\n",
    "NjQ5IiB4Mj0iMTM1LjY2NSIgeTE9IjIwLjYwNCIgeTI9IjExNC4zOTgiIGdyYWRpZW50VHJhbnNm\n",
    "b3JtPSJtYXRyaXgoLjU2MjU0IDAgMCAuNTY3OTcgLTE0Ljk5MSAtMTEuNzAyKSIgZ3JhZGllbnRV\n",
    "bml0cz0idXNlclNwYWNlT25Vc2UiLz48cmFkaWFsR3JhZGllbnQgeGxpbms6aHJlZj0iI2MiIGlk\n",
    "PSJmIiBjeD0iNjEuNTE5IiBjeT0iMTMyLjI4NiIgcj0iMjkuMDM3IiBmeD0iNjEuNTE5IiBmeT0i\n",
    "MTMyLjI4NiIgZ3JhZGllbnRUcmFuc2Zvcm09Im1hdHJpeCgwIC0uMjM5OTUgMS4wNTQ2NyAwIC04\n",
    "My43IDE0Mi40NjIpIiBncmFkaWVudFVuaXRzPSJ1c2VyU3BhY2VPblVzZSIvPjwvZGVmcz48cGF0\n",
    "aCBkPSJNNTQuOTE5IDBjLTQuNTg0LjAyMi04Ljk2MS40MTMtMTIuODEzIDEuMDk1QzMwLjc2IDMu\n",
    "MDk5IDI4LjcgNy4yOTUgMjguNyAxNS4wMzJ2MTAuMjE5aDI2LjgxM3YzLjQwNkgxOC42MzhjLTcu\n",
    "NzkzIDAtMTQuNjE2IDQuNjg0LTE2Ljc1IDEzLjU5NC0yLjQ2MiAxMC4yMTMtMi41NzEgMTYuNTg2\n",
    "IDAgMjcuMjUgMS45MDUgNy45MzggNi40NTcgMTMuNTk0IDE0LjI1IDEzLjU5NGg5LjIxOHYtMTIu\n",
    "MjVjMC04Ljg1IDcuNjU3LTE2LjY1NyAxNi43NS0xNi42NTdoMjYuNzgyYzcuNDU0IDAgMTMuNDA2\n",
    "LTYuMTM4IDEzLjQwNi0xMy42MjV2LTI1LjUzYzAtNy4yNjctNi4xMy0xMi43MjYtMTMuNDA2LTEz\n",
    "LjkzOEM2NC4yODIuMzI4IDU5LjUwMi0uMDIgNTQuOTE4IDBtLTE0LjUgOC4yMmMyLjc3IDAgNS4w\n",
    "MzEgMi4yOTggNS4wMzEgNS4xMjUgMCAyLjgxNi0yLjI2MiA1LjA5My01LjAzMSA1LjA5My0yLjc4\n",
    "IDAtNS4wMzEtMi4yNzctNS4wMzEtNS4wOTMgMC0yLjgyNyAyLjI1MS01LjEyNSA1LjAzLTUuMTI1\n",
    "IiBzdHlsZT0iZmlsbDp1cmwoI2QpO2ZpbGwtb3BhY2l0eToxIi8+PHBhdGggZD0iTTg1LjYzOCAy\n",
    "OC42NTd2MTEuOTA2YzAgOS4yMzEtNy44MjYgMTctMTYuNzUgMTdINDIuMTA2Yy03LjMzNiAwLTEz\n",
    "LjQwNiA2LjI3OS0xMy40MDYgMTMuNjI1Vjk2LjcyYzAgNy4yNjYgNi4zMTkgMTEuNTQgMTMuNDA2\n",
    "IDEzLjYyNSA4LjQ4OCAyLjQ5NSAxNi42MjcgMi45NDYgMjYuNzgyIDAgNi43NS0xLjk1NSAxMy40\n",
    "MDYtNS44ODggMTMuNDA2LTEzLjYyNVY4Ni41SDU1LjUxM3YtMy40MDVIOTUuN2M3Ljc5MyAwIDEw\n",
    "LjY5Ni01LjQzNiAxMy40MDYtMTMuNTk0IDIuOC04LjM5OSAyLjY4LTE2LjQ3NiAwLTI3LjI1LTEu\n",
    "OTI1LTcuNzU4LTUuNjA0LTEzLjU5NC0xMy40MDYtMTMuNTk0ek03MC41NzUgOTMuMzEzYzIuNzgg\n",
    "MCA1LjAzMSAyLjI3OCA1LjAzMSA1LjA5NCAwIDIuODI3LTIuMjUxIDUuMTI1LTUuMDMxIDUuMTI1\n",
    "LTIuNzcgMC01LjAzMS0yLjI5OC01LjAzMS01LjEyNSAwLTIuODE2IDIuMjYxLTUuMDk0IDUuMDMx\n",
    "LTUuMDk0IiBzdHlsZT0iZmlsbDp1cmwoI2UpO2ZpbGwtb3BhY2l0eToxIi8+PGVsbGlwc2UgY3g9\n",
    "IjU1LjgxNyIgY3k9IjEyNy43MDEiIHJ4PSIzNS45MzEiIHJ5PSI2Ljk2NyIgc3R5bGU9Im9wYWNp\n",
    "dHk6LjQ0MzgyO2ZpbGw6dXJsKCNmKTtmaWxsLW9wYWNpdHk6MTtmaWxsLXJ1bGU6bm9uemVybztz\n",
    "dHJva2U6bm9uZTtzdHJva2Utd2lkdGg6MTUuNDE3NDtzdHJva2UtbWl0ZXJsaW1pdDo0O3N0cm9r\n",
    "ZS1kYXNoYXJyYXk6bm9uZTtzdHJva2Utb3BhY2l0eToxIi8+PC9zdmc+\n",
    "\"\n",
    "     style=\"display:block;margin:auto;width:10%\" alt=\"Python Logo\"/>\n",
    "<br>\n",
    "\n",
    "<div style=\"text-align:center; font-size:200%;\">\n",
    " <b>Bibliothekssystem: Einführung</b>\n",
    "</div>\n",
    "<br/>\n",
    "<div style=\"text-align:center;\">Dr. Matthias Hölzl</div>\n",
    "<br/>"
   ]
  },
  {
   "cell_type": "markdown",
   "id": "387265e1b38b2123",
   "metadata": {
    "lang": "de",
    "slideshow": {
     "slide_type": "subslide"
    },
    "tags": [
     "subslide"
    ]
   },
   "source": [
    "\n",
    "# Bibliotheks-Verwaltungssystem: Einführung\n",
    "\n",
    "- Bibliotheks-Verwaltungssystem\n",
    "- Nutzer\n",
    "  - Bibliothekare\n",
    "  - Bibliotheksbenutzer\n",
    "  - Administratoren\n",
    "- Anforderungen\n",
    "  - Leicht zu erweitern und zu warten\n",
    "  - ..."
   ]
  },
  {
   "cell_type": "markdown",
   "id": "3fbac7bb64255fe9",
   "metadata": {
    "lang": "de",
    "slideshow": {
     "slide_type": "subslide"
    },
    "tags": [
     "subslide"
    ]
   },
   "source": [
    "\n",
    "- Anforderungen\n",
    "- Domänenmodell"
   ]
  },
  {
   "cell_type": "markdown",
   "id": "22e2ea55e9037644",
   "metadata": {
    "lang": "de",
    "slideshow": {
     "slide_type": "subslide"
    },
    "tags": [
     "subslide"
    ]
   },
   "source": [
    "\n",
    "## Anforderungen\n",
    "\n",
    "- Verwalten von Mitgliedern\n",
    "  - Aufnehmen, Löschen, Suchen, Anzeigen und Ändern von Mitgliedern\n",
    "- Verwalten von Büchern\n",
    "  - Aufnehmen, Löschen, Suchen, Anzeigen und Ändern von Büchern\n",
    "- Ausleihen und Rückgabe von Büchern\n",
    "- Erinnerungen und Gebühren"
   ]
  },
  {
   "cell_type": "markdown",
   "id": "f8a63103e5510c6d",
   "metadata": {
    "lang": "de",
    "slideshow": {
     "slide_type": "subslide"
    },
    "tags": [
     "subslide"
    ]
   },
   "source": [
    "\n",
    "## Workshop: Bibliotheks-Verwaltungssystem (Teil 1)\n",
    "\n",
    "- Entwickeln Sie ein erstes Domänenmodell für das Bibliotheks-Verwaltungssystem\n",
    "  - Sie können z.B. ein Klassendiagramm verwenden oder einfach nur eine Liste\n",
    "    von Klassen und Attributen\n",
    "- Welche Klassen in Ihrem Domänenmodell haben Assoziationen zu\n",
    "  - Mitgliedern?\n",
    "  - Büchern?"
   ]
  },
  {
   "cell_type": "markdown",
   "id": "9353398c32f57c3d",
   "metadata": {
    "lang": "de",
    "slideshow": {
     "slide_type": "subslide"
    },
    "tags": [
     "subslide"
    ]
   },
   "source": [
    "\n",
    "- Verwenden Sie das Creator Pattern um zu entscheiden, welche Klasse die\n",
    "  Verantwortung für das Erstellen von Mitgliedern und welche die Verantwortung\n",
    "  für das Erstellen von Büchern hat\n",
    "- Verwenden Sie das Information Expert Pattern um zu entscheiden, welche Klasse\n",
    "  die Verantwortung für das Suchen von Mitgliedern und welche die Verantwortung\n",
    "  für das Suchen von Büchern hat\n",
    "- Implementieren Sie diesen Teil des Domänenmodells in Python\n",
    "- Versuchen Sie dabei das Prinzip der niedrigen Repräsentationslücke anzuwenden"
   ]
  },
  {
   "cell_type": "code",
   "execution_count": null,
   "id": "f4c35f14c8bcec81",
   "metadata": {
    "slideshow": {
     "slide_type": "subslide"
    },
    "tags": [
     "subslide"
    ]
   },
   "outputs": [],
   "source": [
    "from dataclasses import dataclass, field"
   ]
  },
  {
   "cell_type": "code",
   "execution_count": null,
   "id": "63bc47c5245c9cfa",
   "metadata": {
    "tags": [
     "alt"
    ]
   },
   "outputs": [],
   "source": [
    "@dataclass\n",
    "class Member:\n",
    "    name: str\n",
    "    address: str\n",
    "    email: str"
   ]
  },
  {
   "cell_type": "code",
   "execution_count": null,
   "id": "95ca689aa4398d69",
   "metadata": {
    "tags": [
     "alt"
    ]
   },
   "outputs": [],
   "source": [
    "@dataclass\n",
    "class Book:\n",
    "    title: str\n",
    "    isbn: str"
   ]
  },
  {
   "cell_type": "code",
   "execution_count": null,
   "id": "b7a084cf54d456a8",
   "metadata": {
    "tags": [
     "alt"
    ]
   },
   "outputs": [],
   "source": [
    "@dataclass\n",
    "class LibrarySystem:\n",
    "    members: list[Member] = field(default_factory=list)\n",
    "    books: list[Book] = field(default_factory=list)\n",
    "\n",
    "    def __str__(self):\n",
    "        result = \"Members:\\n\"\n",
    "        for member in self.members:\n",
    "            result += f\"  {member.name}\\n\"\n",
    "        result += \"Books:\\n\"\n",
    "        for book in self.books:\n",
    "            result += f\"  {book.title}\\n\"\n",
    "        return result\n",
    "\n",
    "    def add_member(self, name: str, address: str, email: str):\n",
    "        member = Member(name, address, email)\n",
    "        self.members.append(member)\n",
    "\n",
    "    def add_book(self, title: str, isbn: str):\n",
    "        book = Book(title, isbn)\n",
    "        self.books.append(book)\n",
    "\n",
    "    def find_member(self, name: str) -> Member | None:\n",
    "        for member in self.members:\n",
    "            if member.name == name:\n",
    "                return member\n",
    "        return None\n",
    "\n",
    "    def find_book(self, title: str) -> Book | None:\n",
    "        for book in self.books:\n",
    "            if book.title == title:\n",
    "                return book\n",
    "        return None"
   ]
  },
  {
   "cell_type": "code",
   "execution_count": null,
   "id": "ee71c44c2113f5a7",
   "metadata": {},
   "outputs": [],
   "source": [
    "library = LibrarySystem()"
   ]
  },
  {
   "cell_type": "code",
   "execution_count": null,
   "id": "dfd59cda5b94e9fe",
   "metadata": {
    "lang": "de"
   },
   "outputs": [],
   "source": [
    "library.add_member(\"Max Mustermann\", \"Musterstraße 1\", \"max@example.com\")"
   ]
  },
  {
   "cell_type": "code",
   "execution_count": null,
   "id": "655e42d17307cf22",
   "metadata": {},
   "outputs": [],
   "source": [
    "library.add_book(\"Design Patterns\", \"978-0-20163-361-0\")"
   ]
  },
  {
   "cell_type": "code",
   "execution_count": null,
   "id": "5fddafbb40e093d7",
   "metadata": {},
   "outputs": [],
   "source": [
    "library.find_member(\"Max Mustermann\")"
   ]
  },
  {
   "cell_type": "code",
   "execution_count": null,
   "id": "f11753a73720af2d",
   "metadata": {},
   "outputs": [],
   "source": [
    "library.find_book(\"Design Patterns\")"
   ]
  },
  {
   "cell_type": "code",
   "execution_count": null,
   "id": "f46250e8c654f869",
   "metadata": {},
   "outputs": [],
   "source": [
    "print(library)"
   ]
  }
 ],
 "metadata": {
  "jupytext": {
   "cell_metadata_filter": "lang,tags,-all",
   "main_language": "python",
   "notebook_metadata_filter": "-all"
  },
  "kernelspec": {
   "display_name": "Python 3 (ipykernel)",
   "language": "python",
   "name": "python3"
  },
  "language_info": {
   "codemirror_mode": {
    "name": "ipython",
    "version": 3
   },
   "file_extension": ".py",
   "mimetype": "text/x-python",
   "name": "python",
   "nbconvert_exporter": "python",
   "pygments_lexer": "ipython3"
  }
 },
 "nbformat": 4,
 "nbformat_minor": 5
}
