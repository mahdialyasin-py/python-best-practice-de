{
 "cells": [
  {
   "cell_type": "markdown",
   "id": "701d878bf09cb150",
   "metadata": {
    "lang": "de",
    "slideshow": {
     "slide_type": "slide"
    },
    "tags": [
     "slide"
    ]
   },
   "source": [
    "\n",
    "<img src=\"data:image/svg+xml;base64,PHN2ZyB4bWxucz0iaHR0cDovL3d3dy53My5vcmcvMjAwMC9zdmciIHhtbG5zOnhsaW5rPSJodHRw\n",
    "Oi8vd3d3LnczLm9yZy8xOTk5L3hsaW5rIiB3aWR0aD0iMTExLjE2MSIgaGVpZ2h0PSIxMzQuNjY4\n",
    "IiB2ZXJzaW9uPSIxLjAiPjxkZWZzPjxsaW5lYXJHcmFkaWVudCBpZD0iYyI+PHN0b3Agb2Zmc2V0\n",
    "PSIwIiBzdHlsZT0ic3RvcC1jb2xvcjojYjhiOGI4O3N0b3Atb3BhY2l0eTouNDk4MDM5MjIiLz48\n",
    "c3RvcCBvZmZzZXQ9IjEiIHN0eWxlPSJzdG9wLWNvbG9yOiM3ZjdmN2Y7c3RvcC1vcGFjaXR5OjAi\n",
    "Lz48L2xpbmVhckdyYWRpZW50PjxsaW5lYXJHcmFkaWVudCBpZD0iYSI+PHN0b3Agb2Zmc2V0PSIw\n",
    "IiBzdHlsZT0ic3RvcC1jb2xvcjojZmZkNDNiO3N0b3Atb3BhY2l0eToxIi8+PHN0b3Agb2Zmc2V0\n",
    "PSIxIiBzdHlsZT0ic3RvcC1jb2xvcjojZmZlODczO3N0b3Atb3BhY2l0eToxIi8+PC9saW5lYXJH\n",
    "cmFkaWVudD48bGluZWFyR3JhZGllbnQgaWQ9ImIiPjxzdG9wIG9mZnNldD0iMCIgc3R5bGU9InN0\n",
    "b3AtY29sb3I6IzVhOWZkNDtzdG9wLW9wYWNpdHk6MSIvPjxzdG9wIG9mZnNldD0iMSIgc3R5bGU9\n",
    "InN0b3AtY29sb3I6IzMwNjk5ODtzdG9wLW9wYWNpdHk6MSIvPjwvbGluZWFyR3JhZGllbnQ+PGxp\n",
    "bmVhckdyYWRpZW50IHhsaW5rOmhyZWY9IiNhIiBpZD0iZSIgeDE9IjE1MC45NjEiIHgyPSIxMTIu\n",
    "MDMxIiB5MT0iMTkyLjM1MiIgeTI9IjEzNy4yNzMiIGdyYWRpZW50VHJhbnNmb3JtPSJtYXRyaXgo\n",
    "LjU2MjU0IDAgMCAuNTY3OTcgLTE0Ljk5MSAtMTEuNzAyKSIgZ3JhZGllbnRVbml0cz0idXNlclNw\n",
    "YWNlT25Vc2UiLz48bGluZWFyR3JhZGllbnQgeGxpbms6aHJlZj0iI2IiIGlkPSJkIiB4MT0iMjYu\n",
    "NjQ5IiB4Mj0iMTM1LjY2NSIgeTE9IjIwLjYwNCIgeTI9IjExNC4zOTgiIGdyYWRpZW50VHJhbnNm\n",
    "b3JtPSJtYXRyaXgoLjU2MjU0IDAgMCAuNTY3OTcgLTE0Ljk5MSAtMTEuNzAyKSIgZ3JhZGllbnRV\n",
    "bml0cz0idXNlclNwYWNlT25Vc2UiLz48cmFkaWFsR3JhZGllbnQgeGxpbms6aHJlZj0iI2MiIGlk\n",
    "PSJmIiBjeD0iNjEuNTE5IiBjeT0iMTMyLjI4NiIgcj0iMjkuMDM3IiBmeD0iNjEuNTE5IiBmeT0i\n",
    "MTMyLjI4NiIgZ3JhZGllbnRUcmFuc2Zvcm09Im1hdHJpeCgwIC0uMjM5OTUgMS4wNTQ2NyAwIC04\n",
    "My43IDE0Mi40NjIpIiBncmFkaWVudFVuaXRzPSJ1c2VyU3BhY2VPblVzZSIvPjwvZGVmcz48cGF0\n",
    "aCBkPSJNNTQuOTE5IDBjLTQuNTg0LjAyMi04Ljk2MS40MTMtMTIuODEzIDEuMDk1QzMwLjc2IDMu\n",
    "MDk5IDI4LjcgNy4yOTUgMjguNyAxNS4wMzJ2MTAuMjE5aDI2LjgxM3YzLjQwNkgxOC42MzhjLTcu\n",
    "NzkzIDAtMTQuNjE2IDQuNjg0LTE2Ljc1IDEzLjU5NC0yLjQ2MiAxMC4yMTMtMi41NzEgMTYuNTg2\n",
    "IDAgMjcuMjUgMS45MDUgNy45MzggNi40NTcgMTMuNTk0IDE0LjI1IDEzLjU5NGg5LjIxOHYtMTIu\n",
    "MjVjMC04Ljg1IDcuNjU3LTE2LjY1NyAxNi43NS0xNi42NTdoMjYuNzgyYzcuNDU0IDAgMTMuNDA2\n",
    "LTYuMTM4IDEzLjQwNi0xMy42MjV2LTI1LjUzYzAtNy4yNjctNi4xMy0xMi43MjYtMTMuNDA2LTEz\n",
    "LjkzOEM2NC4yODIuMzI4IDU5LjUwMi0uMDIgNTQuOTE4IDBtLTE0LjUgOC4yMmMyLjc3IDAgNS4w\n",
    "MzEgMi4yOTggNS4wMzEgNS4xMjUgMCAyLjgxNi0yLjI2MiA1LjA5My01LjAzMSA1LjA5My0yLjc4\n",
    "IDAtNS4wMzEtMi4yNzctNS4wMzEtNS4wOTMgMC0yLjgyNyAyLjI1MS01LjEyNSA1LjAzLTUuMTI1\n",
    "IiBzdHlsZT0iZmlsbDp1cmwoI2QpO2ZpbGwtb3BhY2l0eToxIi8+PHBhdGggZD0iTTg1LjYzOCAy\n",
    "OC42NTd2MTEuOTA2YzAgOS4yMzEtNy44MjYgMTctMTYuNzUgMTdINDIuMTA2Yy03LjMzNiAwLTEz\n",
    "LjQwNiA2LjI3OS0xMy40MDYgMTMuNjI1Vjk2LjcyYzAgNy4yNjYgNi4zMTkgMTEuNTQgMTMuNDA2\n",
    "IDEzLjYyNSA4LjQ4OCAyLjQ5NSAxNi42MjcgMi45NDYgMjYuNzgyIDAgNi43NS0xLjk1NSAxMy40\n",
    "MDYtNS44ODggMTMuNDA2LTEzLjYyNVY4Ni41SDU1LjUxM3YtMy40MDVIOTUuN2M3Ljc5MyAwIDEw\n",
    "LjY5Ni01LjQzNiAxMy40MDYtMTMuNTk0IDIuOC04LjM5OSAyLjY4LTE2LjQ3NiAwLTI3LjI1LTEu\n",
    "OTI1LTcuNzU4LTUuNjA0LTEzLjU5NC0xMy40MDYtMTMuNTk0ek03MC41NzUgOTMuMzEzYzIuNzgg\n",
    "MCA1LjAzMSAyLjI3OCA1LjAzMSA1LjA5NCAwIDIuODI3LTIuMjUxIDUuMTI1LTUuMDMxIDUuMTI1\n",
    "LTIuNzcgMC01LjAzMS0yLjI5OC01LjAzMS01LjEyNSAwLTIuODE2IDIuMjYxLTUuMDk0IDUuMDMx\n",
    "LTUuMDk0IiBzdHlsZT0iZmlsbDp1cmwoI2UpO2ZpbGwtb3BhY2l0eToxIi8+PGVsbGlwc2UgY3g9\n",
    "IjU1LjgxNyIgY3k9IjEyNy43MDEiIHJ4PSIzNS45MzEiIHJ5PSI2Ljk2NyIgc3R5bGU9Im9wYWNp\n",
    "dHk6LjQ0MzgyO2ZpbGw6dXJsKCNmKTtmaWxsLW9wYWNpdHk6MTtmaWxsLXJ1bGU6bm9uemVybztz\n",
    "dHJva2U6bm9uZTtzdHJva2Utd2lkdGg6MTUuNDE3NDtzdHJva2UtbWl0ZXJsaW1pdDo0O3N0cm9r\n",
    "ZS1kYXNoYXJyYXk6bm9uZTtzdHJva2Utb3BhY2l0eToxIi8+PC9zdmc+\n",
    "\"\n",
    "     style=\"display:block;margin:auto;width:10%\" alt=\"Python Logo\"/>\n",
    "<br>\n",
    "\n",
    "<div style=\"text-align:center; font-size:200%;\">\n",
    " <b>Strategie</b>\n",
    "</div>\n",
    "<br/>\n",
    "<div style=\"text-align:center;\">Dr. Matthias Hölzl</div>\n",
    "<br/>"
   ]
  },
  {
   "cell_type": "markdown",
   "id": "6d590633c00d3032",
   "metadata": {
    "lang": "de",
    "lines_to_next_cell": 2,
    "slideshow": {
     "slide_type": "subslide"
    },
    "tags": [
     "subslide"
    ]
   },
   "source": [
    "\n",
    "### Zweck\n",
    "\n",
    "- Austauschbare Algorithmen / austauschbares Verhalten\n",
    "- Algorithmen unabhängig von Klassen, die sie verwenden"
   ]
  },
  {
   "cell_type": "markdown",
   "id": "0a38cdf05c04ee48",
   "metadata": {
    "lang": "de",
    "slideshow": {
     "slide_type": "subslide"
    },
    "tags": [
     "subslide"
    ]
   },
   "source": [
    "\n",
    "### Auch bekannt als\n",
    "\n",
    "Policy"
   ]
  },
  {
   "cell_type": "markdown",
   "id": "e82bddc0f3c57782",
   "metadata": {
    "lang": "de",
    "slideshow": {
     "slide_type": "slide"
    },
    "tags": [
     "slide"
    ]
   },
   "source": [
    "\n",
    "### Motivation\n",
    "\n",
    "- Wir wollen einen Text in einem Feld mit begrenzter Breite darstellen\n",
    "- Dafür gibt es verschiedene Möglichkeiten:\n",
    "  - Abschneiden nach einer bestimmten Anzahl von Zeichen (mit/ohne Ellipse)\n",
    "  - Umbruch nach einer bestimmten Anzahl von Zeichen\n",
    "    - Umbruch mitten im Wort\n",
    "    - Umbruch bei Leerzeichen (greedy/dynamische Programmierung)"
   ]
  },
  {
   "cell_type": "markdown",
   "id": "db8880fc3454b5df",
   "metadata": {
    "lang": "de",
    "lines_to_next_cell": 2,
    "slideshow": {
     "slide_type": "subslide"
    },
    "tags": [
     "subslide"
    ]
   },
   "source": [
    "\n",
    "## Struktur\n",
    "\n",
    "<img src=\"img/pat_strategy.png\"\n",
    "     style=\"display:block;margin:auto;width:80%\"/>"
   ]
  },
  {
   "cell_type": "markdown",
   "id": "26bc894f9c933613",
   "metadata": {
    "lang": "de",
    "lines_to_next_cell": 2,
    "slideshow": {
     "slide_type": "subslide"
    },
    "tags": [
     "subslide"
    ]
   },
   "source": [
    "\n",
    "## Teilnehmer\n",
    "- `Strategy`\n",
    "  - gemeinsames Interface für alle unterstützten Algorithmen\n",
    "- `ConcreteStrategy`\n",
    "  - implementiert den Algorithmus\n",
    "- `Context`\n",
    "  - wird mit einem `ConcreteStrategy`-Objekt konfiguriert\n",
    "  - kennt sein `Strategy`-Objekt\n",
    "  - optional: Interface, das der Strategie Zugriff die Kontext-Daten ermöglicht"
   ]
  },
  {
   "cell_type": "code",
   "execution_count": null,
   "id": "a65ad6c729273210",
   "metadata": {
    "slideshow": {
     "slide_type": "subslide"
    },
    "tags": [
     "subslide",
     "keep"
    ]
   },
   "outputs": [],
   "source": [
    "class Context:\n",
    "    def __init__(self, strategy: \"Strategy\"):\n",
    "        self._strategy = strategy\n",
    "\n",
    "    def context_interface(self):\n",
    "        self._strategy.algorithm_interface(self)\n",
    "\n",
    "    def get_data_for_algorithm(self):\n",
    "        return ..."
   ]
  },
  {
   "cell_type": "code",
   "execution_count": null,
   "id": "358d3acdd9f86a51",
   "metadata": {
    "tags": [
     "keep"
    ]
   },
   "outputs": [],
   "source": [
    "from abc import ABC, abstractmethod"
   ]
  },
  {
   "cell_type": "code",
   "execution_count": null,
   "id": "9d10d06d46d4b42d",
   "metadata": {
    "tags": [
     "keep"
    ]
   },
   "outputs": [],
   "source": [
    "class Strategy(ABC):\n",
    "    @abstractmethod\n",
    "    def algorithm_interface(self, context: Context): ..."
   ]
  },
  {
   "cell_type": "code",
   "execution_count": null,
   "id": "0f6aa62682cbf9e2",
   "metadata": {
    "tags": [
     "keep"
    ]
   },
   "outputs": [],
   "source": [
    "class ConcreteStrategy(Strategy):\n",
    "    def algorithm_interface(self, context: Context):\n",
    "        data = context.get_data_for_algorithm()\n",
    "        ..."
   ]
  },
  {
   "cell_type": "markdown",
   "id": "edd47549755a086c",
   "metadata": {
    "lang": "de",
    "slideshow": {
     "slide_type": "subslide"
    },
    "tags": [
     "subslide"
    ]
   },
   "source": [
    "\n",
    "### Interaktionen\n",
    "\n",
    "- Strategie und Kontext interagieren, um den gewählten Algorithmus zu implementieren.\n",
    "  - Kontext kann Daten an Strategie übergeben\n",
    "  - Kontext kann sich selber an Strategie übergeben\n",
    "- Ein Kontext leitet Anfragen seiner Clients an seine Strategie weiter. [...]"
   ]
  },
  {
   "cell_type": "markdown",
   "id": "be9cc9b0802a015e",
   "metadata": {
    "lang": "de",
    "slideshow": {
     "slide_type": "subslide"
    },
    "tags": [
     "subslide"
    ]
   },
   "source": [
    "\n",
    "### Implementierung\n",
    "\n",
    "- `ConcreteStrategy` benötigt effizienten Zugriff auf alle benötigten Daten\n",
    "- ..."
   ]
  },
  {
   "cell_type": "markdown",
   "id": "52a8462669066a7a",
   "metadata": {
    "lang": "de",
    "slideshow": {
     "slide_type": "subslide"
    },
    "tags": [
     "subslide"
    ]
   },
   "source": [
    "\n",
    "## Beispielcode: Textumbruch"
   ]
  },
  {
   "cell_type": "code",
   "execution_count": null,
   "id": "a133dac7ae6716a1",
   "metadata": {
    "slideshow": {
     "slide_type": "subslide"
    },
    "tags": [
     "keep",
     "subslide"
    ]
   },
   "outputs": [],
   "source": [
    "from abc import ABC, abstractmethod"
   ]
  },
  {
   "cell_type": "code",
   "execution_count": null,
   "id": "93fe65cac95ff202",
   "metadata": {
    "tags": [
     "keep"
    ]
   },
   "outputs": [],
   "source": [
    "class TextWrapStrategy(ABC):\n",
    "    @abstractmethod\n",
    "    def wrap(self, text: str, width: int) -> list[str]: ..."
   ]
  },
  {
   "cell_type": "code",
   "execution_count": null,
   "id": "becaff0fa0628338",
   "metadata": {
    "slideshow": {
     "slide_type": "subslide"
    },
    "tags": [
     "subslide",
     "keep"
    ]
   },
   "outputs": [],
   "source": [
    "class TruncationStrategy(TextWrapStrategy):\n",
    "    def wrap(self, text: str, width: int) -> list[str]:\n",
    "        if len(text) <= width:\n",
    "            return [text]\n",
    "        return [text[: width - 3] + \"...\"]"
   ]
  },
  {
   "cell_type": "code",
   "execution_count": null,
   "id": "4b88a199d3bc7fb5",
   "metadata": {
    "slideshow": {
     "slide_type": "subslide"
    },
    "tags": [
     "subslide",
     "keep"
    ]
   },
   "outputs": [],
   "source": [
    "class BreakAnywhereStrategy(TextWrapStrategy):\n",
    "    def wrap(self, text: str, width: int) -> list[str]:\n",
    "        lines = []\n",
    "        while len(text) > width:\n",
    "            lines.append(text[:width])\n",
    "            text = text[width:]\n",
    "        lines.append(text)\n",
    "        return lines"
   ]
  },
  {
   "cell_type": "code",
   "execution_count": null,
   "id": "7eb4afda1a846322",
   "metadata": {
    "slideshow": {
     "slide_type": "subslide"
    },
    "tags": [
     "keep",
     "subslide"
    ]
   },
   "outputs": [],
   "source": [
    "class BreakOnSpaceStrategy(TextWrapStrategy):\n",
    "    def wrap(self, text: str, width: int) -> list[str]:\n",
    "        import textwrap\n",
    "\n",
    "        return textwrap.wrap(text, width)"
   ]
  },
  {
   "cell_type": "code",
   "execution_count": null,
   "id": "a573651c1c28b499",
   "metadata": {
    "slideshow": {
     "slide_type": "subslide"
    },
    "tags": [
     "keep",
     "subslide"
    ]
   },
   "outputs": [],
   "source": [
    "class BlogPost:\n",
    "    def __init__(self, author: str, title: str, text: str):\n",
    "        self.author = author\n",
    "        self.title = title\n",
    "        self.text = text"
   ]
  },
  {
   "cell_type": "code",
   "execution_count": null,
   "id": "8999c1c9e9d97f84",
   "metadata": {
    "slideshow": {
     "slide_type": "subslide"
    },
    "tags": [
     "keep",
     "subslide"
    ]
   },
   "outputs": [],
   "source": [
    "class Blog:  # type: ignore\n",
    "    def __init__(self, strategy: TextWrapStrategy):\n",
    "        self.posts = []\n",
    "        self.strategy = strategy\n",
    "\n",
    "    def print(self, width: int) -> None:\n",
    "        for post in self.posts:\n",
    "            print(f\"{'-' * width}\")\n",
    "            print(f\"Title: {post.title}\")\n",
    "            print(f\"Author: {post.author}\")\n",
    "            for line in self.strategy.wrap(post.text, width):\n",
    "                print(line)\n",
    "            print(f\"{'-' * width}\")\n",
    "\n",
    "    def add_post(self, author: str, title: str, text: str) -> None:\n",
    "        self.posts.append(BlogPost(author, title, text))"
   ]
  },
  {
   "cell_type": "code",
   "execution_count": null,
   "id": "e12b08603ec8eebc",
   "metadata": {
    "slideshow": {
     "slide_type": "subslide"
    },
    "tags": [
     "keep",
     "subslide"
    ]
   },
   "outputs": [],
   "source": [
    "blog = Blog(TruncationStrategy())"
   ]
  },
  {
   "cell_type": "code",
   "execution_count": null,
   "id": "6a2c5b1d688d959e",
   "metadata": {
    "tags": [
     "keep"
    ]
   },
   "outputs": [],
   "source": [
    "blog.add_post(\"John Doe\", \"My first post\", \"This is my first post. \" * 8)\n",
    "blog.add_post(\"Jane Doe\", \"My second post\", \"This is my second post. \" * 12)"
   ]
  },
  {
   "cell_type": "code",
   "execution_count": null,
   "id": "6745c85f8e84b5fd",
   "metadata": {
    "tags": [
     "keep"
    ]
   },
   "outputs": [],
   "source": [
    "blog.print(40)"
   ]
  },
  {
   "cell_type": "code",
   "execution_count": null,
   "id": "814e37e8264b4a30",
   "metadata": {
    "slideshow": {
     "slide_type": "subslide"
    },
    "tags": [
     "keep",
     "subslide"
    ]
   },
   "outputs": [],
   "source": [
    "blog.strategy = BreakAnywhereStrategy()"
   ]
  },
  {
   "cell_type": "code",
   "execution_count": null,
   "id": "8bb9da05b39e2384",
   "metadata": {
    "tags": [
     "keep"
    ]
   },
   "outputs": [],
   "source": [
    "blog.print(40)"
   ]
  },
  {
   "cell_type": "code",
   "execution_count": null,
   "id": "99a4a3d9b4c01a32",
   "metadata": {
    "slideshow": {
     "slide_type": "subslide"
    },
    "tags": [
     "keep",
     "subslide"
    ]
   },
   "outputs": [],
   "source": [
    "blog.strategy = BreakOnSpaceStrategy()"
   ]
  },
  {
   "cell_type": "code",
   "execution_count": null,
   "id": "4f8686e49b7d7650",
   "metadata": {
    "tags": [
     "keep"
    ]
   },
   "outputs": [],
   "source": [
    "blog.print(40)"
   ]
  },
  {
   "cell_type": "markdown",
   "id": "f2c409bcbe934dea",
   "metadata": {
    "lang": "de",
    "slideshow": {
     "slide_type": "subslide"
    },
    "tags": [
     "subslide"
    ]
   },
   "source": [
    "\n",
    "### Anwendbarkeit\n",
    "\n",
    "- Konfiguration von Objekten mit einer von mehreren Verhaltensweisen\n",
    "- Verschiedene Varianten eines Algorithmus\n",
    "- Kapseln von Daten mit Algorithmus (Client muss Daten nicht kennen)\n",
    "- Vermeidung von bedingten Anweisungen zur Auswahl eines Algorithmus"
   ]
  },
  {
   "cell_type": "code",
   "execution_count": null,
   "id": "cf495960d8d556c8",
   "metadata": {
    "slideshow": {
     "slide_type": "subslide"
    },
    "tags": [
     "subslide",
     "keep"
    ]
   },
   "outputs": [],
   "source": [
    "class ContentManagementSystemWithConditional:\n",
    "    def __init__(self, content_kind: str):\n",
    "        self.content_kind = content_kind\n",
    "\n",
    "    def publish(self, content: str) -> None:\n",
    "        if self.content_kind == \"summary\":\n",
    "            self.publish_summary(content)\n",
    "        elif self.content_kind == \"full\":\n",
    "            self.publish_full(content)\n",
    "        else:\n",
    "            raise ValueError(\"Unknown content kind\")\n",
    "\n",
    "    def publish_summary(self, content: str) -> None: ...\n",
    "\n",
    "    def publish_full(self, content: str) -> None: ..."
   ]
  },
  {
   "cell_type": "code",
   "execution_count": null,
   "id": "d2729cfb888481fe",
   "metadata": {
    "slideshow": {
     "slide_type": "subslide"
    },
    "tags": [
     "keep",
     "subslide"
    ]
   },
   "outputs": [],
   "source": [
    "class PublishingStrategy(ABC):\n",
    "    @abstractmethod\n",
    "    def publish(self, content: str) -> None: ..."
   ]
  },
  {
   "cell_type": "code",
   "execution_count": null,
   "id": "ae5d5ea68cdd7ae6",
   "metadata": {
    "tags": [
     "keep"
    ]
   },
   "outputs": [],
   "source": [
    "class SummaryPublishingStrategy(PublishingStrategy):\n",
    "    def publish(self, content: str) -> None: ..."
   ]
  },
  {
   "cell_type": "code",
   "execution_count": null,
   "id": "3ad20f3e0fc80158",
   "metadata": {
    "tags": [
     "keep"
    ]
   },
   "outputs": [],
   "source": [
    "class FullPublishingStrategy(PublishingStrategy):\n",
    "    def publish(self, content: str) -> None: ..."
   ]
  },
  {
   "cell_type": "code",
   "execution_count": null,
   "id": "c287dcaeb1a55a76",
   "metadata": {
    "lines_to_next_cell": 2,
    "slideshow": {
     "slide_type": "subslide"
    },
    "tags": [
     "keep",
     "subslide"
    ]
   },
   "outputs": [],
   "source": [
    "class ContentManagementSystemWithStrategy:\n",
    "    def __init__(self, strategy: PublishingStrategy):\n",
    "        self.strategy = strategy\n",
    "\n",
    "    def publish(self, content: str) -> None:\n",
    "        self.strategy.publish(content)"
   ]
  },
  {
   "cell_type": "markdown",
   "id": "2854b2bd37905646",
   "metadata": {
    "lang": "de",
    "slideshow": {
     "slide_type": "subslide"
    },
    "tags": [
     "subslide"
    ]
   },
   "source": [
    "\n",
    "### Konsequenzen\n",
    "\n",
    "- Familien wiederverwendbarer, verwandter Algorithmen\n",
    "- Alternative zu Vererbung\n",
    "- Auswahl einer Strategie ohne bedingte Anweisungen\n",
    "- Context/Clients muss die möglichen Strategien kennen\n",
    "- Kommunikations-Overhead zwischen Strategie und Kontext\n",
    "- Erhöhte Anzahl von Objekten"
   ]
  },
  {
   "cell_type": "markdown",
   "id": "bed8bdae18694ee8",
   "metadata": {
    "lang": "de",
    "slideshow": {
     "slide_type": "subslide"
    },
    "tags": [
     "subslide"
    ]
   },
   "source": [
    "\n",
    "### Python Implementierung\n",
    "\n",
    "In Python kann das Strategy Pattern oft einfach durch ein Funktions-Attribut\n",
    "implementiert werden:"
   ]
  },
  {
   "cell_type": "code",
   "execution_count": null,
   "id": "cb08aa0da6668989",
   "metadata": {
    "slideshow": {
     "slide_type": "subslide"
    },
    "tags": [
     "keep",
     "subslide"
    ]
   },
   "outputs": [],
   "source": [
    "from typing import Callable\n",
    "import textwrap"
   ]
  },
  {
   "cell_type": "code",
   "execution_count": null,
   "id": "cf96b49966cb2189",
   "metadata": {
    "tags": [
     "alt"
    ]
   },
   "outputs": [],
   "source": [
    "class Blog:  # type: ignore\n",
    "    def __init__(self, strategy: Callable[[str, int], list[str]]):\n",
    "        self.posts = []\n",
    "        self.strategy = strategy\n",
    "\n",
    "    def print(self, width: int) -> None:\n",
    "        for post in self.posts:\n",
    "            print(f\"{'-' * width}\")\n",
    "            print(f\"Title: {post.title}\")\n",
    "            print(f\"Author: {post.author}\")\n",
    "            for line in self.strategy(post.text, width):\n",
    "                print(line)\n",
    "            print(f\"{'-' * width}\")\n",
    "\n",
    "    def add_post(self, author: str, title: str, text: str) -> None:\n",
    "        self.posts.append(BlogPost(author, title, text))"
   ]
  },
  {
   "cell_type": "code",
   "execution_count": null,
   "id": "9d2fdc30c4533af8",
   "metadata": {
    "slideshow": {
     "slide_type": "subslide"
    },
    "tags": [
     "keep",
     "subslide"
    ]
   },
   "outputs": [],
   "source": [
    "def truncate_lines(text: str, width: int) -> list[str]:\n",
    "    if len(text) <= width:\n",
    "        return [text]\n",
    "    return [text[: width - 3] + \"...\"]"
   ]
  },
  {
   "cell_type": "code",
   "execution_count": null,
   "id": "edb7b882274cbcea",
   "metadata": {
    "tags": [
     "keep"
    ]
   },
   "outputs": [],
   "source": [
    "blog = Blog(truncate_lines)"
   ]
  },
  {
   "cell_type": "code",
   "execution_count": null,
   "id": "5079215822a7b3e9",
   "metadata": {
    "tags": [
     "keep"
    ]
   },
   "outputs": [],
   "source": [
    "blog.add_post(\"John Doe\", \"My first post\", \"This is my first post. \" * 8)\n",
    "blog.add_post(\"Jane Doe\", \"My second post\", \"This is my second post. \" * 12)"
   ]
  },
  {
   "cell_type": "code",
   "execution_count": null,
   "id": "3e29387c8abd87f5",
   "metadata": {
    "tags": [
     "keep"
    ]
   },
   "outputs": [],
   "source": [
    "blog.print(40)"
   ]
  },
  {
   "cell_type": "code",
   "execution_count": null,
   "id": "9a7de7a3329dfd4b",
   "metadata": {
    "slideshow": {
     "slide_type": "subslide"
    },
    "tags": [
     "keep",
     "subslide"
    ]
   },
   "outputs": [],
   "source": [
    "blog.strategy = lambda text, width: (\n",
    "    [text[: width - 3] + \"...\"] if len(text) > width else [text]\n",
    ")"
   ]
  },
  {
   "cell_type": "code",
   "execution_count": null,
   "id": "3522c28cace7203a",
   "metadata": {
    "tags": [
     "keep"
    ]
   },
   "outputs": [],
   "source": [
    "blog.print(40)"
   ]
  },
  {
   "cell_type": "code",
   "execution_count": null,
   "id": "3f2afc566dafb697",
   "metadata": {
    "slideshow": {
     "slide_type": "subslide"
    },
    "tags": [
     "keep",
     "subslide"
    ]
   },
   "outputs": [],
   "source": [
    "blog.strategy = textwrap.wrap"
   ]
  },
  {
   "cell_type": "code",
   "execution_count": null,
   "id": "34475bb6f57d4a14",
   "metadata": {
    "tags": [
     "keep"
    ]
   },
   "outputs": [],
   "source": [
    "blog.print(40)"
   ]
  },
  {
   "cell_type": "markdown",
   "id": "930938bc6abc8c3f",
   "metadata": {
    "lang": "de",
    "slideshow": {
     "slide_type": "slide"
    },
    "tags": [
     "slide"
    ]
   },
   "source": [
    "\n",
    "## Mini-Workshop: Vorhersagen\n",
    "\n",
    "Sie wollen ein System schreiben, das Vorhersagen für Aktienkurse treffen kann.\n",
    "\n",
    "Schreiben Sie dazu eine Klasse `Predictor` mit einer Methode\n",
    "\n",
    "```python\n",
    "predict(self, values: list[float]) -> float\n",
    "```\n",
    "\n",
    "Verwenden Sie das Strategy Pattern, um mindestens zwei verschiedene\n",
    "Vorhersage-Varianten zu ermöglichen:\n",
    "\n",
    "- Die Vorhersage ist der Mittelwert aller Werte aus `values`\n",
    "- Die Vorhersage ist der letzte Wert in `values` (oder 0, wenn `values` leer ist)"
   ]
  },
  {
   "cell_type": "code",
   "execution_count": null,
   "id": "a77d73d123570503",
   "metadata": {
    "slideshow": {
     "slide_type": "subslide"
    },
    "tags": [
     "subslide"
    ]
   },
   "outputs": [],
   "source": [
    "from abc import ABC, abstractmethod\n",
    "from statistics import mean"
   ]
  },
  {
   "cell_type": "code",
   "execution_count": null,
   "id": "a344ce7f7256918c",
   "metadata": {
    "tags": [
     "alt"
    ]
   },
   "outputs": [],
   "source": [
    "class PredictionStrategy(ABC):\n",
    "    @abstractmethod\n",
    "    def predict(self, values: list[float]) -> float: ..."
   ]
  },
  {
   "cell_type": "code",
   "execution_count": null,
   "id": "18617b9853dc642f",
   "metadata": {
    "tags": [
     "alt"
    ]
   },
   "outputs": [],
   "source": [
    "class LastValueStrategy(PredictionStrategy):\n",
    "    def predict(self, values: list[float]) -> float:\n",
    "        if values:\n",
    "            return values[-1]\n",
    "        else:\n",
    "            return 0.0"
   ]
  },
  {
   "cell_type": "code",
   "execution_count": null,
   "id": "7a4c74bce5072894",
   "metadata": {
    "tags": [
     "alt"
    ]
   },
   "outputs": [],
   "source": [
    "class MeanValueStrategy(PredictionStrategy):\n",
    "    def predict(self, values: list[float]) -> float:\n",
    "        return mean(values)"
   ]
  },
  {
   "cell_type": "code",
   "execution_count": null,
   "id": "8a49157a7b83db56",
   "metadata": {
    "tags": [
     "alt"
    ]
   },
   "outputs": [],
   "source": [
    "class Predictor:\n",
    "    def __init__(self, strategy=MeanValueStrategy()):\n",
    "        self.strategy: PredictionStrategy = strategy\n",
    "\n",
    "    def predict(self, values: list[float]) -> float:\n",
    "        return self.strategy.predict(values)"
   ]
  },
  {
   "cell_type": "code",
   "execution_count": null,
   "id": "795a21f970afc94f",
   "metadata": {
    "tags": [
     "alt"
    ]
   },
   "outputs": [],
   "source": [
    "p = Predictor()\n",
    "my_values = [1.0, 2.0, 3.0]"
   ]
  },
  {
   "cell_type": "code",
   "execution_count": null,
   "id": "94783679c761e433",
   "metadata": {
    "tags": [
     "alt"
    ]
   },
   "outputs": [],
   "source": [
    "print(f\"Default prediction: {p.predict(my_values)}\")"
   ]
  },
  {
   "cell_type": "code",
   "execution_count": null,
   "id": "d5e0a39261f38ada",
   "metadata": {
    "tags": [
     "alt"
    ]
   },
   "outputs": [],
   "source": [
    "p.strategy = LastValueStrategy()\n",
    "print(f\"Last value prediction: {p.predict(my_values)}\")"
   ]
  },
  {
   "cell_type": "code",
   "execution_count": null,
   "id": "f7a4ae4bf83f487a",
   "metadata": {
    "tags": [
     "alt"
    ]
   },
   "outputs": [],
   "source": [
    "p.strategy = MeanValueStrategy()\n",
    "print(f\"Mean value prediction: {p.predict(my_values)}\")"
   ]
  },
  {
   "cell_type": "code",
   "execution_count": null,
   "id": "e8cc46259d75dc05",
   "metadata": {
    "tags": [
     "alt"
    ]
   },
   "outputs": [],
   "source": [
    "from typing import Callable"
   ]
  },
  {
   "cell_type": "code",
   "execution_count": null,
   "id": "25023b3281f9cd00",
   "metadata": {
    "tags": [
     "alt"
    ]
   },
   "outputs": [],
   "source": [
    "class PredictorFun:\n",
    "    def __init__(self, strategy: Callable[[list[float]], float] = mean):\n",
    "        self.strategy = strategy\n",
    "\n",
    "    def predict(self, values: list[float]) -> float:\n",
    "        return self.strategy(values)"
   ]
  },
  {
   "cell_type": "code",
   "execution_count": null,
   "id": "d6a0d84056e2b5f3",
   "metadata": {
    "tags": [
     "alt"
    ]
   },
   "outputs": [],
   "source": [
    "p = PredictorFun()\n",
    "my_values = [1.0, 2.0, 3.0]"
   ]
  },
  {
   "cell_type": "code",
   "execution_count": null,
   "id": "af29bf3df1ac7368",
   "metadata": {
    "tags": [
     "alt"
    ]
   },
   "outputs": [],
   "source": [
    "print(f\"Default prediction: {p.predict(my_values)}\")"
   ]
  },
  {
   "cell_type": "code",
   "execution_count": null,
   "id": "a0850036347839f6",
   "metadata": {
    "tags": [
     "alt"
    ]
   },
   "outputs": [],
   "source": [
    "p.strategy = lambda values: values[-1] if values else 0.0\n",
    "print(f\"Last value prediction: {p.predict(my_values)}\")"
   ]
  },
  {
   "cell_type": "code",
   "execution_count": null,
   "id": "612042137e3954a7",
   "metadata": {
    "tags": [
     "alt"
    ]
   },
   "outputs": [],
   "source": [
    "p.strategy = mean\n",
    "print(f\"Mean value prediction: {p.predict(my_values)}\")"
   ]
  }
 ],
 "metadata": {
  "jupytext": {
   "cell_metadata_filter": "tags,lang,-all",
   "main_language": "python",
   "notebook_metadata_filter": "-all"
  },
  "kernelspec": {
   "display_name": "Python 3 (ipykernel)",
   "language": "python",
   "name": "python3"
  },
  "language_info": {
   "codemirror_mode": {
    "name": "ipython",
    "version": 3
   },
   "file_extension": ".py",
   "mimetype": "text/x-python",
   "name": "python",
   "nbconvert_exporter": "python",
   "pygments_lexer": "ipython3"
  }
 },
 "nbformat": 4,
 "nbformat_minor": 5
}
