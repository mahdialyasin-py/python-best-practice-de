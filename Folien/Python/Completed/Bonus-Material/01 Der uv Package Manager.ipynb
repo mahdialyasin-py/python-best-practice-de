{
 "cells": [
  {
   "cell_type": "markdown",
   "id": "789098976be89770",
   "metadata": {
    "lang": "de",
    "slideshow": {
     "slide_type": "slide"
    },
    "tags": [
     "slide"
    ]
   },
   "source": [
    "\n",
    "<img src=\"data:image/svg+xml;base64,PHN2ZyB4bWxucz0iaHR0cDovL3d3dy53My5vcmcvMjAwMC9zdmciIHhtbG5zOnhsaW5rPSJodHRw\n",
    "Oi8vd3d3LnczLm9yZy8xOTk5L3hsaW5rIiB3aWR0aD0iMTExLjE2MSIgaGVpZ2h0PSIxMzQuNjY4\n",
    "IiB2ZXJzaW9uPSIxLjAiPjxkZWZzPjxsaW5lYXJHcmFkaWVudCBpZD0iYyI+PHN0b3Agb2Zmc2V0\n",
    "PSIwIiBzdHlsZT0ic3RvcC1jb2xvcjojYjhiOGI4O3N0b3Atb3BhY2l0eTouNDk4MDM5MjIiLz48\n",
    "c3RvcCBvZmZzZXQ9IjEiIHN0eWxlPSJzdG9wLWNvbG9yOiM3ZjdmN2Y7c3RvcC1vcGFjaXR5OjAi\n",
    "Lz48L2xpbmVhckdyYWRpZW50PjxsaW5lYXJHcmFkaWVudCBpZD0iYSI+PHN0b3Agb2Zmc2V0PSIw\n",
    "IiBzdHlsZT0ic3RvcC1jb2xvcjojZmZkNDNiO3N0b3Atb3BhY2l0eToxIi8+PHN0b3Agb2Zmc2V0\n",
    "PSIxIiBzdHlsZT0ic3RvcC1jb2xvcjojZmZlODczO3N0b3Atb3BhY2l0eToxIi8+PC9saW5lYXJH\n",
    "cmFkaWVudD48bGluZWFyR3JhZGllbnQgaWQ9ImIiPjxzdG9wIG9mZnNldD0iMCIgc3R5bGU9InN0\n",
    "b3AtY29sb3I6IzVhOWZkNDtzdG9wLW9wYWNpdHk6MSIvPjxzdG9wIG9mZnNldD0iMSIgc3R5bGU9\n",
    "InN0b3AtY29sb3I6IzMwNjk5ODtzdG9wLW9wYWNpdHk6MSIvPjwvbGluZWFyR3JhZGllbnQ+PGxp\n",
    "bmVhckdyYWRpZW50IHhsaW5rOmhyZWY9IiNhIiBpZD0iZSIgeDE9IjE1MC45NjEiIHgyPSIxMTIu\n",
    "MDMxIiB5MT0iMTkyLjM1MiIgeTI9IjEzNy4yNzMiIGdyYWRpZW50VHJhbnNmb3JtPSJtYXRyaXgo\n",
    "LjU2MjU0IDAgMCAuNTY3OTcgLTE0Ljk5MSAtMTEuNzAyKSIgZ3JhZGllbnRVbml0cz0idXNlclNw\n",
    "YWNlT25Vc2UiLz48bGluZWFyR3JhZGllbnQgeGxpbms6aHJlZj0iI2IiIGlkPSJkIiB4MT0iMjYu\n",
    "NjQ5IiB4Mj0iMTM1LjY2NSIgeTE9IjIwLjYwNCIgeTI9IjExNC4zOTgiIGdyYWRpZW50VHJhbnNm\n",
    "b3JtPSJtYXRyaXgoLjU2MjU0IDAgMCAuNTY3OTcgLTE0Ljk5MSAtMTEuNzAyKSIgZ3JhZGllbnRV\n",
    "bml0cz0idXNlclNwYWNlT25Vc2UiLz48cmFkaWFsR3JhZGllbnQgeGxpbms6aHJlZj0iI2MiIGlk\n",
    "PSJmIiBjeD0iNjEuNTE5IiBjeT0iMTMyLjI4NiIgcj0iMjkuMDM3IiBmeD0iNjEuNTE5IiBmeT0i\n",
    "MTMyLjI4NiIgZ3JhZGllbnRUcmFuc2Zvcm09Im1hdHJpeCgwIC0uMjM5OTUgMS4wNTQ2NyAwIC04\n",
    "My43IDE0Mi40NjIpIiBncmFkaWVudFVuaXRzPSJ1c2VyU3BhY2VPblVzZSIvPjwvZGVmcz48cGF0\n",
    "aCBkPSJNNTQuOTE5IDBjLTQuNTg0LjAyMi04Ljk2MS40MTMtMTIuODEzIDEuMDk1QzMwLjc2IDMu\n",
    "MDk5IDI4LjcgNy4yOTUgMjguNyAxNS4wMzJ2MTAuMjE5aDI2LjgxM3YzLjQwNkgxOC42MzhjLTcu\n",
    "NzkzIDAtMTQuNjE2IDQuNjg0LTE2Ljc1IDEzLjU5NC0yLjQ2MiAxMC4yMTMtMi41NzEgMTYuNTg2\n",
    "IDAgMjcuMjUgMS45MDUgNy45MzggNi40NTcgMTMuNTk0IDE0LjI1IDEzLjU5NGg5LjIxOHYtMTIu\n",
    "MjVjMC04Ljg1IDcuNjU3LTE2LjY1NyAxNi43NS0xNi42NTdoMjYuNzgyYzcuNDU0IDAgMTMuNDA2\n",
    "LTYuMTM4IDEzLjQwNi0xMy42MjV2LTI1LjUzYzAtNy4yNjctNi4xMy0xMi43MjYtMTMuNDA2LTEz\n",
    "LjkzOEM2NC4yODIuMzI4IDU5LjUwMi0uMDIgNTQuOTE4IDBtLTE0LjUgOC4yMmMyLjc3IDAgNS4w\n",
    "MzEgMi4yOTggNS4wMzEgNS4xMjUgMCAyLjgxNi0yLjI2MiA1LjA5My01LjAzMSA1LjA5My0yLjc4\n",
    "IDAtNS4wMzEtMi4yNzctNS4wMzEtNS4wOTMgMC0yLjgyNyAyLjI1MS01LjEyNSA1LjAzLTUuMTI1\n",
    "IiBzdHlsZT0iZmlsbDp1cmwoI2QpO2ZpbGwtb3BhY2l0eToxIi8+PHBhdGggZD0iTTg1LjYzOCAy\n",
    "OC42NTd2MTEuOTA2YzAgOS4yMzEtNy44MjYgMTctMTYuNzUgMTdINDIuMTA2Yy03LjMzNiAwLTEz\n",
    "LjQwNiA2LjI3OS0xMy40MDYgMTMuNjI1Vjk2LjcyYzAgNy4yNjYgNi4zMTkgMTEuNTQgMTMuNDA2\n",
    "IDEzLjYyNSA4LjQ4OCAyLjQ5NSAxNi42MjcgMi45NDYgMjYuNzgyIDAgNi43NS0xLjk1NSAxMy40\n",
    "MDYtNS44ODggMTMuNDA2LTEzLjYyNVY4Ni41SDU1LjUxM3YtMy40MDVIOTUuN2M3Ljc5MyAwIDEw\n",
    "LjY5Ni01LjQzNiAxMy40MDYtMTMuNTk0IDIuOC04LjM5OSAyLjY4LTE2LjQ3NiAwLTI3LjI1LTEu\n",
    "OTI1LTcuNzU4LTUuNjA0LTEzLjU5NC0xMy40MDYtMTMuNTk0ek03MC41NzUgOTMuMzEzYzIuNzgg\n",
    "MCA1LjAzMSAyLjI3OCA1LjAzMSA1LjA5NCAwIDIuODI3LTIuMjUxIDUuMTI1LTUuMDMxIDUuMTI1\n",
    "LTIuNzcgMC01LjAzMS0yLjI5OC01LjAzMS01LjEyNSAwLTIuODE2IDIuMjYxLTUuMDk0IDUuMDMx\n",
    "LTUuMDk0IiBzdHlsZT0iZmlsbDp1cmwoI2UpO2ZpbGwtb3BhY2l0eToxIi8+PGVsbGlwc2UgY3g9\n",
    "IjU1LjgxNyIgY3k9IjEyNy43MDEiIHJ4PSIzNS45MzEiIHJ5PSI2Ljk2NyIgc3R5bGU9Im9wYWNp\n",
    "dHk6LjQ0MzgyO2ZpbGw6dXJsKCNmKTtmaWxsLW9wYWNpdHk6MTtmaWxsLXJ1bGU6bm9uemVybztz\n",
    "dHJva2U6bm9uZTtzdHJva2Utd2lkdGg6MTUuNDE3NDtzdHJva2UtbWl0ZXJsaW1pdDo0O3N0cm9r\n",
    "ZS1kYXNoYXJyYXk6bm9uZTtzdHJva2Utb3BhY2l0eToxIi8+PC9zdmc+\n",
    "\"\n",
    "     style=\"display:block;margin:auto;width:10%\" alt=\"Python Logo\"/>\n",
    "<br>\n",
    "\n",
    "<div style=\"text-align:center; font-size:200%;\">\n",
    " <b>Der uv Package Manager</b>\n",
    "</div>\n",
    "<br/>\n",
    "<div style=\"text-align:center;\">Dr. Matthias Hölzl</div>\n",
    "<br/>"
   ]
  },
  {
   "cell_type": "markdown",
   "id": "96c60331bed1eb12",
   "metadata": {
    "lang": "de",
    "slideshow": {
     "slide_type": "slide"
    },
    "tags": [
     "slide"
    ]
   },
   "source": [
    "\n",
    "# Der uv Package Manager\n",
    "\n",
    "- Ein moderner, schneller Package-Manager für Python\n",
    "- Entwickelt von Astral, dem Team hinter Ruff\n",
    "- Geschrieben in Rust für maximale Performanz\n",
    "- Zwei APIs: die moderne Project API und die kompatible pip API\n",
    "- Open-Source auf GitHub verfügbar"
   ]
  },
  {
   "cell_type": "markdown",
   "id": "0b94ef8ba74542b9",
   "metadata": {
    "lang": "de",
    "slideshow": {
     "slide_type": "slide"
    },
    "tags": [
     "slide"
    ]
   },
   "source": [
    "\n",
    "# Warum uv?\n",
    "\n",
    "- **Geschwindigkeit**: Deutlich schneller als bestehende Alternativen\n",
    "- **Moderne API**: Intuitive Befehle für Projektmanagement\n",
    "- **Kompatibilität**: Unterstützt pyproject.toml und requirements.txt\n",
    "- **Workspace-Unterstützung**: Ideal für Monorepos\n",
    "- **Determinismus**: Reproduzierbare Builds durch konsequentes\n",
    "  Dependency-Locking\n",
    "- **Vereinfachung**: Ersetzt mehrere Tools durch eine einzige Lösung"
   ]
  },
  {
   "cell_type": "markdown",
   "id": "8ec4e9d124a7104f",
   "metadata": {
    "lang": "de",
    "slideshow": {
     "slide_type": "subslide"
    },
    "tags": [
     "subslide"
    ]
   },
   "source": [
    "\n",
    "# uv vs. andere Package Manager\n",
    "\n",
    "| Feature | uv | pip | poetry | pipenv |\n",
    "|---------|----|----|--------|--------|\n",
    "| Geschwindigkeit | ★★★★★ | ★★ | ★★★ | ★★ |\n",
    "| Virtuelle Umgebungen | ✅ | ❌ (braucht venv) | ✅ | ✅ |\n",
    "| Dependency Resolution | ✅ | ✅ (langsam) | ✅ | ✅ |\n",
    "| Abhängigkeits-Locking | ✅ | ❌ (braucht pip-tools) | ✅ | ✅ |\n",
    "| Workspace Support | ✅ | ❌ | ✅ | ❌ |\n",
    "| pyproject.toml | ✅ | ✅ (begrenzt) | ✅ | ❌ |\n",
    "| requirements.txt | ✅ | ✅ | ❌ | ❌ |"
   ]
  },
  {
   "cell_type": "markdown",
   "id": "3139ce7f8b4921ca",
   "metadata": {
    "lang": "de",
    "slideshow": {
     "slide_type": "slide"
    },
    "tags": [
     "slide"
    ]
   },
   "source": [
    "\n",
    "# Installation von uv\n",
    "\n",
    "- **Linux/macOS**:\n",
    "  ```bash\n",
    "  curl -LsSf https://astral.sh/uv/install.sh | sh\n",
    "  ```\n",
    "\n",
    "- **Windows** (PowerShell):\n",
    "  ```powershell\n",
    "  irm https://astral.sh/uv/install.ps1 | iex\n",
    "  ```\n",
    "\n",
    "- **Mit pip** (alle Betriebssysteme):\n",
    "  ```bash\n",
    "  pip install uv\n",
    "  ```"
   ]
  },
  {
   "cell_type": "markdown",
   "id": "02504054e30452e6",
   "metadata": {
    "lang": "de",
    "slideshow": {
     "slide_type": "slide"
    },
    "tags": [
     "slide"
    ]
   },
   "source": [
    "\n",
    "# Virtuelle Umgebungen mit uv\n",
    "\n",
    "- Erzeugen einer neuen virtuellen Umgebung:\n",
    "  ```bash\n",
    "  uv venv\n",
    "  ```\n",
    "\n",
    "- Mit spezifischem Python-Interpreter:\n",
    "  ```bash\n",
    "  uv venv --python=python3.11\n",
    "  ```\n",
    "\n",
    "- Aktivieren (je nach Shell unterschiedlich):\n",
    "  ```bash\n",
    "  # Bash/Zsh\n",
    "  source .venv/bin/activate\n",
    "  # Windows PowerShell\n",
    "  .venv\\Scripts\\Activate.ps1\n",
    "  ```"
   ]
  },
  {
   "cell_type": "markdown",
   "id": "fe887221e26d383e",
   "metadata": {
    "lang": "de",
    "slideshow": {
     "slide_type": "subslide"
    },
    "tags": [
     "subslide"
    ]
   },
   "source": [
    "\n",
    "## Installation von Python Versionen\n",
    "\n",
    "- Neueste Python version:\n",
    "  ```bash\n",
    "  uv python install\n",
    "  ```\n",
    "- Spezifische Version:\n",
    "  ```bash\n",
    "  uv python install 3.12\n",
    "  ```"
   ]
  },
  {
   "cell_type": "markdown",
   "id": "9065e0681a3f05f6",
   "metadata": {
    "lang": "de",
    "slideshow": {
     "slide_type": "slide"
    },
    "tags": [
     "slide"
    ]
   },
   "source": [
    "\n",
    "# uv Project API - Grundlagen\n",
    "\n",
    "- Moderne API für Python-Projekte mit `pyproject.toml`\n",
    "- Abhängigkeiten hinzufügen:\n",
    "  ```bash\n",
    "  uv add numpy pandas\n",
    "  ```\n",
    "- Entwicklungsabhängigkeiten hinzufügen:\n",
    "  ```bash\n",
    "  uv add --dev pytest black mypy\n",
    "  ```\n",
    "- Ausführen der Tests\n",
    "  ```bash\n",
    "  uv run pytest\n",
    "  ```"
   ]
  },
  {
   "cell_type": "markdown",
   "id": "7c1e0b10ab7f0a35",
   "metadata": {
    "lang": "de",
    "slideshow": {
     "slide_type": "subslide"
    },
    "tags": [
     "subslide"
    ]
   },
   "source": [
    "\n",
    "## Neues Projekt mit uv erstellen\n",
    "\n",
    "- Einfaches Modul\n",
    "  ```bash\n",
    "  uv init my-project\n",
    "  ```\n",
    "- Package mit ausführbarem Skript\n",
    "  ```\n",
    "  uv init --package --app my-package\n",
    "  ````"
   ]
  },
  {
   "cell_type": "markdown",
   "id": "87706619bd7df414",
   "metadata": {
    "lang": "de",
    "lines_to_next_cell": 2,
    "slideshow": {
     "slide_type": "slide"
    },
    "tags": [
     "slide"
    ]
   },
   "source": [
    "\n",
    "# Projektabhängigkeiten mit Project API\n",
    "\n",
    "- **Hauptabhängigkeiten hinzufügen**:\n",
    "  ```bash\n",
    "  uv add numpy pandas matplotlib\n",
    "  ```\n",
    "\n",
    "- **Entwicklungsabhängigkeiten hinzufügen**:\n",
    "  ```bash\n",
    "  uv add --dev pytest black mypy\n",
    "  ```\n",
    "\n",
    "- **Mit Versionsbeschränkungen**:\n",
    "  ```bash\n",
    "  uv add \"numpy>=1.20.0\" \"pandas>=1.3.0,<2.0.0\"\n",
    "  ```"
   ]
  },
  {
   "cell_type": "markdown",
   "id": "590dd390ef923a25",
   "metadata": {
    "lang": "de",
    "slideshow": {
     "slide_type": "slide"
    },
    "tags": [
     "slide"
    ]
   },
   "source": [
    "\n",
    "# Abhängigkeiten verwalten mit Project API\n",
    "\n",
    "- **Abhängigkeiten synchronisieren** (installieren/aktualisieren):\n",
    "  ```bash\n",
    "  uv sync\n",
    "  ```\n",
    "\n",
    "- **Abhängigkeiten locken** (automatisch mit `uv run`):\n",
    "  ```bash\n",
    "  uv lock\n",
    "  ```\n",
    "\n",
    "- **Installation ohne Lockfile upzudaten (Fehler falls inkompatibel)**:\n",
    "  ```bash\n",
    "  uv sync --locked\n",
    "  ```"
   ]
  },
  {
   "cell_type": "markdown",
   "id": "b603d4643940b871",
   "metadata": {
    "lang": "de",
    "slideshow": {
     "slide_type": "slide"
    },
    "tags": [
     "slide"
    ]
   },
   "source": [
    "\n",
    "# Befehle ausführen mit uv run\n",
    "\n",
    "- **Python-Script ausführen**:\n",
    "  ```bash\n",
    "  uv run python script.py\n",
    "  ```\n",
    "\n",
    "- **Installierte Tools ausführen**:\n",
    "  ```bash\n",
    "  uv run --dev pytest\n",
    "  uv run --dev black .\n",
    "  ```\n",
    "\n",
    "- **Mit zusätzlichen Argumenten**:\n",
    "  ```bash\n",
    "  uv run pytest -xvs tests/\n",
    "  ```"
   ]
  },
  {
   "cell_type": "markdown",
   "id": "50452122b7be0091",
   "metadata": {
    "lang": "de",
    "slideshow": {
     "slide_type": "subslide"
    },
    "tags": [
     "subslide"
    ]
   },
   "source": [
    "\n",
    "# Editable Installationen und Workspaces\n",
    "\n",
    "- **Editable Installation einer Abhängigkeit**:\n",
    "  ```bash\n",
    "  uv add --editable ./my-local-package/\n",
    "  ```"
   ]
  },
  {
   "cell_type": "markdown",
   "id": "6e79bb07ea15abf2",
   "metadata": {
    "lang": "de",
    "slideshow": {
     "slide_type": "subslide"
    },
    "tags": [
     "subslide"
    ]
   },
   "source": [
    "\n",
    "- **Workspace-Konfiguration** (pyproject.toml):\n",
    "  ```toml\n",
    "  [project]\n",
    "  name = \"my-app-bundle\"\n",
    "  dependencies = [\"my-libraries\"]\n",
    "  [tool.uv.sources]\n",
    "  my-libraries = { workspace = true }\n",
    "  [tool.uv.workspace]\n",
    "  members = [\"packages/*\"]\n",
    "  ```"
   ]
  },
  {
   "cell_type": "markdown",
   "id": "1c37c60ee0364fe1",
   "metadata": {
    "lang": "de",
    "slideshow": {
     "slide_type": "subslide"
    },
    "tags": [
     "subslide"
    ]
   },
   "source": [
    "\n",
    "# Die pip API - für besondere Fälle\n",
    "\n",
    "- Kompatible API für bestehende Projekte ohne pyproject.toml\n",
    "- **Paket installieren**:\n",
    "  ```bash\n",
    "  uv pip install numpy\n",
    "  ```\n",
    "\n",
    "- **Pakete aus einer requirements.txt installieren**:\n",
    "  ```bash\n",
    "  uv pip install -r requirements.txt\n",
    "  ```\n",
    "\n",
    "- **Paketinformationen anzeigen**:\n",
    "  ```bash\n",
    "  uv pip show numpy\n",
    "  ```"
   ]
  },
  {
   "cell_type": "markdown",
   "id": "dc089f2523ccf0d9",
   "metadata": {
    "lang": "de",
    "slideshow": {
     "slide_type": "slide"
    },
    "tags": [
     "slide"
    ]
   },
   "source": [
    "\n",
    "# Projekt entwickeln und publizieren\n",
    "\n",
    "- **Tests ausführen**:\n",
    "  ```bash\n",
    "  uv run pytest\n",
    "  ```\n",
    "\n",
    "- **Code formatieren**:\n",
    "  ```bash\n",
    "  uv run black .\n",
    "  ```\n",
    "\n",
    "- **Build-Abhängigkeiten installieren**:\n",
    "  ```bash\n",
    "  uv add --dev build twine\n",
    "  ```\n",
    "\n",
    "- **Paket bauen und publizieren**:\n",
    "  ```bash\n",
    "  uv run build\n",
    "  uv run twine upload dist/*\n",
    "  ```"
   ]
  },
  {
   "cell_type": "markdown",
   "id": "0dcae3c4afff2950",
   "metadata": {
    "lang": "de",
    "slideshow": {
     "slide_type": "slide"
    },
    "tags": [
     "slide"
    ]
   },
   "source": [
    "\n",
    "# Fazit: Vorteile von uv\n",
    "\n",
    "- **Geschwindigkeit**: Drastisch schnellere Installation und Abhängigkeitsauflösung\n",
    "- **Moderne API**: Intuitive Project API für effizientes Projektmanagement\n",
    "- **Workspaces**: Unterstützung für Monorepos mit mehreren Paketen\n",
    "- **Dual-API**: Modern (Project API) und kompatibel (pip API)\n",
    "- **Determinismus**: Zuverlässiges Dependency-Locking für reproduzierbare Builds\n",
    "- **Entwicklerfreundlich**: `uv run` für einfache Befehlsausführung"
   ]
  },
  {
   "cell_type": "markdown",
   "id": "5569642fe61ebb75",
   "metadata": {
    "lang": "de",
    "slideshow": {
     "slide_type": "subslide"
    },
    "tags": [
     "subslide"
    ]
   },
   "source": [
    "\n",
    "# Wann sollten Sie uv verwenden?\n",
    "\n",
    "- Bei neuen Projekten mit pyproject.toml\n",
    "- In Monorepos mit mehreren Python-Paketen\n",
    "- Für schnellere CI/CD-Pipelines\n",
    "- Wenn Sie von pip auf ein moderneres Tool umsteigen möchten\n",
    "- Bei großen Projekten mit vielen Abhängigkeiten\n",
    "- Wenn Sie Wert auf reproduzierbare Builds legen"
   ]
  },
  {
   "cell_type": "markdown",
   "id": "a2b51912c36b06b2",
   "metadata": {
    "lang": "de",
    "slideshow": {
     "slide_type": "slide"
    },
    "tags": [
     "slide"
    ]
   },
   "source": [
    "\n",
    "# Ressourcen\n",
    "\n",
    "- [Offizielle uv-Dokumentation](https://docs.astral.sh/uv/)\n",
    "- [GitHub Repository](https://github.com/astral-sh/uv)\n",
    "- [uv vs. andere Package Manager-Benchmarks](https://astral.sh/blog/uv)\n",
    "- [Python Packaging User Guide](https://packaging.python.org)\n",
    "- [PEP 621 – Metadaten in pyproject.toml](https://peps.python.org/pep-0621)\n",
    "- [uv Tech Talk (Jane Street)](https://www.janestreet.com/tech-talks/uv-an-extremely-fast-python-package-manager/)"
   ]
  }
 ],
 "metadata": {
  "jupytext": {
   "cell_metadata_filter": "lang,tags,-all",
   "main_language": "python",
   "notebook_metadata_filter": "-all"
  },
  "kernelspec": {
   "display_name": "Python 3 (ipykernel)",
   "language": "python",
   "name": "python3"
  },
  "language_info": {
   "codemirror_mode": {
    "name": "ipython",
    "version": 3
   },
   "file_extension": ".py",
   "mimetype": "text/x-python",
   "name": "python",
   "nbconvert_exporter": "python",
   "pygments_lexer": "ipython3"
  }
 },
 "nbformat": 4,
 "nbformat_minor": 5
}
